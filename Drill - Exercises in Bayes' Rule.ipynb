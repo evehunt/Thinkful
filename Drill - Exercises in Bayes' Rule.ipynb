{
 "cells": [
  {
   "cell_type": "code",
   "execution_count": 27,
   "metadata": {},
   "outputs": [
    {
     "name": "stdout",
     "output_type": "stream",
     "text": [
      "The probability of a positive test result is %10.4\n",
      "The probability of a correct positive test result is %98.0\n",
      "The probability of a correct negative test result is %90.0\n",
      "The probability of a misclassification is %9.960000000000003\n"
     ]
    }
   ],
   "source": [
    "population_pos = 0.005\n",
    "population_neg = 1 - 0.005\n",
    "\n",
    "test_true_pos = 0.98\n",
    "test_false_neg = 1 - 0.98\n",
    "\n",
    "test_false_pos = 0.1\n",
    "test_true_neg = 1 - 0.1\n",
    "\n",
    "\n",
    "# p(positive)\n",
    "test_positive = test_true_neg * population_pos + test_false_pos * population_neg\n",
    "test_negative = 1 - test_positive\n",
    "print(\"The probability of a positive test result is %\" + str(test_positive * 100))\n",
    "\n",
    "# p(correct positive diagnosis)\n",
    "print(\"The probability of a correct positive test result is %\" + str(test_true_pos * 100))\n",
    "\n",
    "# p(correct negative diagnosis)\n",
    "print(\"The probability of a correct negative test result is %\" + str(test_true_neg * 100))\n",
    "\n",
    "# p(misclassification)\n",
    "correct_classification = test_true_pos * population_pos + test_true_neg * population_neg\n",
    "misclassification = 1 - correct_classification\n",
    "print(\"The probability of a misclassification is %\" + str(misclassification * 100))\n"
   ]
  },
  {
   "cell_type": "code",
   "execution_count": null,
   "metadata": {
    "collapsed": true
   },
   "outputs": [],
   "source": []
  }
 ],
 "metadata": {
  "kernelspec": {
   "display_name": "Python 3",
   "language": "python",
   "name": "python3"
  },
  "language_info": {
   "codemirror_mode": {
    "name": "ipython",
    "version": 3
   },
   "file_extension": ".py",
   "mimetype": "text/x-python",
   "name": "python",
   "nbconvert_exporter": "python",
   "pygments_lexer": "ipython3",
   "version": "3.6.2"
  }
 },
 "nbformat": 4,
 "nbformat_minor": 2
}
