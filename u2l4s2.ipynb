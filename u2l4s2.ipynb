{
 "cells": [
  {
   "cell_type": "code",
   "execution_count": null,
   "metadata": {
    "collapsed": true
   },
   "outputs": [],
   "source": [
    "import re\n",
    "\n",
    "import pandas as pd\n",
    "pd.options.display.max_rows = 999\n",
    "\n",
    "import matplotlib.pyplot as plt\n",
    "import seaborn as sns\n",
    "from scipy.stats import mstats\n",
    "\n",
    "sns.set_style(\"whitegrid\")"
   ]
  },
  {
   "cell_type": "code",
   "execution_count": null,
   "metadata": {
    "collapsed": true
   },
   "outputs": [],
   "source": [
    "crime = pd.read_csv('/Users/guest/Dropbox/Education/Thinkful/Unit 2/L4 - Linear Regression/NEW_YORK-Offenses_Known_to_Law_Enforcement_by_City_2013 - 13tbl8ny.csv',\n",
    "                    header=4,\n",
    "                    skipfooter = 3,\n",
    "                    engine='python',\n",
    "                    warn_bad_lines = True,\n",
    "                    skip_blank_lines = True,\n",
    "                   encoding=\"utf-8\")"
   ]
  },
  {
   "cell_type": "markdown",
   "metadata": {},
   "source": [
    "### Cleaning the data"
   ]
  },
  {
   "cell_type": "code",
   "execution_count": null,
   "metadata": {
    "collapsed": true
   },
   "outputs": [],
   "source": [
    "# Tidy up the column names\n",
    "crime.columns = crime.columns.str.strip().str.lower()\n",
    "\n",
    "replacement_definitions = {' ':'_', \n",
    "                           '(':'',\n",
    "                           ')':'',\n",
    "                           '\\n':'_',\n",
    "                           '3':'',\n",
    "                           '-':''}\n",
    "for definition in replacement_definitions:\n",
    "    crime.columns = crime.columns.str.replace(definition,replacement_definitions[definition])\n",
    "    \n",
    "# Set crime as the index\n",
    "crime = crime.set_index('city')\n",
    "    \n",
    "# Replace nans with 0s\n",
    "crime = crime.fillna(value=0)\n",
    "\n",
    "# Convert all values to floats\n",
    "for col in crime.columns:\n",
    "    try:\n",
    "        crime[col] = crime[col].apply(lambda x: float(x.replace(',', '')))\n",
    "    except:\n",
    "        crime[col] = crime[col].apply(lambda x: float(x))"
   ]
  },
  {
   "cell_type": "code",
   "execution_count": null,
   "metadata": {
    "collapsed": true
   },
   "outputs": [],
   "source": [
    "# Rape – revised definition is empty. Get rid of it!\n",
    "crime['rape'] = crime['rape_legacy_definition2']\n",
    "crime = crime.drop(['rape_revised_definition1', 'rape_legacy_definition2'], axis='columns')"
   ]
  },
  {
   "cell_type": "code",
   "execution_count": null,
   "metadata": {},
   "outputs": [],
   "source": [
    "crime.describe()"
   ]
  },
  {
   "cell_type": "markdown",
   "metadata": {},
   "source": [
    "__Everything has ridiculously high variance – I'm going to look for outliers.__"
   ]
  },
  {
   "cell_type": "code",
   "execution_count": null,
   "metadata": {
    "collapsed": true
   },
   "outputs": [],
   "source": [
    "def describe_outliers(frame):\n",
    "    for variable in list(frame):\n",
    "        var_mean = frame[variable].mean()\n",
    "        var_std = frame[variable].std()\n",
    "\n",
    "        lower = var_mean - var_std * 2\n",
    "        upper = var_mean + var_std * 2\n",
    "\n",
    "        low_outliers = frame.loc[(frame[variable] < lower)][[variable]]\n",
    "        high_outliers = frame.loc[(frame[variable] > upper)][[variable]]\n",
    "\n",
    "        print('\\n{} outliers:'.format(variable))\n",
    "        if not low_outliers.empty:\n",
    "            print(low_outliers)\n",
    "        if not high_outliers.empty:\n",
    "            print(high_outliers)"
   ]
  },
  {
   "cell_type": "code",
   "execution_count": null,
   "metadata": {},
   "outputs": [],
   "source": [
    "continuous_variables = ['population', 'property_crime']\n",
    "\n",
    "for var in continuous_variables:\n",
    "    sns.boxplot(crime[var])\n",
    "    plt.show()"
   ]
  },
  {
   "cell_type": "markdown",
   "metadata": {},
   "source": [
    "__There are some troublesome outliers (most notably NYC); I'm going to limit their influence by winsorizing the data.__"
   ]
  },
  {
   "cell_type": "code",
   "execution_count": null,
   "metadata": {},
   "outputs": [],
   "source": [
    "crime['population_wins'] = mstats.winsorize(crime['population'], limits= 0.05)\n",
    "crime['property_crime_wins'] = mstats.winsorize(crime['property_crime'], limits= 0.05)"
   ]
  },
  {
   "cell_type": "code",
   "execution_count": null,
   "metadata": {},
   "outputs": [],
   "source": [
    "continuous_variables = ['population_wins', 'property_crime_wins']\n",
    "\n",
    "for var in continuous_variables:\n",
    "    sns.boxplot(crime[var])\n",
    "    plt.show()"
   ]
  },
  {
   "cell_type": "markdown",
   "metadata": {},
   "source": [
    "This looks much, much better to me."
   ]
  },
  {
   "cell_type": "markdown",
   "metadata": {},
   "source": [
    "### Recoding to specification\n",
    "\n",
    "$ Property crime = \\alpha + Population + Population^2 + Murder + Robbery$\n"
   ]
  },
  {
   "cell_type": "code",
   "execution_count": null,
   "metadata": {
    "collapsed": true
   },
   "outputs": [],
   "source": [
    "# Create a function that will transform murder and robbery from continuous to categorical variables.\n",
    "\n",
    "def cont_to_cat(x):\n",
    "    if x > 0:\n",
    "        return 1\n",
    "    else:\n",
    "        return 0"
   ]
  },
  {
   "cell_type": "code",
   "execution_count": null,
   "metadata": {
    "collapsed": true
   },
   "outputs": [],
   "source": [
    "# Population^2\n",
    "crime['population_sq'] = crime['population_wins'] ** 2\n",
    "\n",
    "# Murder\n",
    "crime['murder_cat'] = crime['murder_and_nonnegligent_manslaughter'].apply(cont_to_cat)\n",
    "\n",
    "# Robbery\n",
    "crime['robbery_cat'] = crime['robbery'].apply(cont_to_cat)"
   ]
  },
  {
   "cell_type": "code",
   "execution_count": null,
   "metadata": {
    "collapsed": true
   },
   "outputs": [],
   "source": [
    "crime_clean = crime[['population_wins', 'population_sq', 'murder_cat', 'robbery_cat', 'property_crime']]"
   ]
  },
  {
   "cell_type": "code",
   "execution_count": null,
   "metadata": {},
   "outputs": [],
   "source": [
    "crime_clean.head()"
   ]
  },
  {
   "cell_type": "code",
   "execution_count": null,
   "metadata": {
    "collapsed": true
   },
   "outputs": [],
   "source": []
  }
 ],
 "metadata": {
  "kernelspec": {
   "display_name": "Python 3",
   "language": "python",
   "name": "python3"
  },
  "language_info": {
   "codemirror_mode": {
    "name": "ipython",
    "version": 3
   },
   "file_extension": ".py",
   "mimetype": "text/x-python",
   "name": "python",
   "nbconvert_exporter": "python",
   "pygments_lexer": "ipython3",
   "version": "3.6.2"
  }
 },
 "nbformat": 4,
 "nbformat_minor": 2
}
