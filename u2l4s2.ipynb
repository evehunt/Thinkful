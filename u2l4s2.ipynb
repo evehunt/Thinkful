{
 "cells": [
  {
   "cell_type": "code",
   "execution_count": 1,
   "metadata": {
    "collapsed": true
   },
   "outputs": [],
   "source": [
    "import re\n",
    "\n",
    "import pandas as pd\n",
    "pd.options.display.max_rows = 999\n",
    "\n",
    "import matplotlib.pyplot as plt\n",
    "import seaborn as sns\n",
    "from scipy.stats import mstats\n",
    "\n",
    "sns.set_style(\"whitegrid\")"
   ]
  },
  {
   "cell_type": "code",
   "execution_count": 2,
   "metadata": {
    "collapsed": true
   },
   "outputs": [],
   "source": [
    "crime = pd.read_csv('/Users/guest/Dropbox/Education/Thinkful/Unit 2/L4 - Linear Regression/NEW_YORK-Offenses_Known_to_Law_Enforcement_by_City_2013 - 13tbl8ny.csv',\n",
    "                    header=4,\n",
    "                    skipfooter = 3,\n",
    "                    engine='python',\n",
    "                    warn_bad_lines = True,\n",
    "                    skip_blank_lines = True,\n",
    "                   encoding=\"utf-8\")"
   ]
  },
  {
   "cell_type": "markdown",
   "metadata": {},
   "source": [
    "### Cleaning the data"
   ]
  },
  {
   "cell_type": "code",
   "execution_count": 3,
   "metadata": {
    "collapsed": true
   },
   "outputs": [],
   "source": [
    "# Tidy up the column names\n",
    "crime.columns = crime.columns.str.strip().str.lower()\n",
    "\n",
    "replacement_definitions = {' ':'_', \n",
    "                           '(':'',\n",
    "                           ')':'',\n",
    "                           '\\n':'_',\n",
    "                           '3':'',\n",
    "                           '-':''}\n",
    "for definition in replacement_definitions:\n",
    "    crime.columns = crime.columns.str.replace(definition,replacement_definitions[definition])\n",
    "    \n",
    "# Set crime as the index\n",
    "crime = crime.set_index('city')\n",
    "    \n",
    "# Replace nans with 0s\n",
    "crime = crime.fillna(value=0)\n",
    "\n",
    "# Convert all values to floats\n",
    "for col in crime.columns:\n",
    "    try:\n",
    "        crime[col] = crime[col].apply(lambda x: float(x.replace(',', '')))\n",
    "    except:\n",
    "        crime[col] = crime[col].apply(lambda x: float(x))"
   ]
  },
  {
   "cell_type": "code",
   "execution_count": 4,
   "metadata": {
    "collapsed": true
   },
   "outputs": [],
   "source": [
    "# Rape – revised definition is empty. Get rid of it!\n",
    "crime['rape'] = crime['rape_legacy_definition2']\n",
    "crime = crime.drop(['rape_revised_definition1', 'rape_legacy_definition2'], axis='columns')"
   ]
  },
  {
   "cell_type": "code",
   "execution_count": 5,
   "metadata": {},
   "outputs": [
    {
     "data": {
      "text/html": [
       "<div>\n",
       "<style>\n",
       "    .dataframe thead tr:only-child th {\n",
       "        text-align: right;\n",
       "    }\n",
       "\n",
       "    .dataframe thead th {\n",
       "        text-align: left;\n",
       "    }\n",
       "\n",
       "    .dataframe tbody tr th {\n",
       "        vertical-align: top;\n",
       "    }\n",
       "</style>\n",
       "<table border=\"1\" class=\"dataframe\">\n",
       "  <thead>\n",
       "    <tr style=\"text-align: right;\">\n",
       "      <th></th>\n",
       "      <th>population</th>\n",
       "      <th>violent_crime</th>\n",
       "      <th>murder_and_nonnegligent_manslaughter</th>\n",
       "      <th>robbery</th>\n",
       "      <th>aggravated_assault</th>\n",
       "      <th>property_crime</th>\n",
       "      <th>burglary</th>\n",
       "      <th>larceny_theft</th>\n",
       "      <th>motor_vehicle_theft</th>\n",
       "      <th>arson</th>\n",
       "      <th>rape</th>\n",
       "    </tr>\n",
       "  </thead>\n",
       "  <tbody>\n",
       "    <tr>\n",
       "      <th>count</th>\n",
       "      <td>3.480000e+02</td>\n",
       "      <td>348.000000</td>\n",
       "      <td>348.000000</td>\n",
       "      <td>348.000000</td>\n",
       "      <td>348.000000</td>\n",
       "      <td>348.000000</td>\n",
       "      <td>348.000000</td>\n",
       "      <td>348.000000</td>\n",
       "      <td>348.000000</td>\n",
       "      <td>348.000000</td>\n",
       "      <td>348.000000</td>\n",
       "    </tr>\n",
       "    <tr>\n",
       "      <th>mean</th>\n",
       "      <td>4.003763e+04</td>\n",
       "      <td>201.594828</td>\n",
       "      <td>1.566092</td>\n",
       "      <td>72.902299</td>\n",
       "      <td>121.261494</td>\n",
       "      <td>792.606322</td>\n",
       "      <td>119.683908</td>\n",
       "      <td>637.017241</td>\n",
       "      <td>35.905172</td>\n",
       "      <td>1.005747</td>\n",
       "      <td>5.864943</td>\n",
       "    </tr>\n",
       "    <tr>\n",
       "      <th>std</th>\n",
       "      <td>4.500374e+05</td>\n",
       "      <td>2815.268504</td>\n",
       "      <td>18.303673</td>\n",
       "      <td>1031.032873</td>\n",
       "      <td>1706.131730</td>\n",
       "      <td>7659.724746</td>\n",
       "      <td>924.948789</td>\n",
       "      <td>6346.054451</td>\n",
       "      <td>403.423826</td>\n",
       "      <td>7.884612</td>\n",
       "      <td>60.425452</td>\n",
       "    </tr>\n",
       "    <tr>\n",
       "      <th>min</th>\n",
       "      <td>5.260000e+02</td>\n",
       "      <td>0.000000</td>\n",
       "      <td>0.000000</td>\n",
       "      <td>0.000000</td>\n",
       "      <td>0.000000</td>\n",
       "      <td>0.000000</td>\n",
       "      <td>0.000000</td>\n",
       "      <td>0.000000</td>\n",
       "      <td>0.000000</td>\n",
       "      <td>0.000000</td>\n",
       "      <td>0.000000</td>\n",
       "    </tr>\n",
       "    <tr>\n",
       "      <th>25%</th>\n",
       "      <td>3.003000e+03</td>\n",
       "      <td>2.000000</td>\n",
       "      <td>0.000000</td>\n",
       "      <td>0.000000</td>\n",
       "      <td>1.000000</td>\n",
       "      <td>40.500000</td>\n",
       "      <td>6.000000</td>\n",
       "      <td>31.000000</td>\n",
       "      <td>0.000000</td>\n",
       "      <td>0.000000</td>\n",
       "      <td>0.000000</td>\n",
       "    </tr>\n",
       "    <tr>\n",
       "      <th>50%</th>\n",
       "      <td>7.233500e+03</td>\n",
       "      <td>6.000000</td>\n",
       "      <td>0.000000</td>\n",
       "      <td>1.000000</td>\n",
       "      <td>4.000000</td>\n",
       "      <td>112.500000</td>\n",
       "      <td>17.500000</td>\n",
       "      <td>94.000000</td>\n",
       "      <td>2.000000</td>\n",
       "      <td>0.000000</td>\n",
       "      <td>0.000000</td>\n",
       "    </tr>\n",
       "    <tr>\n",
       "      <th>75%</th>\n",
       "      <td>1.842750e+04</td>\n",
       "      <td>22.000000</td>\n",
       "      <td>0.000000</td>\n",
       "      <td>5.000000</td>\n",
       "      <td>14.000000</td>\n",
       "      <td>341.000000</td>\n",
       "      <td>51.250000</td>\n",
       "      <td>287.250000</td>\n",
       "      <td>7.000000</td>\n",
       "      <td>0.000000</td>\n",
       "      <td>2.000000</td>\n",
       "    </tr>\n",
       "    <tr>\n",
       "      <th>max</th>\n",
       "      <td>8.396126e+06</td>\n",
       "      <td>52384.000000</td>\n",
       "      <td>335.000000</td>\n",
       "      <td>19170.000000</td>\n",
       "      <td>31767.000000</td>\n",
       "      <td>141971.000000</td>\n",
       "      <td>16606.000000</td>\n",
       "      <td>117931.000000</td>\n",
       "      <td>7434.000000</td>\n",
       "      <td>132.000000</td>\n",
       "      <td>1112.000000</td>\n",
       "    </tr>\n",
       "  </tbody>\n",
       "</table>\n",
       "</div>"
      ],
      "text/plain": [
       "         population  violent_crime  murder_and_nonnegligent_manslaughter  \\\n",
       "count  3.480000e+02     348.000000                            348.000000   \n",
       "mean   4.003763e+04     201.594828                              1.566092   \n",
       "std    4.500374e+05    2815.268504                             18.303673   \n",
       "min    5.260000e+02       0.000000                              0.000000   \n",
       "25%    3.003000e+03       2.000000                              0.000000   \n",
       "50%    7.233500e+03       6.000000                              0.000000   \n",
       "75%    1.842750e+04      22.000000                              0.000000   \n",
       "max    8.396126e+06   52384.000000                            335.000000   \n",
       "\n",
       "            robbery  aggravated_assault  property_crime      burglary  \\\n",
       "count    348.000000          348.000000      348.000000    348.000000   \n",
       "mean      72.902299          121.261494      792.606322    119.683908   \n",
       "std     1031.032873         1706.131730     7659.724746    924.948789   \n",
       "min        0.000000            0.000000        0.000000      0.000000   \n",
       "25%        0.000000            1.000000       40.500000      6.000000   \n",
       "50%        1.000000            4.000000      112.500000     17.500000   \n",
       "75%        5.000000           14.000000      341.000000     51.250000   \n",
       "max    19170.000000        31767.000000   141971.000000  16606.000000   \n",
       "\n",
       "       larceny_theft  motor_vehicle_theft       arson         rape  \n",
       "count     348.000000           348.000000  348.000000   348.000000  \n",
       "mean      637.017241            35.905172    1.005747     5.864943  \n",
       "std      6346.054451           403.423826    7.884612    60.425452  \n",
       "min         0.000000             0.000000    0.000000     0.000000  \n",
       "25%        31.000000             0.000000    0.000000     0.000000  \n",
       "50%        94.000000             2.000000    0.000000     0.000000  \n",
       "75%       287.250000             7.000000    0.000000     2.000000  \n",
       "max    117931.000000          7434.000000  132.000000  1112.000000  "
      ]
     },
     "execution_count": 5,
     "metadata": {},
     "output_type": "execute_result"
    }
   ],
   "source": [
    "crime.describe()"
   ]
  },
  {
   "cell_type": "markdown",
   "metadata": {},
   "source": [
    "__Everything has ridiculously high variance – I'm going to look for outliers.__"
   ]
  },
  {
   "cell_type": "code",
   "execution_count": 6,
   "metadata": {
    "collapsed": true
   },
   "outputs": [],
   "source": [
    "def describe_outliers(frame):\n",
    "    for variable in list(frame):\n",
    "        var_mean = frame[variable].mean()\n",
    "        var_std = frame[variable].std()\n",
    "\n",
    "        lower = var_mean - var_std * 2\n",
    "        upper = var_mean + var_std * 2\n",
    "\n",
    "        low_outliers = frame.loc[(frame[variable] < lower)][[variable]]\n",
    "        high_outliers = frame.loc[(frame[variable] > upper)][[variable]]\n",
    "\n",
    "        print('\\n{} outliers:'.format(variable))\n",
    "        if not low_outliers.empty:\n",
    "            print(low_outliers)\n",
    "        if not high_outliers.empty:\n",
    "            print(high_outliers)"
   ]
  },
  {
   "cell_type": "code",
   "execution_count": 7,
   "metadata": {},
   "outputs": [
    {
     "data": {
      "image/png": "[encoded data removed]",
      "text/plain": [
       "<matplotlib.figure.Figure at 0x10a3b32e8>"
      ]
     },
     "metadata": {},
     "output_type": "display_data"
    },
    {
     "data": {
      "image/png": "[encoded data removed]",
      "text/plain": [
       "<matplotlib.figure.Figure at 0x10a3b5b70>"
      ]
     },
     "metadata": {},
     "output_type": "display_data"
    }
   ],
   "source": [
    "continuous_variables = ['population', 'property_crime']\n",
    "\n",
    "for var in continuous_variables:\n",
    "    sns.boxplot(crime[var])\n",
    "    plt.show()"
   ]
  },
  {
   "cell_type": "markdown",
   "metadata": {},
   "source": [
    "__There are some troublesome outliers (most notably NYC); I'm going to limit their influence by winsorizing the data.__"
   ]
  },
  {
   "cell_type": "code",
   "execution_count": 8,
   "metadata": {},
   "outputs": [],
   "source": [
    "crime['population_wins'] = mstats.winsorize(crime['population'], limits= 0.05)\n",
    "crime['property_crime_wins'] = mstats.winsorize(crime['property_crime'], limits= 0.05)"
   ]
  },
  {
   "cell_type": "code",
   "execution_count": 9,
   "metadata": {},
   "outputs": [
    {
     "data": {
      "image/png": "[encoded data removed]",
      "text/plain": [
       "<matplotlib.figure.Figure at 0x10a3b39b0>"
      ]
     },
     "metadata": {},
     "output_type": "display_data"
    },
    {
     "data": {
      "image/png": "[encoded data removed]",
      "text/plain": [
       "<matplotlib.figure.Figure at 0x10e5032e8>"
      ]
     },
     "metadata": {},
     "output_type": "display_data"
    }
   ],
   "source": [
    "continuous_variables = ['population_wins', 'property_crime_wins']\n",
    "\n",
    "for var in continuous_variables:\n",
    "    sns.boxplot(crime[var])\n",
    "    plt.show()"
   ]
  },
  {
   "cell_type": "markdown",
   "metadata": {},
   "source": [
    "This looks much, much better to me."
   ]
  },
  {
   "cell_type": "markdown",
   "metadata": {},
   "source": [
    "### Recoding to specification\n",
    "\n",
    "$ Property crime = \\alpha + Population + Population^2 + Murder + Robbery$\n"
   ]
  },
  {
   "cell_type": "code",
   "execution_count": 10,
   "metadata": {
    "collapsed": true
   },
   "outputs": [],
   "source": [
    "# Create a function that will transform murder and robbery from continuous to categorical variables.\n",
    "\n",
    "def cont_to_cat(x):\n",
    "    if x > 0:\n",
    "        return 1\n",
    "    else:\n",
    "        return 0"
   ]
  },
  {
   "cell_type": "code",
   "execution_count": 11,
   "metadata": {
    "collapsed": true
   },
   "outputs": [],
   "source": [
    "# Population^2\n",
    "crime['population_sq'] = crime['population_wins'] ** 2\n",
    "\n",
    "# Murder\n",
    "crime['murder_cat'] = crime['murder_and_nonnegligent_manslaughter'].apply(cont_to_cat)\n",
    "\n",
    "# Robbery\n",
    "crime['robbery_cat'] = crime['robbery'].apply(cont_to_cat)"
   ]
  },
  {
   "cell_type": "code",
   "execution_count": 12,
   "metadata": {
    "collapsed": true
   },
   "outputs": [],
   "source": [
    "crime_clean = crime[['population_wins', 'population_sq', 'murder_cat', 'robbery_cat', 'property_crime']]"
   ]
  },
  {
   "cell_type": "code",
   "execution_count": 13,
   "metadata": {},
   "outputs": [
    {
     "data": {
      "text/html": [
       "<div>\n",
       "<style>\n",
       "    .dataframe thead tr:only-child th {\n",
       "        text-align: right;\n",
       "    }\n",
       "\n",
       "    .dataframe thead th {\n",
       "        text-align: left;\n",
       "    }\n",
       "\n",
       "    .dataframe tbody tr th {\n",
       "        vertical-align: top;\n",
       "    }\n",
       "</style>\n",
       "<table border=\"1\" class=\"dataframe\">\n",
       "  <thead>\n",
       "    <tr style=\"text-align: right;\">\n",
       "      <th></th>\n",
       "      <th>population_wins</th>\n",
       "      <th>population_sq</th>\n",
       "      <th>murder_cat</th>\n",
       "      <th>robbery_cat</th>\n",
       "      <th>property_crime</th>\n",
       "    </tr>\n",
       "    <tr>\n",
       "      <th>city</th>\n",
       "      <th></th>\n",
       "      <th></th>\n",
       "      <th></th>\n",
       "      <th></th>\n",
       "      <th></th>\n",
       "    </tr>\n",
       "  </thead>\n",
       "  <tbody>\n",
       "    <tr>\n",
       "      <th>Adams Village</th>\n",
       "      <td>1861.0</td>\n",
       "      <td>3.463321e+06</td>\n",
       "      <td>0</td>\n",
       "      <td>0</td>\n",
       "      <td>12.0</td>\n",
       "    </tr>\n",
       "    <tr>\n",
       "      <th>Addison Town and Village</th>\n",
       "      <td>2577.0</td>\n",
       "      <td>6.640929e+06</td>\n",
       "      <td>0</td>\n",
       "      <td>0</td>\n",
       "      <td>24.0</td>\n",
       "    </tr>\n",
       "    <tr>\n",
       "      <th>Akron Village</th>\n",
       "      <td>2846.0</td>\n",
       "      <td>8.099716e+06</td>\n",
       "      <td>0</td>\n",
       "      <td>0</td>\n",
       "      <td>16.0</td>\n",
       "    </tr>\n",
       "    <tr>\n",
       "      <th>Albany</th>\n",
       "      <td>57559.0</td>\n",
       "      <td>3.313038e+09</td>\n",
       "      <td>1</td>\n",
       "      <td>1</td>\n",
       "      <td>4090.0</td>\n",
       "    </tr>\n",
       "    <tr>\n",
       "      <th>Albion Village</th>\n",
       "      <td>6388.0</td>\n",
       "      <td>4.080654e+07</td>\n",
       "      <td>0</td>\n",
       "      <td>1</td>\n",
       "      <td>223.0</td>\n",
       "    </tr>\n",
       "  </tbody>\n",
       "</table>\n",
       "</div>"
      ],
      "text/plain": [
       "                          population_wins  population_sq  murder_cat  \\\n",
       "city                                                                   \n",
       "Adams Village                      1861.0   3.463321e+06           0   \n",
       "Addison Town and Village           2577.0   6.640929e+06           0   \n",
       "Akron Village                      2846.0   8.099716e+06           0   \n",
       "Albany                            57559.0   3.313038e+09           1   \n",
       "Albion Village                     6388.0   4.080654e+07           0   \n",
       "\n",
       "                          robbery_cat  property_crime  \n",
       "city                                                   \n",
       "Adams Village                       0            12.0  \n",
       "Addison Town and Village            0            24.0  \n",
       "Akron Village                       0            16.0  \n",
       "Albany                              1          4090.0  \n",
       "Albion Village                      1           223.0  "
      ]
     },
     "execution_count": 13,
     "metadata": {},
     "output_type": "execute_result"
    }
   ],
   "source": [
    "crime_clean.head()"
   ]
  },
  {
   "cell_type": "code",
   "execution_count": null,
   "metadata": {
    "collapsed": true
   },
   "outputs": [],
   "source": []
  }
 ],
 "metadata": {
  "kernelspec": {
   "display_name": "Python 3",
   "language": "python",
   "name": "python3"
  },
  "language_info": {
   "codemirror_mode": {
    "name": "ipython",
    "version": 3
   },
   "file_extension": ".py",
   "mimetype": "text/x-python",
   "name": "python",
   "nbconvert_exporter": "python",
   "pygments_lexer": "ipython3",
   "version": "3.6.2"
  }
 },
 "nbformat": 4,
 "nbformat_minor": 2
}
