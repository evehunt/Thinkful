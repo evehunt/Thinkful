{
 "cells": [
  {
   "cell_type": "code",
   "execution_count": 1,
   "metadata": {},
   "outputs": [
    {
     "data": {
      "text/html": [
       "<script>\n",
       "code_show=true; \n",
       "function code_toggle() {\n",
       " if (code_show){\n",
       " $('div.input').hide();\n",
       " } else {\n",
       " $('div.input').show();\n",
       " }\n",
       " code_show = !code_show\n",
       "} \n",
       "$( document ).ready(code_toggle);\n",
       "</script>\n",
       "<i>The raw code for this IPython notebook is by default hidden for easier reading.\n",
       "To toggle on/off the raw code, click <a href=\"javascript:code_toggle()\">here</a></i>."
      ],
      "text/plain": [
       "<IPython.core.display.HTML object>"
      ]
     },
     "execution_count": 1,
     "metadata": {},
     "output_type": "execute_result"
    }
   ],
   "source": [
    "# Make code toggle-able for easier review.\n",
    "from IPython.display import HTML\n",
    "\n",
    "HTML('''<script>\n",
    "code_show=true; \n",
    "function code_toggle() {\n",
    " if (code_show){\n",
    " $('div.input').hide();\n",
    " } else {\n",
    " $('div.input').show();\n",
    " }\n",
    " code_show = !code_show\n",
    "} \n",
    "$( document ).ready(code_toggle);\n",
    "</script>\n",
    "<i>The raw code for this IPython notebook is by default hidden for easier reading.\n",
    "To toggle on/off the raw code, click <a href=\"javascript:code_toggle()\">here</a></i>.''')"
   ]
  },
  {
   "cell_type": "markdown",
   "metadata": {},
   "source": [
    "## Library Imports & Settings"
   ]
  },
  {
   "cell_type": "code",
   "execution_count": 2,
   "metadata": {
    "collapsed": true
   },
   "outputs": [],
   "source": [
    "import numpy as np\n",
    "import pandas as pd\n",
    "\n",
    "import scipy\n",
    "import sklearn\n",
    "from sklearn.naive_bayes import BernoulliNB\n",
    "from sklearn.feature_selection import SelectKBest\n",
    "from sklearn.feature_selection import chi2\n",
    "\n",
    "import matplotlib.pyplot as plt\n",
    "import seaborn as sns\n",
    "\n",
    "import re\n",
    "from collections import Counter\n",
    "\n",
    "import pprint"
   ]
  },
  {
   "cell_type": "code",
   "execution_count": 3,
   "metadata": {
    "collapsed": true
   },
   "outputs": [],
   "source": [
    "%matplotlib inline\n",
    "\n",
    "pd.options.display.max_rows = 10\n",
    "pd.options.display.max_colwidth = 50"
   ]
  },
  {
   "cell_type": "markdown",
   "metadata": {},
   "source": [
    "## Model Evaluation Tools"
   ]
  },
  {
   "cell_type": "markdown",
   "metadata": {},
   "source": [
    "_1. Confusion matrix, sensitivity, specificity_"
   ]
  },
  {
   "cell_type": "code",
   "execution_count": 4,
   "metadata": {
    "collapsed": true
   },
   "outputs": [],
   "source": [
    "# Build your confusion matrix and calculate sensitivity and specificity here.\n",
    "\n",
    "def evaluate(y_pred,target):\n",
    "    conf_data = {'target':target, 'y_pred':y_pred}\n",
    "    conf_data = pd.DataFrame(data=conf_data)\n",
    "    \n",
    "    true_negatives = conf_data.loc[(conf_data['target'] == False) & (conf_data['y_pred'] == False)].shape[0]\n",
    "    type_II = conf_data.loc[(conf_data['target'] == True) & (conf_data['y_pred'] == False)].shape[0] # False Negatives\n",
    "    total_negatives = true_negatives + type_II\n",
    "    \n",
    "    true_positives = conf_data.loc[(conf_data['target'] == True) & (conf_data['y_pred'] == True)].shape[0]\n",
    "    type_I = conf_data.loc[(conf_data['target'] == False) & (conf_data['y_pred'] == True)].shape[0] # False Positives\n",
    "    total_positives = true_positives + type_I\n",
    "    \n",
    "    total_positives = conf_data.loc[(conf_data['target'] == True)].shape[0]\n",
    "    total_negatives = conf_data.loc[(conf_data['target'] == False)].shape[0]\n",
    "    \n",
    "    sensitivity = round(true_positives/total_positives*100,2)\n",
    "    specificity = round(true_negatives/total_negatives*100,2)\n",
    "    \n",
    "    confusion_matrix = np.array([[true_negatives, type_II],\n",
    "                                 [type_I, true_positives]])\n",
    "   \n",
    "    output = {'n':conf_data.shape[0],\n",
    "              'Confusion Matrix':confusion_matrix,\n",
    "              'Type I':type_I,\n",
    "              'Type II':type_II,\n",
    "              'Sensitivity':sensitivity,\n",
    "              'Specificity':specificity}\n",
    "    \n",
    "    return output"
   ]
  },
  {
   "cell_type": "markdown",
   "metadata": {},
   "source": [
    "_2. K fold cross validation_"
   ]
  },
  {
   "cell_type": "code",
   "execution_count": 5,
   "metadata": {
    "collapsed": true
   },
   "outputs": [],
   "source": [
    "def cross_validation(dataframe, k, target, variables):\n",
    "\n",
    "    frames = np.array_split(dataframe, k)     # Split frame into K folds    \n",
    "    label = 0     # Number the folds for easier reading\n",
    "    folds = {} # Create an empty list to hold outputs for each fold\n",
    "    \n",
    "    # Create a dataframe to serve as a final output\n",
    "    summary_frame = pd.DataFrame() \n",
    "\n",
    "    # Create lists to house outputs\n",
    "    fold_id = []\n",
    "    fold_size = []\n",
    "    mislabeled = []\n",
    "    percent_mislabeled = []\n",
    "    sensitivity = []\n",
    "    specificity = []\n",
    "    type_i = []\n",
    "    type_ii = []\n",
    "    \n",
    "    for f in frames:\n",
    "        \n",
    "        # Define inputs\n",
    "        label = label + 1 # Update the label number\n",
    "        test_data = f[variables] # Create a frame to store test data in\n",
    "        \n",
    "        # Create model\n",
    "        bnb = BernoulliNB() # Instantiate our model and store it in a new variable.\n",
    "        bnb.fit(test_data, f[target]) # Fit our model to the data.\n",
    "        y_pred = bnb.predict(test_data) # Classify, storing the result in a new variable.\n",
    "        f['y_pred'] = y_pred # Add it to our fold\n",
    "\n",
    "        # Define outputs\n",
    "        evaluation = evaluate(f['y_pred'], f[target])\n",
    "\n",
    "        # Append lists\n",
    "        fold_id.append(label)\n",
    "        fold_size.append(evaluation['n'])\n",
    "        mislabeled.append((f[target] != f['y_pred']).sum())\n",
    "        sensitivity.append(evaluation['Sensitivity'])\n",
    "        specificity.append(evaluation['Specificity'])\n",
    "        type_i.append(evaluation['Type I']) \n",
    "        type_ii.append(evaluation['Type II'])\n",
    "        \n",
    "    \n",
    "    summary_frame['fold_id'] = fold_id\n",
    "    summary_frame['fold_size'] = fold_size\n",
    "    summary_frame['mislabeled'] = mislabeled\n",
    "    summary_frame['mislabeled_percent'] = summary_frame['mislabeled'] / summary_frame['fold_size']\n",
    "    summary_frame['sensitivity'] = sensitivity\n",
    "    summary_frame['specificity'] = specificity\n",
    "    summary_frame['type_i'] = type_i\n",
    "    summary_frame['type_ii'] = type_ii\n",
    "        \n",
    "    return summary_frame"
   ]
  },
  {
   "cell_type": "markdown",
   "metadata": {},
   "source": [
    "## Data Cleaning"
   ]
  },
  {
   "cell_type": "code",
   "execution_count": 6,
   "metadata": {
    "collapsed": true
   },
   "outputs": [],
   "source": [
    "# Define directories\n",
    "imdb_txt = r\"/Users/guest/Dropbox/Education/Thinkful/Unit 2/l2/s7/sentiment labelled sentences/imdb_labelled.txt\"\n",
    "imdb_txt_cln = r\"/Users/guest/Dropbox/Education/Thinkful/Unit 2/l2/s7/sentiment labelled sentences/imdb_labelled_cln.txt\"\n",
    "imdb_csv = r\"/Users/guest/Dropbox/Education/Thinkful/Unit 2/l2/s7/sentiment labelled sentences/imdb_labelled_clean.csv\""
   ]
  },
  {
   "cell_type": "code",
   "execution_count": 7,
   "metadata": {
    "collapsed": true
   },
   "outputs": [],
   "source": [
    "# Quotation marks in the raw data are causing it to read several rows as one in a few cases\n",
    "def strip_quotes(txt_dir, txt_cln_dir,):\n",
    "    with open(txt_dir,'r') as f:\n",
    "        newlines = []\n",
    "        for line in f.readlines():\n",
    "            newlines.append(line.replace('\"', ''))     \n",
    "    \n",
    "    with open(txt_cln_dir, 'w') as f:\n",
    "        for line in newlines:\n",
    "            f.write(line)"
   ]
  },
  {
   "cell_type": "markdown",
   "metadata": {},
   "source": [
    "_Cleaning the IMDB Data_"
   ]
  },
  {
   "cell_type": "code",
   "execution_count": 8,
   "metadata": {
    "collapsed": true
   },
   "outputs": [],
   "source": [
    "# Define directories and parameters; run the cleaning functions\n",
    "imdb_txt = r\"/Users/guest/Dropbox/Education/Thinkful/Unit 2/l2/s7/sentiment labelled sentences/imdb_labelled.txt\"\n",
    "imdb_txt_cln = r\"/Users/guest/Dropbox/Education/Thinkful/Unit 2/l2/s7/sentiment labelled sentences/imdb_labelled_cln.txt\"\n",
    "imdb_csv = r\"/Users/guest/Dropbox/Education/Thinkful/Unit 2/l2/s7/sentiment labelled sentences/imdb_labelled_clean.csv\"\n",
    "\n",
    "reviews = pd.DataFrame()\n",
    "imdb_cols = ['review','positive']\n",
    "\n",
    "# Strip the quotes\n",
    "strip_quotes(imdb_txt, imdb_txt_cln)\n",
    "\n",
    "# Create the CSV\n",
    "with open(imdb_csv,'w') as f:\n",
    "    for line in open(imdb_txt_cln):\n",
    "        f.write(line)\n",
    "    f.close()\n",
    "reviews = pd.read_csv(imdb_csv, sep=\"\\t\", header=None, names=['review','positive'])\n",
    "reviews.to_csv(imdb_csv, index=False)\n",
    "\n",
    "# Clean the CSV\n",
    "reviews['review'] = reviews['review'].apply(lambda x: re.sub('-',' ', str(x))) # separate hyphenated words\n",
    "reviews['review'] = reviews['review'].apply(lambda x: re.sub('[^\\w\\s\\d]','', str(x))) # strip non-alphanumeric characters\n",
    "reviews['review'] = reviews['review'].str.lower() # convert all to lowercase"
   ]
  },
  {
   "cell_type": "markdown",
   "metadata": {},
   "source": [
    "_Spin off the data for multiple iterations of the model_"
   ]
  },
  {
   "cell_type": "code",
   "execution_count": 9,
   "metadata": {
    "collapsed": true
   },
   "outputs": [],
   "source": [
    "reviews_iter_1 = reviews.copy()\n",
    "reviews_iter_2 = reviews.copy()"
   ]
  },
  {
   "cell_type": "markdown",
   "metadata": {},
   "source": [
    "# Iterations of Model"
   ]
  },
  {
   "cell_type": "markdown",
   "metadata": {},
   "source": [
    "### 1. Initial Model From Feedback Analysis Challenge (reproduced from u2/l2/p7)"
   ]
  },
  {
   "cell_type": "markdown",
   "metadata": {},
   "source": [
    "__As we discussed, Wednesday, my initial approach to keyword selection was to create a dataframe summarizing all words from all reviews through the following information:__\n",
    "1. Counts of the word in positive reviews\n",
    "2. Counts of the word in negative reviews\n",
    "3. Counts of the difference in frequency between positive and negative reviews\n",
    "4. The difference in frequency between positive and negative reviews scaled by the overall frequency of the word."
   ]
  },
  {
   "cell_type": "code",
   "execution_count": 10,
   "metadata": {},
   "outputs": [],
   "source": [
    "# create a dataframe containing counts of each word in both positive and negative reviews\n",
    "words = pd.DataFrame()"
   ]
  },
  {
   "cell_type": "code",
   "execution_count": 11,
   "metadata": {
    "collapsed": true
   },
   "outputs": [],
   "source": [
    "# Create a list of all unique words\n",
    "all_words = []\n",
    "for rev in reviews['review']:\n",
    "    for word in rev.split():\n",
    "        all_words.append(word)        \n",
    "all_words = set(all_words)\n",
    "\n",
    "# Retrieve counts of each word for positive reviews\n",
    "pos_words = []\n",
    "for rev in reviews['review'].loc[reviews['positive'] == 1]:\n",
    "    for word in rev.split():\n",
    "        pos_words.append(word)   \n",
    "pos_counts = Counter(pos_words)\n",
    "\n",
    "# Retrieve counts of each word for negative reviews\n",
    "neg_words = []\n",
    "for rev in reviews['review'].loc[reviews['positive'] == 0]:\n",
    "    for word in rev.split():\n",
    "        neg_words.append(word)         \n",
    "neg_counts = Counter(neg_words)"
   ]
  },
  {
   "cell_type": "code",
   "execution_count": 12,
   "metadata": {
    "collapsed": true
   },
   "outputs": [],
   "source": [
    "# Create a dataframe summarizing words by their frequencies in each type of review\n",
    "words['word'] = list(all_words)\n",
    "words = words.set_index('word')\n",
    "\n",
    "words['pos_count'] = 0\n",
    "for word in words.index:\n",
    "    if word in pos_counts:\n",
    "        words.at[word, 'pos_count'] = pos_counts[word]\n",
    "\n",
    "words['neg_count'] = 0\n",
    "for word in words.index:\n",
    "    if word in neg_counts:\n",
    "        words.at[word, 'neg_count'] = neg_counts[word]\n",
    "\n",
    "words['total_count'] = words['pos_count'] + words['neg_count']\n",
    "        \n",
    "words['is_positive'] = 0\n",
    "words.loc[words['neg_count'] < words['pos_count'], 'is_positive'] = 1\n",
    "\n",
    "words['delta'] = abs(words['pos_count'] - words['neg_count'])\n",
    "\n",
    "words['scaled_delta'] = words['delta'] / words['total_count']"
   ]
  },
  {
   "cell_type": "markdown",
   "metadata": {},
   "source": [
    "#### Table of word summaries:"
   ]
  },
  {
   "cell_type": "code",
   "execution_count": 13,
   "metadata": {},
   "outputs": [
    {
     "data": {
      "text/html": [
       "<div>\n",
       "<style>\n",
       "    .dataframe thead tr:only-child th {\n",
       "        text-align: right;\n",
       "    }\n",
       "\n",
       "    .dataframe thead th {\n",
       "        text-align: left;\n",
       "    }\n",
       "\n",
       "    .dataframe tbody tr th {\n",
       "        vertical-align: top;\n",
       "    }\n",
       "</style>\n",
       "<table border=\"1\" class=\"dataframe\">\n",
       "  <thead>\n",
       "    <tr style=\"text-align: right;\">\n",
       "      <th></th>\n",
       "      <th>pos_count</th>\n",
       "      <th>neg_count</th>\n",
       "      <th>total_count</th>\n",
       "      <th>is_positive</th>\n",
       "      <th>delta</th>\n",
       "      <th>scaled_delta</th>\n",
       "    </tr>\n",
       "    <tr>\n",
       "      <th>word</th>\n",
       "      <th></th>\n",
       "      <th></th>\n",
       "      <th></th>\n",
       "      <th></th>\n",
       "      <th></th>\n",
       "      <th></th>\n",
       "    </tr>\n",
       "  </thead>\n",
       "  <tbody>\n",
       "    <tr>\n",
       "      <th>afraid</th>\n",
       "      <td>2</td>\n",
       "      <td>0</td>\n",
       "      <td>2</td>\n",
       "      <td>1</td>\n",
       "      <td>2</td>\n",
       "      <td>1.00</td>\n",
       "    </tr>\n",
       "    <tr>\n",
       "      <th>occur</th>\n",
       "      <td>0</td>\n",
       "      <td>1</td>\n",
       "      <td>1</td>\n",
       "      <td>0</td>\n",
       "      <td>1</td>\n",
       "      <td>1.00</td>\n",
       "    </tr>\n",
       "    <tr>\n",
       "      <th>jamie</th>\n",
       "      <td>2</td>\n",
       "      <td>0</td>\n",
       "      <td>2</td>\n",
       "      <td>1</td>\n",
       "      <td>2</td>\n",
       "      <td>1.00</td>\n",
       "    </tr>\n",
       "    <tr>\n",
       "      <th>certainly</th>\n",
       "      <td>3</td>\n",
       "      <td>5</td>\n",
       "      <td>8</td>\n",
       "      <td>0</td>\n",
       "      <td>2</td>\n",
       "      <td>0.25</td>\n",
       "    </tr>\n",
       "    <tr>\n",
       "      <th>older</th>\n",
       "      <td>1</td>\n",
       "      <td>0</td>\n",
       "      <td>1</td>\n",
       "      <td>1</td>\n",
       "      <td>1</td>\n",
       "      <td>1.00</td>\n",
       "    </tr>\n",
       "    <tr>\n",
       "      <th>...</th>\n",
       "      <td>...</td>\n",
       "      <td>...</td>\n",
       "      <td>...</td>\n",
       "      <td>...</td>\n",
       "      <td>...</td>\n",
       "      <td>...</td>\n",
       "    </tr>\n",
       "    <tr>\n",
       "      <th>endearing</th>\n",
       "      <td>1</td>\n",
       "      <td>0</td>\n",
       "      <td>1</td>\n",
       "      <td>1</td>\n",
       "      <td>1</td>\n",
       "      <td>1.00</td>\n",
       "    </tr>\n",
       "    <tr>\n",
       "      <th>photography</th>\n",
       "      <td>2</td>\n",
       "      <td>0</td>\n",
       "      <td>2</td>\n",
       "      <td>1</td>\n",
       "      <td>2</td>\n",
       "      <td>1.00</td>\n",
       "    </tr>\n",
       "    <tr>\n",
       "      <th>himself</th>\n",
       "      <td>1</td>\n",
       "      <td>0</td>\n",
       "      <td>1</td>\n",
       "      <td>1</td>\n",
       "      <td>1</td>\n",
       "      <td>1.00</td>\n",
       "    </tr>\n",
       "    <tr>\n",
       "      <th>assistant</th>\n",
       "      <td>0</td>\n",
       "      <td>2</td>\n",
       "      <td>2</td>\n",
       "      <td>0</td>\n",
       "      <td>2</td>\n",
       "      <td>1.00</td>\n",
       "    </tr>\n",
       "    <tr>\n",
       "      <th>take</th>\n",
       "      <td>3</td>\n",
       "      <td>3</td>\n",
       "      <td>6</td>\n",
       "      <td>0</td>\n",
       "      <td>0</td>\n",
       "      <td>0.00</td>\n",
       "    </tr>\n",
       "  </tbody>\n",
       "</table>\n",
       "<p>3131 rows × 6 columns</p>\n",
       "</div>"
      ],
      "text/plain": [
       "             pos_count  neg_count  total_count  is_positive  delta  \\\n",
       "word                                                                 \n",
       "afraid               2          0            2            1      2   \n",
       "occur                0          1            1            0      1   \n",
       "jamie                2          0            2            1      2   \n",
       "certainly            3          5            8            0      2   \n",
       "older                1          0            1            1      1   \n",
       "...                ...        ...          ...          ...    ...   \n",
       "endearing            1          0            1            1      1   \n",
       "photography          2          0            2            1      2   \n",
       "himself              1          0            1            1      1   \n",
       "assistant            0          2            2            0      2   \n",
       "take                 3          3            6            0      0   \n",
       "\n",
       "             scaled_delta  \n",
       "word                       \n",
       "afraid               1.00  \n",
       "occur                1.00  \n",
       "jamie                1.00  \n",
       "certainly            0.25  \n",
       "older                1.00  \n",
       "...                   ...  \n",
       "endearing            1.00  \n",
       "photography          1.00  \n",
       "himself              1.00  \n",
       "assistant            1.00  \n",
       "take                 0.00  \n",
       "\n",
       "[3131 rows x 6 columns]"
      ]
     },
     "execution_count": 13,
     "metadata": {},
     "output_type": "execute_result"
    }
   ],
   "source": [
    "words"
   ]
  },
  {
   "cell_type": "markdown",
   "metadata": {},
   "source": [
    "The idea was that words that had both __a high overall frequency__ and a __high scaled difference__ would be the most impactful to use in my model.\n",
    "\n",
    "In practice, this didn't work very well. Although I was able to use this method to cut the list down to a few features that had pretty good face validity, it never provided me with a particularly accurate model, and setting the selection critiera (cutoffs for overall frequency and scaled difference) was finicky, arbitrary, and labor intensive. Additionally, it didn't have any built-in method for removing highly correlated features. I tried dozens of iterations of this method, tweaking the values each time, and never got anywhere satisfactory. For the sake of brevity, I've only reproduced one example."
   ]
  },
  {
   "cell_type": "markdown",
   "metadata": {},
   "source": [
    "#### Example keywords from first feature selection method:"
   ]
  },
  {
   "cell_type": "code",
   "execution_count": 14,
   "metadata": {},
   "outputs": [
    {
     "name": "stdout",
     "output_type": "stream",
     "text": [
      "['interesting', 'great', 'worse', 'excellent', 'love', 'awful', 'stupid', 'worst', 'bad', 'wonderful', 'beautiful', 'waste', 'performance', 'terrible']\n"
     ]
    }
   ],
   "source": [
    "keywords = []\n",
    "keywords = list(words.loc[((words['total_count']) > 10) & (words['scaled_delta'] > .8)].index)\n",
    "\n",
    "print(keywords)"
   ]
  },
  {
   "cell_type": "code",
   "execution_count": 15,
   "metadata": {
    "collapsed": true
   },
   "outputs": [],
   "source": [
    "for key in keywords:\n",
    "    reviews_iter_1[str(key)] = reviews_iter_1.review.str.contains(\n",
    "        ' ' + str(key) + ' ',\n",
    "        case=False\n",
    "    )"
   ]
  },
  {
   "cell_type": "code",
   "execution_count": 16,
   "metadata": {
    "collapsed": true
   },
   "outputs": [],
   "source": [
    "# Convert target to boolean\n",
    "reviews_iter_1['positive'] = (reviews_iter_1['positive'] == True)\n",
    "\n",
    "# Drop text of review\n",
    "reviews_iter_1 = reviews_iter_1.drop(['review'], axis=1)"
   ]
  },
  {
   "cell_type": "markdown",
   "metadata": {},
   "source": [
    "#### Correlation heatmap:\n",
    "The highest correlations between features are relatively small."
   ]
  },
  {
   "cell_type": "code",
   "execution_count": 17,
   "metadata": {},
   "outputs": [
    {
     "data": {
      "image/png": "[encoded data removed]",
      "text/plain": [
       "<matplotlib.figure.Figure at 0x101d53c88>"
      ]
     },
     "metadata": {},
     "output_type": "display_data"
    }
   ],
   "source": [
    "sns.heatmap(reviews_iter_1.corr())\n",
    "plt.show()"
   ]
  },
  {
   "cell_type": "markdown",
   "metadata": {},
   "source": [
    "#### Model evaluation:\n",
    "In summary, not super great. The best result I was able to produce using this method without dramatically overfitting was still only correct about 70% of the time."
   ]
  },
  {
   "cell_type": "code",
   "execution_count": 18,
   "metadata": {},
   "outputs": [
    {
     "name": "stdout",
     "output_type": "stream",
     "text": [
      "Number of mislabeled points out of a total 1000 points : 387\n"
     ]
    }
   ],
   "source": [
    "data = reviews_iter_1[keywords]\n",
    "target = reviews_iter_1['positive']\n",
    "\n",
    "# Our data is binary / boolean, so we're importing the Bernoulli classifier.\n",
    "from sklearn.naive_bayes import BernoulliNB\n",
    "\n",
    "# Instantiate our model and store it in a new variable.\n",
    "bnb = BernoulliNB()\n",
    "\n",
    "# Fit our model to the data.\n",
    "bnb.fit(data, target)\n",
    "\n",
    "# Classify, storing the result in a new variable.\n",
    "y_pred = bnb.predict(data)\n",
    "\n",
    "# Display our results.\n",
    "print(\"Number of mislabeled points out of a total {} points : {}\".format(\n",
    "    data.shape[0],\n",
    "    (target != y_pred).sum()\n",
    "))"
   ]
  },
  {
   "cell_type": "markdown",
   "metadata": {},
   "source": [
    "Sensitivity was generally pretty good, but specificity remained abysmal no matter what I did."
   ]
  },
  {
   "cell_type": "code",
   "execution_count": 19,
   "metadata": {},
   "outputs": [
    {
     "name": "stdout",
     "output_type": "stream",
     "text": [
      "n: 1000\n",
      "Confusion Matrix: [[118   5]\n",
      " [382 495]]\n",
      "Type I: 382\n",
      "Type II: 5\n",
      "Sensitivity: 99.0\n",
      "Specificity: 23.6\n"
     ]
    }
   ],
   "source": [
    "validation_iter_1 = evaluate(y_pred, target)\n",
    "for item in validation_iter_1:\n",
    "    print('{}: {}'.format(item, validation_iter_1[item]))"
   ]
  },
  {
   "cell_type": "markdown",
   "metadata": {},
   "source": [
    "#### Cross validation using k-folds:\n",
    "In addition to having weak performance overall, these features provide us with a wildly inconsistent model. The sensitivity that initially looked pretty good isn't at all consistent across folds."
   ]
  },
  {
   "cell_type": "code",
   "execution_count": 20,
   "metadata": {},
   "outputs": [
    {
     "data": {
      "text/html": [
       "<div>\n",
       "<style>\n",
       "    .dataframe thead tr:only-child th {\n",
       "        text-align: right;\n",
       "    }\n",
       "\n",
       "    .dataframe thead th {\n",
       "        text-align: left;\n",
       "    }\n",
       "\n",
       "    .dataframe tbody tr th {\n",
       "        vertical-align: top;\n",
       "    }\n",
       "</style>\n",
       "<table border=\"1\" class=\"dataframe\">\n",
       "  <thead>\n",
       "    <tr style=\"text-align: right;\">\n",
       "      <th></th>\n",
       "      <th>fold_id</th>\n",
       "      <th>fold_size</th>\n",
       "      <th>mislabeled</th>\n",
       "      <th>mislabeled_percent</th>\n",
       "      <th>sensitivity</th>\n",
       "      <th>specificity</th>\n",
       "      <th>type_i</th>\n",
       "      <th>type_ii</th>\n",
       "    </tr>\n",
       "  </thead>\n",
       "  <tbody>\n",
       "    <tr>\n",
       "      <th>0</th>\n",
       "      <td>1</td>\n",
       "      <td>100</td>\n",
       "      <td>38</td>\n",
       "      <td>0.38</td>\n",
       "      <td>100.00</td>\n",
       "      <td>2.56</td>\n",
       "      <td>38</td>\n",
       "      <td>0</td>\n",
       "    </tr>\n",
       "    <tr>\n",
       "      <th>1</th>\n",
       "      <td>2</td>\n",
       "      <td>100</td>\n",
       "      <td>19</td>\n",
       "      <td>0.19</td>\n",
       "      <td>9.52</td>\n",
       "      <td>100.00</td>\n",
       "      <td>0</td>\n",
       "      <td>19</td>\n",
       "    </tr>\n",
       "    <tr>\n",
       "      <th>2</th>\n",
       "      <td>3</td>\n",
       "      <td>100</td>\n",
       "      <td>33</td>\n",
       "      <td>0.33</td>\n",
       "      <td>26.67</td>\n",
       "      <td>100.00</td>\n",
       "      <td>0</td>\n",
       "      <td>33</td>\n",
       "    </tr>\n",
       "    <tr>\n",
       "      <th>3</th>\n",
       "      <td>4</td>\n",
       "      <td>100</td>\n",
       "      <td>31</td>\n",
       "      <td>0.31</td>\n",
       "      <td>100.00</td>\n",
       "      <td>22.50</td>\n",
       "      <td>31</td>\n",
       "      <td>0</td>\n",
       "    </tr>\n",
       "    <tr>\n",
       "      <th>4</th>\n",
       "      <td>5</td>\n",
       "      <td>100</td>\n",
       "      <td>34</td>\n",
       "      <td>0.34</td>\n",
       "      <td>25.00</td>\n",
       "      <td>98.21</td>\n",
       "      <td>1</td>\n",
       "      <td>33</td>\n",
       "    </tr>\n",
       "    <tr>\n",
       "      <th>5</th>\n",
       "      <td>6</td>\n",
       "      <td>100</td>\n",
       "      <td>23</td>\n",
       "      <td>0.23</td>\n",
       "      <td>14.81</td>\n",
       "      <td>100.00</td>\n",
       "      <td>0</td>\n",
       "      <td>23</td>\n",
       "    </tr>\n",
       "    <tr>\n",
       "      <th>6</th>\n",
       "      <td>7</td>\n",
       "      <td>100</td>\n",
       "      <td>23</td>\n",
       "      <td>0.23</td>\n",
       "      <td>100.00</td>\n",
       "      <td>28.12</td>\n",
       "      <td>23</td>\n",
       "      <td>0</td>\n",
       "    </tr>\n",
       "    <tr>\n",
       "      <th>7</th>\n",
       "      <td>8</td>\n",
       "      <td>100</td>\n",
       "      <td>35</td>\n",
       "      <td>0.35</td>\n",
       "      <td>98.33</td>\n",
       "      <td>15.00</td>\n",
       "      <td>34</td>\n",
       "      <td>1</td>\n",
       "    </tr>\n",
       "    <tr>\n",
       "      <th>8</th>\n",
       "      <td>9</td>\n",
       "      <td>100</td>\n",
       "      <td>38</td>\n",
       "      <td>0.38</td>\n",
       "      <td>21.28</td>\n",
       "      <td>98.11</td>\n",
       "      <td>1</td>\n",
       "      <td>37</td>\n",
       "    </tr>\n",
       "    <tr>\n",
       "      <th>9</th>\n",
       "      <td>10</td>\n",
       "      <td>100</td>\n",
       "      <td>22</td>\n",
       "      <td>0.22</td>\n",
       "      <td>100.00</td>\n",
       "      <td>33.33</td>\n",
       "      <td>22</td>\n",
       "      <td>0</td>\n",
       "    </tr>\n",
       "  </tbody>\n",
       "</table>\n",
       "</div>"
      ],
      "text/plain": [
       "   fold_id  fold_size  mislabeled  mislabeled_percent  sensitivity  \\\n",
       "0        1        100          38                0.38       100.00   \n",
       "1        2        100          19                0.19         9.52   \n",
       "2        3        100          33                0.33        26.67   \n",
       "3        4        100          31                0.31       100.00   \n",
       "4        5        100          34                0.34        25.00   \n",
       "5        6        100          23                0.23        14.81   \n",
       "6        7        100          23                0.23       100.00   \n",
       "7        8        100          35                0.35        98.33   \n",
       "8        9        100          38                0.38        21.28   \n",
       "9       10        100          22                0.22       100.00   \n",
       "\n",
       "   specificity  type_i  type_ii  \n",
       "0         2.56      38        0  \n",
       "1       100.00       0       19  \n",
       "2       100.00       0       33  \n",
       "3        22.50      31        0  \n",
       "4        98.21       1       33  \n",
       "5       100.00       0       23  \n",
       "6        28.12      23        0  \n",
       "7        15.00      34        1  \n",
       "8        98.11       1       37  \n",
       "9        33.33      22        0  "
      ]
     },
     "execution_count": 20,
     "metadata": {},
     "output_type": "execute_result"
    }
   ],
   "source": [
    "cross_validation_iter_1 = cross_validation(reviews_iter_1,10,'positive', keywords)\n",
    "cross_validation_iter_1"
   ]
  },
  {
   "cell_type": "markdown",
   "metadata": {},
   "source": [
    "In fact, when you summarize the outcomes from each fold, sensitivity and specificity are nearly identical – extremely variable, with a mean of about 60%."
   ]
  },
  {
   "cell_type": "code",
   "execution_count": 21,
   "metadata": {},
   "outputs": [
    {
     "name": "stdout",
     "output_type": "stream",
     "text": [
      "sensitivity:\n",
      "Mean: 59.561\n",
      "Standard Deviation: 42.54769283469499\n",
      "\n",
      "specificity:\n",
      "Mean: 59.783\n",
      "Standard Deviation: 42.38727824084329\n",
      "\n",
      "type_i:\n",
      "Mean: 15.0\n",
      "Standard Deviation: 16.076207402383325\n",
      "\n",
      "type_ii:\n",
      "Mean: 14.6\n",
      "Standard Deviation: 16.00833116432399\n",
      "\n"
     ]
    }
   ],
   "source": [
    "outcomes_iter_1 = ['sensitivity', 'specificity', 'type_i', 'type_ii']\n",
    "\n",
    "for outcome in outcomes_iter_1:\n",
    "    outcome_mean = cross_validation_iter_1[outcome].mean()\n",
    "    outcome_std = cross_validation_iter_1[outcome].std()\n",
    "    print('{}:\\nMean: {}\\nStandard Deviation: {}\\n'.format(outcome, outcome_mean, outcome_std))"
   ]
  },
  {
   "cell_type": "markdown",
   "metadata": {},
   "source": [
    "### 2. Model utilizing k best for feature selection (reproduced from u2/l2/p7)"
   ]
  },
  {
   "cell_type": "markdown",
   "metadata": {},
   "source": [
    "Again, as we discussed on Wednesday, I eventually settled on feature selection using K best after beating my head against the wall for a while using the method I devised."
   ]
  },
  {
   "cell_type": "markdown",
   "metadata": {},
   "source": [
    "#### Narrowing the list of possible features\n",
    "___Eliminating stop words (as per our conversation on Wednesday)___"
   ]
  },
  {
   "cell_type": "code",
   "execution_count": 22,
   "metadata": {},
   "outputs": [],
   "source": [
    "import nltk\n",
    "from nltk.corpus import stopwords\n",
    "\n",
    "to_drop = stopwords.words('english')\n",
    "words = words.query('index not in @to_drop')"
   ]
  },
  {
   "cell_type": "markdown",
   "metadata": {},
   "source": [
    "___Filtering out words with very low frequencies.___"
   ]
  },
  {
   "cell_type": "code",
   "execution_count": 23,
   "metadata": {},
   "outputs": [],
   "source": [
    "keywords = []\n",
    "keywords = list(words.loc[((words['total_count']) > 10)].index)"
   ]
  },
  {
   "cell_type": "markdown",
   "metadata": {},
   "source": [
    "___Filtering out very short words (as per our conversation Wednesday)___"
   ]
  },
  {
   "cell_type": "code",
   "execution_count": 24,
   "metadata": {
    "collapsed": true
   },
   "outputs": [],
   "source": [
    "def by_size(words, size):\n",
    "    return [word for word in words if len(word) > size]\n",
    "\n",
    "keywords = by_size(keywords, 3)"
   ]
  },
  {
   "cell_type": "code",
   "execution_count": 25,
   "metadata": {},
   "outputs": [
    {
     "name": "stdout",
     "output_type": "stream",
     "text": [
      "['dialogue', 'character', 'interesting', 'time', 'scene', 'best', 'like', 'cant', 'short', 'good', 'right', 'show', 'part', 'doesnt', 'real', 'great', 'dont', 'things', 'years', 'actors', 'script', 'scenes', 'worse', 'line', 'nothing', 'even', 'cast', 'ever', 'movies', 'every', 'excellent', 'totally', 'plot', 'thought', 'little', 'seen', 'make', 'love', 'awful', 'many', 'first', 'really', 'didnt', 'characters', 'ending', 'music', 'recommend', 'stupid', 'still', 'never', 'better', 'movie', 'made', 'thing', 'worst', 'people', 'wonderful', 'acting', 'beautiful', 'funny', 'anyone', 'give', 'could', 'waste', 'performance', 'story', 'would', 'work', 'writing', 'much', 'also', 'everything', 'well', 'film', 'pretty', 'though', 'think', 'enough', 'terrible', 'know', 'films', 'screen', 'watching', 'worth', 'watch', 'look']\n"
     ]
    }
   ],
   "source": [
    "print(keywords)"
   ]
  },
  {
   "cell_type": "markdown",
   "metadata": {},
   "source": [
    "___Using select K best to determine a final list of features.___"
   ]
  },
  {
   "cell_type": "code",
   "execution_count": 26,
   "metadata": {},
   "outputs": [],
   "source": [
    "reviews_k_best = reviews.copy()\n",
    "\n",
    "# Converting the dataframe to a friendlier format\n",
    "for key in keywords:\n",
    "    reviews_k_best[str(key)] = reviews_k_best.review.str.contains(\n",
    "        ' ' + str(key) + ' ',\n",
    "        case=False\n",
    "    )\n",
    "    \n",
    "# Convert target to boolean\n",
    "reviews_k_best['positive'] = (reviews_k_best['positive'] == True)\n",
    "\n",
    "# Drop text of review\n",
    "reviews_k_best = reviews_k_best.drop(['review'], axis=1)"
   ]
  },
  {
   "cell_type": "code",
   "execution_count": 27,
   "metadata": {},
   "outputs": [
    {
     "data": {
      "text/html": [
       "<div>\n",
       "<style>\n",
       "    .dataframe thead tr:only-child th {\n",
       "        text-align: right;\n",
       "    }\n",
       "\n",
       "    .dataframe thead th {\n",
       "        text-align: left;\n",
       "    }\n",
       "\n",
       "    .dataframe tbody tr th {\n",
       "        vertical-align: top;\n",
       "    }\n",
       "</style>\n",
       "<table border=\"1\" class=\"dataframe\">\n",
       "  <thead>\n",
       "    <tr style=\"text-align: right;\">\n",
       "      <th></th>\n",
       "      <th>positive</th>\n",
       "      <th>great</th>\n",
       "      <th>wonderful</th>\n",
       "    </tr>\n",
       "  </thead>\n",
       "  <tbody>\n",
       "    <tr>\n",
       "      <th>0</th>\n",
       "      <td>False</td>\n",
       "      <td>False</td>\n",
       "      <td>False</td>\n",
       "    </tr>\n",
       "    <tr>\n",
       "      <th>1</th>\n",
       "      <td>False</td>\n",
       "      <td>False</td>\n",
       "      <td>False</td>\n",
       "    </tr>\n",
       "    <tr>\n",
       "      <th>2</th>\n",
       "      <td>False</td>\n",
       "      <td>False</td>\n",
       "      <td>False</td>\n",
       "    </tr>\n",
       "    <tr>\n",
       "      <th>3</th>\n",
       "      <td>False</td>\n",
       "      <td>False</td>\n",
       "      <td>False</td>\n",
       "    </tr>\n",
       "    <tr>\n",
       "      <th>4</th>\n",
       "      <td>True</td>\n",
       "      <td>False</td>\n",
       "      <td>False</td>\n",
       "    </tr>\n",
       "  </tbody>\n",
       "</table>\n",
       "</div>"
      ],
      "text/plain": [
       "   positive  great  wonderful\n",
       "0     False  False      False\n",
       "1     False  False      False\n",
       "2     False  False      False\n",
       "3     False  False      False\n",
       "4      True  False      False"
      ]
     },
     "execution_count": 27,
     "metadata": {},
     "output_type": "execute_result"
    }
   ],
   "source": [
    "selector = SelectKBest(chi2, k=3)\n",
    "selector.fit(reviews_k_best,reviews_k_best['positive'])\n",
    "\n",
    "idxs_selected = selector.get_support(indices=True)\n",
    "reviews_k_best[reviews_k_best.columns[idxs_selected]].head()"
   ]
  },
  {
   "cell_type": "code",
   "execution_count": 28,
   "metadata": {},
   "outputs": [],
   "source": [
    "# Setting up the model with the new keywords\n",
    "keywords = ['positive', 'great', 'wonderful']\n",
    "\n",
    "for key in keywords:\n",
    "    reviews_iter_2[str(key)] = reviews_iter_2.review.str.contains(\n",
    "        ' ' + str(key) + ' ',\n",
    "        case=False\n",
    "    )"
   ]
  },
  {
   "cell_type": "markdown",
   "metadata": {},
   "source": [
    "__Correlation heatmap__"
   ]
  },
  {
   "cell_type": "code",
   "execution_count": 29,
   "metadata": {},
   "outputs": [
    {
     "data": {
      "image/png": "[encoded data removed]",
      "text/plain": [
       "<matplotlib.figure.Figure at 0x1a13d5c550>"
      ]
     },
     "metadata": {},
     "output_type": "display_data"
    }
   ],
   "source": [
    "sns.heatmap(reviews_iter_2.corr())\n",
    "plt.show()"
   ]
  },
  {
   "cell_type": "markdown",
   "metadata": {},
   "source": [
    "#### Running the final model utilizing these features"
   ]
  },
  {
   "cell_type": "code",
   "execution_count": 30,
   "metadata": {},
   "outputs": [
    {
     "name": "stdout",
     "output_type": "stream",
     "text": [
      "Number of mislabeled points out of a total 1000 points : 1\n"
     ]
    }
   ],
   "source": [
    "data = reviews_iter_2[keywords]\n",
    "target = reviews_iter_2['positive']\n",
    "\n",
    "# Instantiate our model and store it in a new variable.\n",
    "bnb = BernoulliNB()\n",
    "\n",
    "# Fit our model to the data.\n",
    "bnb.fit(data, target)\n",
    "\n",
    "# Classify, storing the result in a new variable.\n",
    "y_pred = bnb.predict(data)\n",
    "\n",
    "# Display our results.\n",
    "print(\"Number of mislabeled points out of a total {} points : {}\".format(\n",
    "    data.shape[0],\n",
    "    (target != y_pred).sum()\n",
    "))"
   ]
  },
  {
   "cell_type": "code",
   "execution_count": 31,
   "metadata": {},
   "outputs": [
    {
     "name": "stdout",
     "output_type": "stream",
     "text": [
      "n: 1000\n",
      "Confusion Matrix: [[999   1]\n",
      " [  0   0]]\n",
      "Type I: 0\n",
      "Type II: 1\n",
      "Sensitivity: 0.0\n",
      "Specificity: 100.0\n"
     ]
    }
   ],
   "source": [
    "validation_iter_2 = evaluate(y_pred, target)\n",
    "for item in validation_iter_2:\n",
    "    print('{}: {}'.format(item, validation_iter_2[item]))"
   ]
  },
  {
   "cell_type": "markdown",
   "metadata": {},
   "source": [
    "__This outcome seems way too good for way too simple a set of features. You suggested that the problem might be overfitting when we spoke on Wednesday – I'm going to test it on a different dataset.__"
   ]
  },
  {
   "cell_type": "markdown",
   "metadata": {},
   "source": [
    "_Cleaning the Amazon data_"
   ]
  },
  {
   "cell_type": "code",
   "execution_count": 32,
   "metadata": {},
   "outputs": [],
   "source": [
    "# Define directories and parameters; run the cleaning functions\n",
    "amazon_txt = r\"/Users/guest/Dropbox/Education/Thinkful/Unit 2/l2/s7/sentiment labelled sentences/amazon_cells_labelled.txt\"\n",
    "amazon_txt_cln = r\"/Users/guest/Dropbox/Education/Thinkful/Unit 2/l2/s7/sentiment labelled sentences/amazon_cells_labelled_cln.txt\"\n",
    "amazon_csv = r\"/Users/guest/Dropbox/Education/Thinkful/Unit 2/l2/s7/sentiment labelled sentences/amazon_cells_labelled_clean.csv\"\n",
    "\n",
    "reviews = pd.DataFrame()\n",
    "amazon_cols = ['review','positive']\n",
    "\n",
    "# Strip the quotes\n",
    "strip_quotes(amazon_txt, amazon_txt_cln)\n",
    "\n",
    "# Create the CSV\n",
    "with open(amazon_csv,'w') as f:\n",
    "    for line in open(amazon_txt_cln):\n",
    "        f.write(line)\n",
    "    f.close()\n",
    "reviews2 = pd.read_csv(amazon_csv, sep=\"\\t\", header=None, names=['review','positive'])\n",
    "reviews2.to_csv(amazon_csv, index=False)\n",
    "\n",
    "# Clean the CSV\n",
    "reviews2['review'] = reviews2['review'].apply(lambda x: re.sub('-',' ', str(x))) # separate hyphenated words\n",
    "reviews2['review'] = reviews2['review'].apply(lambda x: re.sub('[^\\w\\s\\d]','', str(x))) # strip non-alphanumeric characters\n",
    "reviews2['review'] = reviews2['review'].str.lower() # convert all to lowercase"
   ]
  },
  {
   "cell_type": "code",
   "execution_count": 33,
   "metadata": {},
   "outputs": [],
   "source": [
    "# Setting up the features in the new dataset\n",
    "for key in keywords:\n",
    "    reviews2[str(key)] = reviews2.review.str.contains(\n",
    "        ' ' + str(key) + ' ',\n",
    "        case=False\n",
    "    )"
   ]
  },
  {
   "cell_type": "code",
   "execution_count": 35,
   "metadata": {},
   "outputs": [
    {
     "name": "stdout",
     "output_type": "stream",
     "text": [
      "Number of mislabeled points out of a total 1000 points : 0\n",
      "BernoulliNB(alpha=1.0, binarize=0.0, class_prior=None, fit_prior=True)\n"
     ]
    },
    {
     "name": "stderr",
     "output_type": "stream",
     "text": [
      "/anaconda3/lib/python3.6/site-packages/sklearn/naive_bayes.py:461: RuntimeWarning: divide by zero encountered in log\n",
      "  self.class_log_prior_ = (np.log(self.class_count_) -\n"
     ]
    }
   ],
   "source": [
    "data = reviews2[keywords]\n",
    "target = reviews2['positive']\n",
    "\n",
    "# Instantiate our model and store it in a new variable.\n",
    "bnb2 = BernoulliNB()\n",
    "\n",
    "# Fit our model to the data.\n",
    "bnb2.fit(data, target)\n",
    "\n",
    "# Classify, storing the result in a new variable.\n",
    "y_pred = bnb2.predict(data)\n",
    "\n",
    "# Display our results.\n",
    "print(\"Number of mislabeled points out of a total {} points : {}\".format(\n",
    "    data.shape[0],\n",
    "    (target != y_pred).sum()\n",
    "))\n"
   ]
  },
  {
   "cell_type": "markdown",
   "metadata": {},
   "source": [
    "# This also seems too good to be true. What's up? I'll ask you about it at our meeting."
   ]
  },
  {
   "cell_type": "code",
   "execution_count": null,
   "metadata": {
    "collapsed": true
   },
   "outputs": [],
   "source": []
  }
 ],
 "metadata": {
  "kernelspec": {
   "display_name": "Python 3",
   "language": "python",
   "name": "python3"
  },
  "language_info": {
   "codemirror_mode": {
    "name": "ipython",
    "version": 3
   },
   "file_extension": ".py",
   "mimetype": "text/x-python",
   "name": "python",
   "nbconvert_exporter": "python",
   "pygments_lexer": "ipython3",
   "version": "3.6.2"
  }
 },
 "nbformat": 4,
 "nbformat_minor": 2
}
