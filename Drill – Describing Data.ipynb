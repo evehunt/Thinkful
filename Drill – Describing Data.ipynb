{
 "cells": [
  {
   "cell_type": "code",
   "execution_count": 24,
   "metadata": {
    "collapsed": true
   },
   "outputs": [],
   "source": [
    "import statistics\n",
    "import numpy as np\n",
    "import pandas as pd\n",
    "import matplotlib.pyplot as plt"
   ]
  },
  {
   "cell_type": "code",
   "execution_count": 31,
   "metadata": {},
   "outputs": [
    {
     "name": "stdout",
     "output_type": "stream",
     "text": [
      "Median: 10.0\n",
      "Mode: 8\n",
      "Variance: 2.734262327610589\n",
      "Standard Error: 1.03345401972\n"
     ]
    },
    {
     "data": {
      "text/plain": [
       "count     7.000000\n",
       "mean      9.857143\n",
       "std       2.734262\n",
       "min       6.000000\n",
       "25%       8.000000\n",
       "50%      10.000000\n",
       "75%      11.500000\n",
       "max      14.000000\n",
       "Name: age, dtype: float64"
      ]
     },
     "execution_count": 31,
     "metadata": {},
     "output_type": "execute_result"
    }
   ],
   "source": [
    "# Greg was 14, Marcia was 12, Peter was 11, Jan was 10, Bobby was 8,\n",
    "# and Cindy was 6 when they started playing the Brady kids on The \n",
    "# Brady Bunch. Cousin Oliver was 8 years old when he joined the \n",
    "# show. What are the mean, median, and mode of the kids' ages when \n",
    "# they first appeared on the show? What are the variance, \n",
    "# standard deviation, and standard error?\n",
    "\n",
    "# Make and populate a data frame.\n",
    "df1 = pd.DataFrame()\n",
    "df1['age'] = [14, 12, 11, 10, 8, 6, 8]\n",
    "\n",
    "# Calculations\n",
    "\n",
    "# Median, mode, variance, standard error.\n",
    "median = np.median(df1['age'])\n",
    "print(\"Median: \" + str(median))\n",
    "\n",
    "mode = statistics.mode(df1['age'])\n",
    "print(\"Mode: \" + str(mode))\n",
    "\n",
    "variance = np.std(df1['age'], ddof=1)\n",
    "print(\"Variance: \" + str(variance))\n",
    "\n",
    "standard_error = np.std(df1['age'], ddof=1) / np.sqrt(len(df1['age'])) \n",
    "print(\"Standard Error: \" + str(standard_error))\n",
    "\n",
    "# Everything else.\n",
    "df1['age'].describe()"
   ]
  },
  {
   "cell_type": "code",
   "execution_count": 51,
   "metadata": {},
   "outputs": [
    {
     "name": "stdout",
     "output_type": "stream",
     "text": [
      "I would use mean and standard deviation because there are no outliers.\n"
     ]
    }
   ],
   "source": [
    "# Using these estimates, if you had to choose only one estimate \n",
    "# of central tendency and one estimate of variance to describe \n",
    "# the data, which would you pick and why?\n",
    "\n",
    "print(\"I would use mean and standard deviation because there are no outliers.\")"
   ]
  },
  {
   "cell_type": "code",
   "execution_count": 48,
   "metadata": {},
   "outputs": [
    {
     "name": "stdout",
     "output_type": "stream",
     "text": [
      "Median: 10.0\n",
      "Mode: 8\n",
      "Variance: 2.516611478423583\n",
      "Standard Error: 0.951189731211\n",
      "\n",
      "Mean, variance, and standard error changed. Median and mode did not.\n"
     ]
    }
   ],
   "source": [
    "# Next, Cindy has a birthday. Update your estimates- what \n",
    "# changed, and what didn't?\n",
    "\n",
    "# Make and populate a data frame.\n",
    "df3 = pd.DataFrame()\n",
    "df3['age'] = [14, 12, 11, 10, 8, 7, 8]\n",
    "\n",
    "# Calculations\n",
    "\n",
    "# Median, mode, variance, standard error.\n",
    "median = np.median(df3['age'])\n",
    "print(\"Median: \" + str(median))\n",
    "\n",
    "mode = statistics.mode(df3['age'])\n",
    "print(\"Mode: \" + str(mode))\n",
    "\n",
    "variance = np.std(df3['age'], ddof=1)\n",
    "print(\"Variance: \" + str(variance))\n",
    "\n",
    "standard_error = np.std(df3['age'], ddof=1) / np.sqrt(len(df3['age'])) \n",
    "print(\"Standard Error: \" + str(standard_error))\n",
    "\n",
    "# Everything else.\n",
    "df3['age'].describe()\n",
    "\n",
    "print(\"\\nMean, variance, and standard error changed. Median and mode did not.\")"
   ]
  },
  {
   "cell_type": "code",
   "execution_count": 49,
   "metadata": {},
   "outputs": [
    {
     "name": "stdout",
     "output_type": "stream",
     "text": [
      "Median: 10.0\n",
      "Variance: 4.3369947901195145\n",
      "Standard Error: 1.63922995029\n",
      "\n",
      "I would now use median and IQR; Jessica is a dramatic outlier.\n"
     ]
    }
   ],
   "source": [
    "# Nobody likes Cousin Oliver. Maybe the network should have used \n",
    "# an even younger actor. Replace Cousin Oliver with 1-year-old \n",
    "# Jessica, then recalculate again. Does this change your choice \n",
    "# of central tendency or variance estimation methods?\n",
    "\n",
    "# Make and populate a data frame.\n",
    "df2 = pd.DataFrame()\n",
    "df2['age'] = [14, 12, 11, 10, 1, 6, 8]\n",
    "\n",
    "# Calculations\n",
    "\n",
    "# Median, mode, variance, standard error.\n",
    "median = np.median(df2['age'])\n",
    "print(\"Median: \" + str(median))\n",
    "\n",
    "# Removing; there is no longer a mode.\n",
    "# mode = statistics.mode(df2['age'])\n",
    "# print(\"Mode: \" + str(mode))\n",
    "\n",
    "variance = np.std(df2['age'], ddof=1)\n",
    "print(\"Variance: \" + str(variance))\n",
    "\n",
    "standard_error = np.std(df2['age'], ddof=1) / np.sqrt(len(df2['age'])) \n",
    "print(\"Standard Error: \" + str(standard_error))\n",
    "\n",
    "# Everything else.\n",
    "df2['age'].describe()\n",
    "\n",
    "print(\"\\nI would now use median and IQR; Jessica is a dramatic outlier.\")"
   ]
  },
  {
   "cell_type": "code",
   "execution_count": 58,
   "metadata": {},
   "outputs": [
    {
     "name": "stdout",
     "output_type": "stream",
     "text": [
      "Omit SciPhi Phanatic because it's an outlier –\n",
      "%20.0\n"
     ]
    }
   ],
   "source": [
    "# On the 50th anniversary of The Brady Bunch, four different \n",
    "# magazines asked their readers whether they were fans of the \n",
    "# show. The answers were: TV Guide 20% fans Entertainment Weekly \n",
    "# 23% fans Pop Culture Today 17% fans SciPhi Phanatic 5% fans\n",
    "\n",
    "# Based on these numbers, what percentage of adult Americans \n",
    "# would you estimate were Brady Bunch fans on the 50th anniversary \n",
    "# of the show?\n",
    "\n",
    "print(\"Omit SciPhi Phanatic because it's an outlier –\")\n",
    "mean = (20+23+17)/3\n",
    "print(\"%\" +str(mean))"
   ]
  }
 ],
 "metadata": {
  "kernelspec": {
   "display_name": "Python 3",
   "language": "python",
   "name": "python3"
  },
  "language_info": {
   "codemirror_mode": {
    "name": "ipython",
    "version": 3
   },
   "file_extension": ".py",
   "mimetype": "text/x-python",
   "name": "python",
   "nbconvert_exporter": "python",
   "pygments_lexer": "ipython3",
   "version": "3.6.2"
  }
 },
 "nbformat": 4,
 "nbformat_minor": 2
}
