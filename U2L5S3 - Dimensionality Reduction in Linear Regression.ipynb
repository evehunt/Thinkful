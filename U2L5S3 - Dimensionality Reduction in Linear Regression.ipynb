{
 "cells": [
  {
   "cell_type": "code",
   "execution_count": 1,
   "metadata": {},
   "outputs": [
    {
     "data": {
      "text/html": [
       "<script>\n",
       "code_show=true; \n",
       "function code_toggle() {\n",
       " if (code_show){\n",
       " $('div.input').hide();\n",
       " } else {\n",
       " $('div.input').show();\n",
       " }\n",
       " code_show = !code_show\n",
       "} \n",
       "$( document ).ready(code_toggle);\n",
       "</script>\n",
       "<i>The raw code for this IPython notebook is by default hidden for easier reading.\n",
       "To toggle on/off the raw code, click <a href=\"javascript:code_toggle()\">here</a></i>."
      ],
      "text/plain": [
       "<IPython.core.display.HTML object>"
      ]
     },
     "execution_count": 1,
     "metadata": {},
     "output_type": "execute_result"
    }
   ],
   "source": [
    "# Make code toggle-able for easier review.\n",
    "from IPython.display import HTML\n",
    "\n",
    "HTML('''<script>\n",
    "code_show=true; \n",
    "function code_toggle() {\n",
    " if (code_show){\n",
    " $('div.input').hide();\n",
    " } else {\n",
    " $('div.input').show();\n",
    " }\n",
    " code_show = !code_show\n",
    "} \n",
    "$( document ).ready(code_toggle);\n",
    "</script>\n",
    "<i>The raw code for this IPython notebook is by default hidden for easier reading.\n",
    "To toggle on/off the raw code, click <a href=\"javascript:code_toggle()\">here</a></i>.''')"
   ]
  },
  {
   "cell_type": "code",
   "execution_count": 4,
   "metadata": {
    "collapsed": true
   },
   "outputs": [],
   "source": [
    "import math\n",
    "import warnings\n",
    "\n",
    "from matplotlib import pyplot as plt\n",
    "import numpy as np\n",
    "import pandas as pd\n",
    "import seaborn as sns\n",
    "from sklearn import linear_model\n",
    "from sklearn.cross_decomposition import PLSRegression\n",
    "\n",
    "%matplotlib inline\n",
    "sns.set_style('white')\n",
    "\n",
    "# Suppress annoying harmless error.\n",
    "warnings.filterwarnings(\n",
    "    action=\"ignore\",\n",
    "    module=\"scipy\",\n",
    "    message=\"^internal gelsd\"\n",
    ")"
   ]
  },
  {
   "cell_type": "code",
   "execution_count": 5,
   "metadata": {
    "collapsed": true
   },
   "outputs": [],
   "source": [
    "def plsr_diff(k, p_inp=10):\n",
    "    \n",
    "    # Number of datapoints in outcome.\n",
    "    n = 1000\n",
    "\n",
    "    # Number of features.\n",
    "    p = p_inp\n",
    "\n",
    "    # Create random normally distributed data for parameters.\n",
    "    X = np.random.normal(size=n * p).reshape((n, p))\n",
    "\n",
    "    # Create normally distributed outcome related to parameters but with noise.\n",
    "    y = X[:, 0] + 2 * X[:, 1] + np.random.normal(size=n * 1) + 5\n",
    "    \n",
    "    # Fit a linear model with all 10 features.\n",
    "    regr = linear_model.LinearRegression(10)\n",
    "    regr.fit(X, y)\n",
    "\n",
    "    # Save predicted values.\n",
    "    Y_pred = regr.predict(X)\n",
    "    r_r_sq = regr.score(X, y)\n",
    "\n",
    "    # Fit a linear model using Partial Least Squares Regression.\n",
    "    # Reduce feature space to k dimensions.\n",
    "    pls1 = PLSRegression(n_components=k)\n",
    "\n",
    "    # Reduce X to R(X) and regress on y.\n",
    "    pls1.fit(X, y)\n",
    "\n",
    "    # Save predicted values.\n",
    "    Y_PLS_pred = pls1.predict(X)\n",
    "    pls_r_sq = pls1.score(X, y)\n",
    "    \n",
    "    # Difference between predictions\n",
    "    difference = abs(pls_r_sq - r_r_sq)\n",
    "\n",
    "    return difference"
   ]
  },
  {
   "cell_type": "markdown",
   "metadata": {},
   "source": [
    "## The benefit of increasing the number of components included in a PLSR model diminishes rapidly with increased _n_.\n",
    "\n",
    "##### Differences between linear regression outcomes & PLSR outcomes given _n_ components are reproduced below:"
   ]
  },
  {
   "cell_type": "code",
   "execution_count": 6,
   "metadata": {},
   "outputs": [
    {
     "name": "stdout",
     "output_type": "stream",
     "text": [
      "    k          diff\n",
      "0   1  1.085129e-02\n",
      "1   2  3.211698e-05\n",
      "2   3  6.673548e-08\n",
      "3   4  1.102286e-09\n",
      "4   5  9.621193e-13\n",
      "5   6  6.405987e-14\n",
      "6   7  1.110223e-16\n",
      "7   8  0.000000e+00\n",
      "8   9  0.000000e+00\n",
      "9  10  0.000000e+00\n"
     ]
    },
    {
     "data": {
      "image/png": "[encoded data removed]",
      "text/plain": [
       "<matplotlib.figure.Figure at 0x1a0f1e6f60>"
      ]
     },
     "metadata": {},
     "output_type": "display_data"
    }
   ],
   "source": [
    "plsr_diff_df = pd.DataFrame({'k':np.arange(1,11)})\n",
    "plsr_diff_df['diff'] = plsr_diff_df['k'].apply(lambda x: plsr_diff(x,10))\n",
    "\n",
    "print(plsr_diff_df)\n",
    "\n",
    "differences = sns.regplot(x='k',\n",
    "                          y='diff',\n",
    "                          data=plsr_diff_df,\n",
    "                          fit_reg=False)\n",
    "\n",
    "plt.title('Impact of p on PLSR')\n",
    "plt.xlabel('Number of parameters included in PLSR model')\n",
    "plt.ylabel('Difference between PLSR r-squared\\n& regression r-squared')\n",
    "plt.xticks(np.arange(1,11))\n",
    "\n",
    "plt.show()"
   ]
  },
  {
   "cell_type": "code",
   "execution_count": 9,
   "metadata": {},
   "outputs": [],
   "source": [
    "def plsr(k):\n",
    "    # Number of datapoints in outcome.\n",
    "    n = 1000\n",
    "\n",
    "    # Number of features.\n",
    "    p = 10\n",
    "\n",
    "    # Create random normally distributed data for parameters.\n",
    "    X = np.random.normal(size=n * p).reshape((n, p))\n",
    "\n",
    "    # Create normally distributed outcome related to parameters but with noise.\n",
    "    y = X[:, 0] + 2 * X[:, 1] + np.random.normal(size=n * 1) + 5\n",
    "\n",
    "    \n",
    "    # Fit a linear model with all 10 features.\n",
    "    regr = linear_model.LinearRegression()\n",
    "    regr.fit(X, y)\n",
    "\n",
    "    # Save predicted values.\n",
    "    Y_pred = regr.predict(X)\n",
    "    print('R-squared regression:', regr.score(X, y))\n",
    "\n",
    "    # Fit a linear model using Partial Least Squares Regression.\n",
    "    # Reduce feature space to 3 dimensions.\n",
    "    pls1 = PLSRegression(n_components=k)\n",
    "\n",
    "    # Reduce X to R(X) and regress on y.\n",
    "    pls1.fit(X, y)\n",
    "\n",
    "    # Save predicted values.\n",
    "    Y_PLS_pred = pls1.predict(X)\n",
    "    print('R-squared PLSR:', pls1.score(X, y))\n",
    "\n",
    "    # Compare the predictions of the two models\n",
    "    plt.scatter(Y_pred,Y_PLS_pred) \n",
    "    plt.xlabel('Predicted by original 10 features')\n",
    "    plt.ylabel('Predicted by 3 features')\n",
    "    plt.title('Comparing LR and PLSR predictions')\n",
    "    plt.show()"
   ]
  },
  {
   "cell_type": "markdown",
   "metadata": {},
   "source": [
    "##### Presented another way:"
   ]
  },
  {
   "cell_type": "code",
   "execution_count": 10,
   "metadata": {},
   "outputs": [
    {
     "name": "stdout",
     "output_type": "stream",
     "text": [
      "R-squared regression: 0.835715379331\n",
      "R-squared PLSR: 0.831055877805\n"
     ]
    },
    {
     "data": {
      "image/png": "[encoded data removed]",
      "text/plain": [
       "<matplotlib.figure.Figure at 0x1a0f1e64e0>"
      ]
     },
     "metadata": {},
     "output_type": "display_data"
    },
    {
     "name": "stdout",
     "output_type": "stream",
     "text": [
      "R-squared regression: 0.835090810236\n",
      "R-squared PLSR: 0.835073842842\n"
     ]
    },
    {
     "data": {
      "image/png": "[encoded data removed]",
      "text/plain": [
       "<matplotlib.figure.Figure at 0x1a0f1e61d0>"
      ]
     },
     "metadata": {},
     "output_type": "display_data"
    }
   ],
   "source": [
    "plsr(1)\n",
    "plsr(2)"
   ]
  },
  {
   "cell_type": "markdown",
   "metadata": {},
   "source": [
    "##### This makes sense – every time PLSR selects a vector that explains the most possible variance, it leaves less overall unexplained variance remaining for future vectors."
   ]
  },
  {
   "cell_type": "code",
   "execution_count": null,
   "metadata": {},
   "outputs": [],
   "source": [
    "# Define the scatterplot function\n",
    "def plot_scat(frame, X, Y):\n",
    "    fig, axes = plt.subplots(1, len(X), figsize=(14,3))\n",
    "    for var in X:\n",
    "        idx = X.index(var)\n",
    "        sns.regplot(y=frame[Y], x=frame[var], ax=axes[idx])"
   ]
  },
  {
   "cell_type": "code",
   "execution_count": null,
   "metadata": {
    "collapsed": true
   },
   "outputs": [],
   "source": []
  }
 ],
 "metadata": {
  "kernelspec": {
   "display_name": "Python 3",
   "language": "python",
   "name": "python3"
  },
  "language_info": {
   "codemirror_mode": {
    "name": "ipython",
    "version": 3
   },
   "file_extension": ".py",
   "mimetype": "text/x-python",
   "name": "python",
   "nbconvert_exporter": "python",
   "pygments_lexer": "ipython3",
   "version": "3.6.2"
  }
 },
 "nbformat": 4,
 "nbformat_minor": 2
}
