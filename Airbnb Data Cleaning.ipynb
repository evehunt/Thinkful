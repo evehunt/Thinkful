{
 "cells": [
  {
   "cell_type": "code",
   "execution_count": 45,
   "metadata": {
    "collapsed": true
   },
   "outputs": [],
   "source": [
    "import pandas as pd"
   ]
  },
  {
   "cell_type": "code",
   "execution_count": 46,
   "metadata": {
    "collapsed": true
   },
   "outputs": [],
   "source": [
    "# CLEAN CALENDAR DATA"
   ]
  },
  {
   "cell_type": "code",
   "execution_count": 33,
   "metadata": {
    "collapsed": true
   },
   "outputs": [],
   "source": [
    "calendar_data = pd.read_csv('/Users/guest/Documents/Education/Thinkful/Unit 1/Lesson 2 (SQL)/s5/calendar.csv')"
   ]
  },
  {
   "cell_type": "code",
   "execution_count": 34,
   "metadata": {},
   "outputs": [],
   "source": [
    "calendar_data['price'] = calendar_data['price'].str.replace(\"$\",\"\")\n",
    "calendar_data['price'] = calendar_data['price'].str.replace(\",\",\"\")\n",
    "calendar_data['price'] = calendar_data['price'].replace(['','NULL'],[0,'NULL'])\n",
    "calendar_data['price'] = calendar_data['price'].fillna('NULL')"
   ]
  },
  {
   "cell_type": "code",
   "execution_count": 35,
   "metadata": {},
   "outputs": [],
   "source": [
    "calendar_data['available'] = calendar_data['available'].str.replace('t','1')\n",
    "calendar_data['available'] = calendar_data['available'].str.replace('f','0')\n",
    "calendar_data['available'] = calendar_data['available'].astype(int)"
   ]
  },
  {
   "cell_type": "code",
   "execution_count": 36,
   "metadata": {
    "collapsed": true
   },
   "outputs": [],
   "source": [
    "calendar_data.to_csv('calendar_clean.csv', index=False)"
   ]
  },
  {
   "cell_type": "code",
   "execution_count": 85,
   "metadata": {
    "collapsed": true
   },
   "outputs": [],
   "source": [
    "# CLEAN LISTINGS DATA"
   ]
  },
  {
   "cell_type": "code",
   "execution_count": 105,
   "metadata": {
    "collapsed": true
   },
   "outputs": [],
   "source": [
    "listings_data = pd.read_csv('/Users/guest/Documents/Education/Thinkful/Unit 1/Lesson 2 (SQL)/s5/listings.csv')"
   ]
  },
  {
   "cell_type": "code",
   "execution_count": 106,
   "metadata": {},
   "outputs": [],
   "source": [
    "percent_cols = ['host_response_rate','host_acceptance_rate']\n",
    "\n",
    "cost_cols = ['price',\n",
    " 'weekly_price',\n",
    " 'monthly_price',\n",
    " 'security_deposit',\n",
    " 'cleaning_fee',\n",
    " 'extra_people']\n",
    "\n",
    "all_cols = ['id', 'listing_url', 'scrape_id', 'last_scraped', 'name', 'summary', 'space', 'description', 'experiences_offered', 'neighborhood_overview', 'notes', 'transit', 'thumbnail_url', 'medium_url', 'picture_url', 'xl_picture_url', 'host_id', 'host_url', 'host_name', 'host_since', 'host_location', 'host_about', 'host_response_time', 'host_response_rate', 'host_acceptance_rate', 'host_is_superhost', 'host_thumbnail_url', 'host_picture_url', 'host_neighbourhood', 'host_listings_count', 'host_total_listings_count', 'host_verifications', 'host_has_profile_pic', 'host_identity_verified', 'street', 'neighbourhood', 'neighbourhood_cleansed', 'neighbourhood_group_cleansed', 'city', 'state', 'zipcode', 'market', 'smart_location', 'country_code', 'country', 'latitude', 'longitude', 'is_location_exact', 'property_type', 'room_type', 'accommodates', 'bathrooms', 'bedrooms', 'beds', 'bed_type', 'amenities', 'square_feet', 'price_cost', 'weekly_price_cost', 'monthly_price_cost', 'security_deposit_cost', 'cleaning_fee_cost', 'guests_included', 'extra_people_cost', 'minimum_nights', 'maximum_nights', 'calendar_updated', 'has_availability', 'availability_30', 'availability_60', 'availability_90', 'availability_365', 'calendar_last_scraped', 'number_of_reviews', 'first_review', 'last_review', 'review_scores_rating', 'review_scores_accuracy', 'review_scores_cleanliness', 'review_scores_checkin', 'review_scores_communication', 'review_scores_location', 'review_scores_value', 'requires_license', 'license', 'jurisdiction_names', 'instant_bookable', 'cancellation_policy', 'require_guest_profile_picture', 'require_guest_phone_verification', 'calculated_host_listings_count', 'reviews_per_month']"
   ]
  },
  {
   "cell_type": "code",
   "execution_count": 107,
   "metadata": {},
   "outputs": [],
   "source": [
    "for col in cost_cols:\n",
    "    listings_data[col] = listings_data[col].str.replace('$','')\n",
    "    listings_data[col] = listings_data[col].str.replace(',','')\n",
    "    listings_data[col] = listings_data[col].replace(['','NULL'],[0,'NULL'])\n",
    "    listings_data[col] = listings_data[col].fillna('NULL')\n",
    "    new_col_name = col\n",
    "    new_col_name= new_col_name + '_cost'\n",
    "    listings_data = listings_data.rename(columns={col: new_col_name})"
   ]
  },
  {
   "cell_type": "code",
   "execution_count": 108,
   "metadata": {
    "collapsed": true
   },
   "outputs": [],
   "source": [
    "for col in percent_cols:\n",
    "    listings_data[col] = listings_data[col].str.replace('%','').astype(float)\n",
    "    listings_data[col] = listings_data[col]/100"
   ]
  },
  {
   "cell_type": "code",
   "execution_count": 109,
   "metadata": {},
   "outputs": [],
   "source": [
    "listings_data = listings_data.fillna('NULL')"
   ]
  },
  {
   "cell_type": "code",
   "execution_count": 110,
   "metadata": {
    "collapsed": true
   },
   "outputs": [],
   "source": [
    "listings_data.to_csv('listings_clean.csv', index=False)"
   ]
  }
 ],
 "metadata": {
  "kernelspec": {
   "display_name": "Python 3",
   "language": "python",
   "name": "python3"
  },
  "language_info": {
   "codemirror_mode": {
    "name": "ipython",
    "version": 3
   },
   "file_extension": ".py",
   "mimetype": "text/x-python",
   "name": "python",
   "nbconvert_exporter": "python",
   "pygments_lexer": "ipython3",
   "version": "3.6.2"
  }
 },
 "nbformat": 4,
 "nbformat_minor": 2
}
