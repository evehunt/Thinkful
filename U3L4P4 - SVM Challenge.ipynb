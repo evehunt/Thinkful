{
 "cells": [
  {
   "cell_type": "code",
   "execution_count": 1,
   "metadata": {
    "collapsed": true
   },
   "outputs": [],
   "source": [
    "import scipy\n",
    "\n",
    "import numpy as np\n",
    "import pandas as pd\n",
    "\n",
    "from sklearn.model_selection import cross_val_score\n",
    "from sklearn.ensemble import RandomForestClassifier\n",
    "from sklearn.svm import SVR\n",
    "\n",
    "import matplotlib.pyplot as plt\n",
    "import seaborn as sns\n",
    "\n",
    "%matplotlib inline"
   ]
  },
  {
   "cell_type": "markdown",
   "metadata": {},
   "source": [
    "### Classifier evaluation functions from unit 2"
   ]
  },
  {
   "cell_type": "code",
   "execution_count": 2,
   "metadata": {},
   "outputs": [],
   "source": [
    "# Build your confusion matrix and calculate sensitivity and specificity here.\n",
    "\n",
    "def evaluate(y_pred, target):\n",
    "    conf_data = {'target':target, 'y_pred':y_pred}\n",
    "    conf_data = pd.DataFrame(data=conf_data)\n",
    "    \n",
    "    true_negatives = conf_data.loc[(conf_data['target'] == False) & (conf_data['y_pred'] == False)].shape[0]\n",
    "    type_II = conf_data.loc[(conf_data['target'] == True) & (conf_data['y_pred'] == False)].shape[0] # False Negatives\n",
    "    total_negatives = true_negatives + type_II\n",
    "    \n",
    "    true_positives = conf_data.loc[(conf_data['target'] == True) & (conf_data['y_pred'] == True)].shape[0]\n",
    "    type_I = conf_data.loc[(conf_data['target'] == False) & (conf_data['y_pred'] == True)].shape[0] # False Positives\n",
    "    total_positives = true_positives + type_I\n",
    "    \n",
    "    total_positives = conf_data.loc[(conf_data['target'] == True)].shape[0]\n",
    "    total_negatives = conf_data.loc[(conf_data['target'] == False)].shape[0]\n",
    "    \n",
    "    sensitivity = round(true_positives/total_positives*100,2)\n",
    "    specificity = round(true_negatives/total_negatives*100,2)\n",
    "    \n",
    "    confusion_matrix = np.array([[true_negatives, type_II],\n",
    "                                 [type_I, true_positives]])\n",
    "   \n",
    "    output = {'n':conf_data.shape[0],\n",
    "              'Confusion Matrix':confusion_matrix,\n",
    "              'Type I':type_I,\n",
    "              'Type II':type_II,\n",
    "              'Sensitivity':sensitivity,\n",
    "              'Specificity':specificity}\n",
    "    \n",
    "    return output\n",
    "\n",
    "def cross_validation(dataframe,\n",
    "                     model,\n",
    "                     k, # number of folds\n",
    "                     target, # string – target column name within dataframe\n",
    "                     variables): # list – X values within dataframe\n",
    "\n",
    "    frames = np.array_split(dataframe, k)     # Split frame into K folds    \n",
    "    label = 0     # Number the folds for easier reading\n",
    "    folds = {} # Create an empty list to hold outputs for each fold\n",
    "    \n",
    "    # Create a dataframe to serve as a final output\n",
    "\n",
    "    # Create dictionary to house outputs\n",
    "    summary_dict = {'fold_id':[], 'fold_size':[], 'mislabeled':[], 'percent_mislabeled':[], \n",
    "                    'sensitivity':[], 'specificity':[], 'type_i':[], 'type_ii':[]}\n",
    "    \n",
    "    for f in frames:\n",
    "        \n",
    "        # Define inputs\n",
    "        label = label + 1 # Update the label number\n",
    "        summary_dict['fold_id'].append(label)\n",
    "        \n",
    "        test_data = f[variables] # Create a frame to store test data in\n",
    "        \n",
    "        # Get y_pred\n",
    "        y_pred = model.predict(test_data) # Classify, storing the result in a new variable.\n",
    "        f['y_pred'] = y_pred # Add it to our fold\n",
    "\n",
    "        # Evaluate for outputs\n",
    "        evaluation = evaluate(f['y_pred'], f[target])\n",
    "\n",
    "        # Append dictionary\n",
    "        summary_dict['fold_size'].append(evaluation['n'])\n",
    "        summary_dict['mislabeled'].append((f[target] != f['y_pred']).sum())\n",
    "        summary_dict['percent_mislabeled'].append(round((f[target] != f['y_pred']).sum()/evaluation['n'],2))\n",
    "        summary_dict['sensitivity'].append(evaluation['Sensitivity'])\n",
    "        summary_dict['specificity'].append(evaluation['Specificity'])\n",
    "        summary_dict['type_i'].append(evaluation['Type I']) \n",
    "        summary_dict['type_ii'].append(evaluation['Type II'])\n",
    "\n",
    "    return pd.DataFrame(summary_dict)"
   ]
  },
  {
   "cell_type": "markdown",
   "metadata": {},
   "source": [
    "# Challenge\n",
    "_Transform this regression problem into a binary classifier and clean up the feature set. You can choose whether or not to include nutritional information, but try to cut your feature set down to the 30 most valuable features._"
   ]
  },
  {
   "cell_type": "code",
   "execution_count": 3,
   "metadata": {},
   "outputs": [],
   "source": [
    "filepath = '/Users/guest/Dropbox/Education/Thinkful/Unit 3 - Deeper into supervised learning/Lesson 4 - Support Vector Machines/epicurious-recipes-with-rating-and-nutrition/epi_r.csv'\n",
    "raw_data = pd.read_csv(filepath)"
   ]
  },
  {
   "cell_type": "markdown",
   "metadata": {},
   "source": [
    "## Selecting a cutoff for high vs. low scores."
   ]
  },
  {
   "cell_type": "code",
   "execution_count": 4,
   "metadata": {},
   "outputs": [
    {
     "data": {
      "image/png": "[encoded data removed]",
      "text/plain": [
       "<matplotlib.figure.Figure at 0x10cdf49e8>"
      ]
     },
     "metadata": {},
     "output_type": "display_data"
    },
    {
     "name": "stdout",
     "output_type": "stream",
     "text": [
      "The median value for recipe rating is 4.375\n",
      "There are 10738 observations below 4, and 9314 above or equal to it.\n"
     ]
    }
   ],
   "source": [
    "raw_data.rating.hist(bins=10)\n",
    "plt.title('Histogram of Recipe Ratings')\n",
    "plt.show()\n",
    "\n",
    "proposed_cutoff = 4\n",
    "below = raw_data['rating'][raw_data['rating'] >= proposed_cutoff].shape[0]\n",
    "above = raw_data['rating'][raw_data['rating'] < 4].shape[0]\n",
    "\n",
    "print('The median value for recipe rating is {}'.format(raw_data['rating'].median()))\n",
    "print('There are {} observations below {}, and {} above or equal to it.'.format(below, proposed_cutoff, above))"
   ]
  },
  {
   "cell_type": "markdown",
   "metadata": {},
   "source": [
    "###### I'm choosing 4 as the cut point for the binary rating variable. It's near the numeric center of the set, and it's my subjective opinion that a rating of 4 or above is \"pretty good\"."
   ]
  },
  {
   "cell_type": "code",
   "execution_count": 5,
   "metadata": {},
   "outputs": [],
   "source": [
    "all_data = raw_data.copy()\n",
    "all_data['rating_hilo'] = np.where(all_data['rating'] >= 4, 1, 0).astype(int)"
   ]
  },
  {
   "cell_type": "code",
   "execution_count": 6,
   "metadata": {},
   "outputs": [
    {
     "data": {
      "image/png": "[encoded data removed]",
      "text/plain": [
       "<matplotlib.figure.Figure at 0x1a14bfe630>"
      ]
     },
     "metadata": {},
     "output_type": "display_data"
    }
   ],
   "source": [
    "sns.countplot(x='rating_hilo', data=all_data)\n",
    "plt.title('Histogram of Recipe Ratings')\n",
    "plt.show()"
   ]
  },
  {
   "cell_type": "markdown",
   "metadata": {},
   "source": [
    "## Dealing with nulls"
   ]
  },
  {
   "cell_type": "markdown",
   "metadata": {},
   "source": [
    "###### I have two options here – I can either cut out the nulls in the nutrition data by dropping their rows (which will deprive our model of about a quarter of our observations), or by removing the nutritional information columns altogether (which will deprive our model of the 5 most interesting features). I have a hunch that the nutrition data is probably valuable, but I can check that assumption by running decision trees on both datasets (this data is small enough that they shouldn't take too long) and comparing performance."
   ]
  },
  {
   "cell_type": "code",
   "execution_count": 7,
   "metadata": {},
   "outputs": [
    {
     "name": "stdout",
     "output_type": "stream",
     "text": [
      "n with rows dropped: 15864\n",
      "n with columns dropped: 20052\n"
     ]
    }
   ],
   "source": [
    "# Drop the rows\n",
    "rows_dropped = all_data.copy().drop(['rating','title'], axis=1).dropna(axis=0)\n",
    "print('n with rows dropped: {}'.format(rows_dropped.shape[0]))\n",
    "\n",
    "# Drop the columns\n",
    "cols_dropped = all_data.copy().drop(['rating', 'title', 'calories', 'protein', 'fat', 'sodium'], axis=1)\n",
    "print('n with columns dropped: {}'.format(cols_dropped.shape[0]))"
   ]
  },
  {
   "cell_type": "markdown",
   "metadata": {},
   "source": [
    "###### With the rows dropped"
   ]
  },
  {
   "cell_type": "code",
   "execution_count": 8,
   "metadata": {},
   "outputs": [],
   "source": [
    "# Define X & Y\n",
    "rX = pd.DataFrame(rows_dropped.drop(['rating_hilo'], axis=1))\n",
    "rY = rows_dropped['rating_hilo']\n",
    "\n",
    "# Initialize and train the tree\n",
    "row_rfc = RandomForestClassifier(max_features=30, criterion='entropy')\n",
    "row_rfc.fit(rX, rY)\n",
    "score = cross_val_score(row_rfc, rX, rY, cv=10)"
   ]
  },
  {
   "cell_type": "code",
   "execution_count": 9,
   "metadata": {},
   "outputs": [
    {
     "name": "stdout",
     "output_type": "stream",
     "text": [
      "Decision tree model\n",
      "Mean accuracy across 10 folds: 0.63\n",
      "Variance: 0.0001\n",
      "\n",
      "** Rows dropped performance across 10 folds\n",
      "      percent_mislabeled  sensitivity  specificity\n",
      "mean                0.01        98.38        99.49\n",
      "std                 0.00         0.31         0.24\n"
     ]
    }
   ],
   "source": [
    "# Cross validate\n",
    "print('Decision tree model')\n",
    "print('Mean accuracy across 10 folds: {}'.format(round(score.mean(),2)))\n",
    "print('Variance: {}'.format(round(score.std()**2,4)))\n",
    "\n",
    "\n",
    "print('\\n** Rows dropped performance across 10 folds')\n",
    "print(cross_validation(rows_dropped, row_rfc, 10, 'rating_hilo', list(rX)).describe().round(2)[['percent_mislabeled','sensitivity','specificity']][1:3])"
   ]
  },
  {
   "cell_type": "markdown",
   "metadata": {},
   "source": [
    "###### With the columns dropped"
   ]
  },
  {
   "cell_type": "code",
   "execution_count": 10,
   "metadata": {},
   "outputs": [],
   "source": [
    "cX = pd.DataFrame(cols_dropped.drop(['rating_hilo'], axis=1))\n",
    "cY = cols_dropped['rating_hilo']\n",
    "\n",
    "# Initialize and train our tree.\n",
    "col_rfc = RandomForestClassifier(max_features=30, criterion='entropy')\n",
    "col_rfc.fit(cX, cY)\n",
    "score = cross_val_score(col_rfc, cX, cY, cv=10)"
   ]
  },
  {
   "cell_type": "code",
   "execution_count": 11,
   "metadata": {},
   "outputs": [
    {
     "name": "stdout",
     "output_type": "stream",
     "text": [
      "Mean accuracy across 10 folds: 0.63\n",
      "Variance: 0.0002\n",
      "\n",
      "** Columns dropped prediction performance across 10 folds\n",
      "      percent_mislabeled  sensitivity  specificity\n",
      "mean                0.01        98.08        99.34\n",
      "std                 0.00         0.74         0.35\n"
     ]
    }
   ],
   "source": [
    "print('Mean accuracy across 10 folds: {}'.format(round(score.mean(),2)))\n",
    "print('Variance: {}'.format(round(score.std()**2,4)))\n",
    "\n",
    "print('\\n** Columns dropped prediction performance across 10 folds')\n",
    "print(cross_validation(cols_dropped, col_rfc, 10, 'rating_hilo', list(cX)).describe().round(2)[['percent_mislabeled','sensitivity','specificity']][1:3])"
   ]
  },
  {
   "cell_type": "markdown",
   "metadata": {},
   "source": [
    "###### Those look nearly identical.  Let's have a closer look at feature importance between the two models to see how much the nutrition features are contributing."
   ]
  },
  {
   "cell_type": "code",
   "execution_count": 12,
   "metadata": {},
   "outputs": [
    {
     "name": "stdout",
     "output_type": "stream",
     "text": [
      "Rows dropped model:\n"
     ]
    },
    {
     "data": {
      "text/html": [
       "<div>\n",
       "<style>\n",
       "    .dataframe thead tr:only-child th {\n",
       "        text-align: right;\n",
       "    }\n",
       "\n",
       "    .dataframe thead th {\n",
       "        text-align: left;\n",
       "    }\n",
       "\n",
       "    .dataframe tbody tr th {\n",
       "        vertical-align: top;\n",
       "    }\n",
       "</style>\n",
       "<table border=\"1\" class=\"dataframe\">\n",
       "  <thead>\n",
       "    <tr style=\"text-align: right;\">\n",
       "      <th></th>\n",
       "      <th>feature</th>\n",
       "      <th>feature_importance</th>\n",
       "    </tr>\n",
       "  </thead>\n",
       "  <tbody>\n",
       "    <tr>\n",
       "      <th>0</th>\n",
       "      <td>calories</td>\n",
       "      <td>0.060640</td>\n",
       "    </tr>\n",
       "    <tr>\n",
       "      <th>1</th>\n",
       "      <td>protein</td>\n",
       "      <td>0.044627</td>\n",
       "    </tr>\n",
       "    <tr>\n",
       "      <th>2</th>\n",
       "      <td>fat</td>\n",
       "      <td>0.049180</td>\n",
       "    </tr>\n",
       "    <tr>\n",
       "      <th>3</th>\n",
       "      <td>sodium</td>\n",
       "      <td>0.060632</td>\n",
       "    </tr>\n",
       "  </tbody>\n",
       "</table>\n",
       "</div>"
      ],
      "text/plain": [
       "    feature  feature_importance\n",
       "0  calories            0.060640\n",
       "1   protein            0.044627\n",
       "2       fat            0.049180\n",
       "3    sodium            0.060632"
      ]
     },
     "execution_count": 12,
     "metadata": {},
     "output_type": "execute_result"
    }
   ],
   "source": [
    "rowdr_feature_importance = {'feature':list(rX),'feature_importance':list(row_rfc.feature_importances_)}     \n",
    "rowdr_feature_importance = pd.DataFrame(rowdr_feature_importance)\n",
    "\n",
    "print('Rows dropped model:')\n",
    "rowdr_feature_importance[rowdr_feature_importance['feature_importance'] >= .01]"
   ]
  },
  {
   "cell_type": "markdown",
   "metadata": {},
   "source": [
    "###### It looks as though the nutrition features are far and away the most important in this model. How does that compare with the importance of features in the columns dropped model?"
   ]
  },
  {
   "cell_type": "code",
   "execution_count": 13,
   "metadata": {},
   "outputs": [
    {
     "name": "stdout",
     "output_type": "stream",
     "text": [
      "Columns dropped model:\n"
     ]
    },
    {
     "data": {
      "text/html": [
       "<div>\n",
       "<style>\n",
       "    .dataframe thead tr:only-child th {\n",
       "        text-align: right;\n",
       "    }\n",
       "\n",
       "    .dataframe thead th {\n",
       "        text-align: left;\n",
       "    }\n",
       "\n",
       "    .dataframe tbody tr th {\n",
       "        vertical-align: top;\n",
       "    }\n",
       "</style>\n",
       "<table border=\"1\" class=\"dataframe\">\n",
       "  <thead>\n",
       "    <tr style=\"text-align: right;\">\n",
       "      <th></th>\n",
       "      <th>feature</th>\n",
       "      <th>feature_importance</th>\n",
       "    </tr>\n",
       "  </thead>\n",
       "  <tbody>\n",
       "    <tr>\n",
       "      <th>502</th>\n",
       "      <td>quick &amp; easy</td>\n",
       "      <td>0.011354</td>\n",
       "    </tr>\n",
       "    <tr>\n",
       "      <th>597</th>\n",
       "      <td>summer</td>\n",
       "      <td>0.010624</td>\n",
       "    </tr>\n",
       "    <tr>\n",
       "      <th>661</th>\n",
       "      <td>winter</td>\n",
       "      <td>0.011185</td>\n",
       "    </tr>\n",
       "  </tbody>\n",
       "</table>\n",
       "</div>"
      ],
      "text/plain": [
       "          feature  feature_importance\n",
       "502  quick & easy            0.011354\n",
       "597        summer            0.010624\n",
       "661        winter            0.011185"
      ]
     },
     "execution_count": 13,
     "metadata": {},
     "output_type": "execute_result"
    }
   ],
   "source": [
    "coldr_feature_importance = {'feature':list(cX),'feature_importance':list(col_rfc.feature_importances_)}     \n",
    "coldr_feature_importance = pd.DataFrame(coldr_feature_importance)\n",
    "\n",
    "print('Columns dropped model:')\n",
    "coldr_feature_importance[coldr_feature_importance['feature_importance'] >= .01]"
   ]
  },
  {
   "cell_type": "markdown",
   "metadata": {},
   "source": [
    "###### The nutrition columns are more impactful than any other features in the dataset. Let's move forward with the model that retains them and drops null rows."
   ]
  },
  {
   "cell_type": "markdown",
   "metadata": {},
   "source": [
    "## First iteration"
   ]
  },
  {
   "cell_type": "code",
   "execution_count": 14,
   "metadata": {},
   "outputs": [],
   "source": [
    "X = pd.DataFrame(rows_dropped[['calories', 'protein', 'fat', 'sodium']])\n",
    "Y = rows_dropped['rating_hilo']"
   ]
  },
  {
   "cell_type": "code",
   "execution_count": 15,
   "metadata": {},
   "outputs": [
    {
     "data": {
      "text/plain": [
       "SVR(C=1.0, cache_size=200, coef0=0.0, degree=3, epsilon=0.1, gamma='auto',\n",
       "  kernel='rbf', max_iter=-1, shrinking=True, tol=0.001, verbose=False)"
      ]
     },
     "execution_count": 15,
     "metadata": {},
     "output_type": "execute_result"
    }
   ],
   "source": [
    "svr2 = SVR()\n",
    "svr2.fit(X, Y)"
   ]
  },
  {
   "cell_type": "code",
   "execution_count": 16,
   "metadata": {},
   "outputs": [
    {
     "data": {
      "text/plain": [
       "array([0.13313117, 0.10589892, 0.10130665, 0.11739195, 0.1192018 ])"
      ]
     },
     "execution_count": 16,
     "metadata": {},
     "output_type": "execute_result"
    }
   ],
   "source": [
    "cross_val_score(svr2, X, Y, cv=5)"
   ]
  },
  {
   "cell_type": "markdown",
   "metadata": {},
   "source": [
    "###### This model still sucks! Maybe I should try a different feature selection method?"
   ]
  },
  {
   "cell_type": "markdown",
   "metadata": {},
   "source": [
    "## Second iteration"
   ]
  },
  {
   "cell_type": "markdown",
   "metadata": {},
   "source": [
    "The features my random forests chose didn't do me a lot of good. I'm going to make an attempt at feature selection via select K best."
   ]
  },
  {
   "cell_type": "code",
   "execution_count": 42,
   "metadata": {},
   "outputs": [
    {
     "name": "stdout",
     "output_type": "stream",
     "text": [
      "Best 30 Features:\n",
      "['calories', 'protein', 'fat', 'sodium', 'alcoholic', 'bitters', 'bon appétit', 'christmas', 'cocktail', 'cocktail party', 'dinner', 'drink', 'fall', 'gin', 'goat cheese', 'grill', 'grill/barbecue', 'harpercollins', 'house & garden', 'low carb', 'pasta', 'peanut free', 'quick & easy', 'roast', 'soy free', 'spirit', 'stuffing/dressing', 'thanksgiving', 'vegan', 'turkey']\n"
     ]
    }
   ],
   "source": [
    "from sklearn.feature_selection import SelectKBest\n",
    "from sklearn.feature_selection import chi2\n",
    "\n",
    "selector = SelectKBest(chi2, k=30)\n",
    "selector.fit(rX,rY)\n",
    "\n",
    "rd_k_best = rows_dropped.copy()\n",
    "idxs_selected = selector.get_support(indices=True)\n",
    "best_30 = list(rd_k_best[rd_k_best.columns[idxs_selected]].head())\n",
    "\n",
    "print('Best 30 Features:')\n",
    "print(best_30)"
   ]
  },
  {
   "cell_type": "code",
   "execution_count": 43,
   "metadata": {},
   "outputs": [],
   "source": [
    "X = pd.DataFrame(rows_dropped[best_30])\n",
    "Y = rows_dropped['rating_hilo']"
   ]
  },
  {
   "cell_type": "code",
   "execution_count": 44,
   "metadata": {
    "scrolled": true
   },
   "outputs": [
    {
     "data": {
      "text/plain": [
       "SVR(C=1.0, cache_size=200, coef0=0.0, degree=3, epsilon=0.1, gamma='auto',\n",
       "  kernel='rbf', max_iter=-1, shrinking=True, tol=0.001, verbose=False)"
      ]
     },
     "execution_count": 44,
     "metadata": {},
     "output_type": "execute_result"
    }
   ],
   "source": [
    "svr3 = SVR()\n",
    "svr3.fit(X, Y)"
   ]
  },
  {
   "cell_type": "code",
   "execution_count": 46,
   "metadata": {},
   "outputs": [
    {
     "data": {
      "text/plain": [
       "array([0.0740986 , 0.04969971, 0.06998488, 0.08906999, 0.08302533])"
      ]
     },
     "execution_count": 46,
     "metadata": {},
     "output_type": "execute_result"
    }
   ],
   "source": [
    "cross_val_score(svr3, X, Y, cv=5)"
   ]
  },
  {
   "cell_type": "markdown",
   "metadata": {},
   "source": [
    "I got pretty good lift here overall, but the model is still overfit."
   ]
  },
  {
   "cell_type": "markdown",
   "metadata": {},
   "source": [
    "## Third iteration"
   ]
  },
  {
   "cell_type": "code",
   "execution_count": 50,
   "metadata": {},
   "outputs": [
    {
     "name": "stdout",
     "output_type": "stream",
     "text": [
      "Best 30 Features:\n",
      "['calories', 'protein', 'fat', 'sodium', 'bon appétit', 'drink', 'gin', 'house & garden', 'roast', 'thanksgiving']\n"
     ]
    }
   ],
   "source": [
    "from sklearn.feature_selection import SelectKBest\n",
    "from sklearn.feature_selection import chi2\n",
    "\n",
    "selector = SelectKBest(chi2, k=10)\n",
    "selector.fit(rX,rY)\n",
    "\n",
    "rd_k_best = rows_dropped.copy()\n",
    "idxs_selected = selector.get_support(indices=True)\n",
    "best_10 = list(rd_k_best[rd_k_best.columns[idxs_selected]].head())\n",
    "\n",
    "print('Best 30 Features:')\n",
    "print(best_10)"
   ]
  },
  {
   "cell_type": "code",
   "execution_count": 51,
   "metadata": {
    "collapsed": true
   },
   "outputs": [],
   "source": [
    "X = pd.DataFrame(rows_dropped[best_10])\n",
    "Y = rows_dropped['rating_hilo']"
   ]
  },
  {
   "cell_type": "code",
   "execution_count": 52,
   "metadata": {},
   "outputs": [
    {
     "data": {
      "text/plain": [
       "SVR(C=1.0, cache_size=200, coef0=0.0, degree=3, epsilon=0.1, gamma='auto',\n",
       "  kernel='rbf', max_iter=-1, shrinking=True, tol=0.001, verbose=False)"
      ]
     },
     "execution_count": 52,
     "metadata": {},
     "output_type": "execute_result"
    }
   ],
   "source": [
    "svr4 = SVR()\n",
    "svr4.fit(X, Y)"
   ]
  },
  {
   "cell_type": "code",
   "execution_count": 53,
   "metadata": {},
   "outputs": [
    {
     "data": {
      "text/plain": [
       "array([0.11869094, 0.08882676, 0.09069588, 0.11076892, 0.11105956])"
      ]
     },
     "execution_count": 53,
     "metadata": {},
     "output_type": "execute_result"
    }
   ],
   "source": [
    "cross_val_score(svr4, X, Y, cv=5)"
   ]
  },
  {
   "cell_type": "markdown",
   "metadata": {},
   "source": [
    "###### The second iteration is the best – less overfit than the third. "
   ]
  }
 ],
 "metadata": {
  "kernelspec": {
   "display_name": "Python 3",
   "language": "python",
   "name": "python3"
  },
  "language_info": {
   "codemirror_mode": {
    "name": "ipython",
    "version": 3
   },
   "file_extension": ".py",
   "mimetype": "text/x-python",
   "name": "python",
   "nbconvert_exporter": "python",
   "pygments_lexer": "ipython3",
   "version": "3.6.2"
  }
 },
 "nbformat": 4,
 "nbformat_minor": 2
}
