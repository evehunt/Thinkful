{
 "cells": [
  {
   "cell_type": "code",
   "execution_count": 1,
   "metadata": {},
   "outputs": [
    {
     "data": {
      "text/html": [
       "<script>\n",
       "code_show=true; \n",
       "function code_toggle() {\n",
       " if (code_show){\n",
       " $('div.input').hide();\n",
       " } else {\n",
       " $('div.input').show();\n",
       " }\n",
       " code_show = !code_show\n",
       "} \n",
       "$( document ).ready(code_toggle);\n",
       "</script>\n",
       "<i>The raw code for this IPython notebook is by default hidden for easier reading.\n",
       "To toggle on/off the raw code, click <a href=\"javascript:code_toggle()\">here</a></i>."
      ],
      "text/plain": [
       "<IPython.core.display.HTML object>"
      ]
     },
     "execution_count": 1,
     "metadata": {},
     "output_type": "execute_result"
    }
   ],
   "source": [
    "# Make code toggle-able for easier review.\n",
    "from IPython.display import HTML\n",
    "\n",
    "HTML('''<script>\n",
    "code_show=true; \n",
    "function code_toggle() {\n",
    " if (code_show){\n",
    " $('div.input').hide();\n",
    " } else {\n",
    " $('div.input').show();\n",
    " }\n",
    " code_show = !code_show\n",
    "} \n",
    "$( document ).ready(code_toggle);\n",
    "</script>\n",
    "<i>The raw code for this IPython notebook is by default hidden for easier reading.\n",
    "To toggle on/off the raw code, click <a href=\"javascript:code_toggle()\">here</a></i>.''')"
   ]
  },
  {
   "cell_type": "code",
   "execution_count": 2,
   "metadata": {},
   "outputs": [],
   "source": [
    "import numpy as np\n",
    "import pandas as pd\n",
    "pd.options.display.max_columns = 50\n",
    "\n",
    "import matplotlib.pyplot as plt\n",
    "import matplotlib.ticker as mtick\n",
    "import seaborn as sns\n",
    "\n",
    "from sklearn.preprocessing import Imputer\n",
    "\n",
    "from scipy.stats import normaltest\n",
    "from itertools import cycle\n",
    "\n",
    "from sklearn.preprocessing import StandardScaler\n",
    "from sklearn.decomposition import PCA \n",
    "from sklearn.model_selection import train_test_split\n",
    "from sklearn.model_selection import cross_val_score\n",
    "from sklearn import linear_model\n"
   ]
  },
  {
   "cell_type": "code",
   "execution_count": 3,
   "metadata": {},
   "outputs": [
    {
     "name": "stderr",
     "output_type": "stream",
     "text": [
      "/anaconda3/lib/python3.6/site-packages/IPython/core/interactiveshell.py:2698: DtypeWarning: Columns (9,12,15,17) have mixed types. Specify dtype option on import or set low_memory=False.\n",
      "  interactivity=interactivity, compiler=compiler, result=result)\n"
     ]
    }
   ],
   "source": [
    "# Read the data\n",
    "filepath = '/Users/guest/Dropbox/Education/Thinkful/Unit 3 - Deeper into supervised learning/Lesson 3 - Advanced Regression/U3L3P4 - Regression Challenge/database.csv'\n",
    "\n",
    "collisions = pd.read_csv(filepath)"
   ]
  },
  {
   "cell_type": "code",
   "execution_count": 4,
   "metadata": {
    "collapsed": true
   },
   "outputs": [],
   "source": [
    "# Set color library & define a dictionary to store color definitions\n",
    "cycol = cycle('bgrcmk')\n",
    "color_defs = {}"
   ]
  },
  {
   "cell_type": "code",
   "execution_count": 5,
   "metadata": {
    "collapsed": true
   },
   "outputs": [],
   "source": [
    "\n",
    "\n",
    "# Define a function that splits a list into n-length chunks\n",
    "def chunks(l, n):\n",
    "    # For item i in a range that is a length of l,\n",
    "    for i in range(0, len(l), n):\n",
    "        # Create an index range for l of n items:\n",
    "        yield l[i:i+n]\n",
    "\n",
    "# Define a histogram plotting function that utilizes the chunk function to yield n-length rows of histograms\n",
    "def plot_hists(frame, vs, width, colors=list(sns.color_palette(\"Set3\").as_hex())):\n",
    "    variables_chunked = chunks(vs, width) # Chunk the list of variables\n",
    "    \n",
    "    my_colors = colors\n",
    "    \n",
    "    # Create a chart for each chunk\n",
    "    for chunk in variables_chunked:\n",
    "        fig, axes = plt.subplots(1, len(chunk), figsize=(10,2))\n",
    "        fig.tight_layout()\n",
    "        \n",
    "        # Plot the variables in each chunk's charts\n",
    "        for var in chunk:\n",
    "            idx = chunk.index(var)\n",
    "            color_defs[var] = next(cycol)\n",
    "            frame.hist(var, ax=axes[idx], xrot=90, \n",
    "                       color=color_defs[var], alpha=0.5)\n",
    "            \n",
    "        \n",
    "        plt.show()\n",
    "        \n",
    "# Define a bar chart plotting function that utilizes the chunk function to yield n-length rows of bar charts\n",
    "def plot_bars(frame, vs, width):\n",
    "    variables_chunked = chunks(vs, width) # Chunk the list of variables\n",
    "    \n",
    "    # Create a chart for each chunk\n",
    "    for chunk in variables_chunked:\n",
    "        fig, axes = plt.subplots(1, len(chunk), figsize=(10,2))\n",
    "        fig.tight_layout()\n",
    "        if len(chunk) > 1:\n",
    "            # Plot the variables in each chunk's charts\n",
    "            for var in chunk:\n",
    "                idx = chunk.index(var)\n",
    "                color_defs[var] = cycol\n",
    "                frame[var].value_counts().head(20).plot.bar(ax=axes[idx], title=var, color=color_defs[var], alpha=0.5)\n",
    "        else:\n",
    "            color_defs[chunk[0]] = next(cycol)\n",
    "            frame[chunk[0]].value_counts().head(20).plot.bar(title=chunk[0], color=color_defs[var], alpha=0.5)\n",
    "            \n",
    "        plt.show()\n",
    "\n",
    "        \n",
    "######\n",
    "###### Function for visualizing and quantifying the impact of mathematical transformations on features\n",
    "######\n",
    "\n",
    "def transformation_test(data, \n",
    "                        variable, \n",
    "                        alpha=0.05, \n",
    "                        colors=(['blue']*7),\n",
    "                        output_all=True):    \n",
    "    \n",
    "    # Define transformation functions when necessary and store them in a dictionary.\n",
    "    def untransformed(x):return x\n",
    "    def square(x):return x**2\n",
    "    def cube(x):return x**3\n",
    "    def recip(x): return 1/x\n",
    "\n",
    "    tests = {'no_transformation':untransformed,\n",
    "             'squared_data':square,\n",
    "             'cubed_data':cube,\n",
    "             'square_root':np.sqrt,\n",
    "             'cube_root':np.cbrt,\n",
    "             'log':np.log,\n",
    "             'reciprocal':recip}\n",
    "    \n",
    "    # Transform the variables & store outputs\n",
    "    test_df = pd.DataFrame(columns=list(tests)) # Create a dataframe to store the transformed variables in\n",
    "    \n",
    "    # Create a dictionary to store test outputs\n",
    "    output_dict = {'transformation':list(tests.keys()),\n",
    "                   'test_statistic':[],\n",
    "                   'p_value':[]\n",
    "                  }\n",
    "        \n",
    "    for element in tests: # Iterate through the dictionary of transformation functions\n",
    "        \n",
    "        # Apply transformation to target variable & store it in the dataframe\n",
    "        test_df[element] = data[variable].apply(lambda x: tests[element](x)) \n",
    "        \n",
    "        # Perform the statistical test & generate a summary readout\n",
    "        stat, p = normaltest(test_df[element])\n",
    "        output_dict['test_statistic'].append(round(stat,2))\n",
    "        output_dict['p_value'].append(round(p,4))\n",
    "        \n",
    "    def p_check(p, alpha):\n",
    "        if p < alpha:\n",
    "            return 0\n",
    "        else:\n",
    "            return 1\n",
    "        \n",
    "    output_df = pd.DataFrame(output_dict, columns = ['transformation', 'test_statistic', 'p_value'])\n",
    "    output_df['normal'] = np.where(output_df['p_value']> alpha, True, False)\n",
    "            \n",
    "    \n",
    "    # Plot histograms of the transformations\n",
    "    plot_hists(test_df,\n",
    "               list(tests),\n",
    "               width=7,\n",
    "               colors=(colors))\n",
    "    plt.show\n",
    "    \n",
    "    # Print statistical readouts\n",
    "    if output_all == False:\n",
    "        if output_df.loc[output_df['normal'] == True].shape[0] > 0:\n",
    "            print('Returning transformations that made the data normal.\\n')\n",
    "            return output_df.loc[output_df['normal'] == True]\n",
    "        else:\n",
    "            nearest_match = output_df.loc[output_df['test_statistic'] == output_df['test_statistic'].min()]\n",
    "            \n",
    "            print('None of the applied transformations made the distribution normal! Returning nearest match.\\n')\n",
    "            return nearest_match\n",
    "            \n",
    "    else:\n",
    "        return output_df\n",
    "\n"
   ]
  },
  {
   "cell_type": "markdown",
   "metadata": {},
   "source": [
    "## _Outcome Variable_"
   ]
  },
  {
   "cell_type": "markdown",
   "metadata": {},
   "source": [
    "###### I'm interested in the binary outcome of __whether or not the collision had an impact on the flight__. My outcome variable will be the 'Flight Outcome' variable, recoded such that __1__ indicates some form of impact (_'PRECAUTIONARY LANDING', 'OTHER', 'ABORTED TAKEOFF', 'NONE'_, or _'ENGINE SHUTDOWN'_) on the flight & __0__ indicates no impact (_'NONE'_).\n",
    "\n",
    "I'm going to drop all observations where flight outcome is NaN. Unfortunately, NaN flight outcomes constitute a pretty big chunk of the data. "
   ]
  },
  {
   "cell_type": "code",
   "execution_count": 6,
   "metadata": {
    "scrolled": true
   },
   "outputs": [
    {
     "name": "stdout",
     "output_type": "stream",
     "text": [
      "Of 174104 total observations, Flight Impact is coded as nan 74639 times & as something other than nan 99465 times.\n"
     ]
    }
   ],
   "source": [
    "total_count = collisions.shape[0]\n",
    "null_values = collisions['Flight Impact'].isnull().sum()\n",
    "not_null = collisions['Flight Impact'].shape[0] - null_values\n",
    "print('Of {} total observations, Flight Impact is coded as nan {} times & as something other than nan {} times.'.format(total_count, null_values, not_null))"
   ]
  },
  {
   "cell_type": "markdown",
   "metadata": {},
   "source": [
    "###### While I'd be willing to bet that NaNs disproportionately represent _'NONE'_, I don't have any way to support that assumption. The set is large enough that I don't think the loss of data should matter too much to my model."
   ]
  },
  {
   "cell_type": "code",
   "execution_count": 7,
   "metadata": {},
   "outputs": [
    {
     "data": {
      "image/png": "[encoded data removed]",
      "text/plain": [
       "<matplotlib.figure.Figure at 0x10a385240>"
      ]
     },
     "metadata": {},
     "output_type": "display_data"
    }
   ],
   "source": [
    "# Copy the raw dataframe, dropping observations where Flight Impact == 0\n",
    "collisions_2 = collisions.copy().dropna(subset=['Flight Impact'])\n",
    "\n",
    "# Create a dataframe to store features in\n",
    "model_vars = pd.DataFrame({'flight_outcome':pd.get_dummies(collisions_2['Flight Impact'])['NONE']})\n",
    "model_vars['flight_outcome'] = model_vars['flight_outcome'].apply(lambda x: np.logical_not(x).astype(int))\n",
    "collisions_2['flight_outcome_recoded'] = model_vars['flight_outcome']\n",
    "\n",
    "# Visualize the outcome variable\n",
    "plt.figure(figsize=(10,5))\n",
    "\n",
    "ax = sns.countplot(y=model_vars['flight_outcome'], alpha=0.8)\n",
    "\n",
    "ax.set_title('Did the collision have an impact on the flight?')\n",
    "ax.set_ylabel('Impact on flight?')\n",
    "ax.set_xlabel('Counts of observations')\n",
    "\n",
    "ax.set_xticks(np.arange(0,100000,10000))\n",
    "ax.set_yticklabels(['No', 'Yes'])\n",
    "ax.xaxis.set_major_formatter(mtick.StrMethodFormatter('{x:,.0f}'))\n",
    "\n",
    "plt.show()"
   ]
  },
  {
   "cell_type": "markdown",
   "metadata": {},
   "source": [
    "## Feature Selection - Round 1"
   ]
  },
  {
   "cell_type": "code",
   "execution_count": 8,
   "metadata": {
    "collapsed": true
   },
   "outputs": [],
   "source": [
    "# Define lists of all the categorical variables and all the numeric variables for later use.\n",
    "categorical_variables = list(collisions.describe(include=[np.object]))\n",
    "numeric_variables = list(collisions.describe(include=[np.number]))"
   ]
  },
  {
   "cell_type": "markdown",
   "metadata": {},
   "source": [
    "### Numeric Variables"
   ]
  },
  {
   "cell_type": "markdown",
   "metadata": {},
   "source": [
    "###### Dealing with nulls"
   ]
  },
  {
   "cell_type": "code",
   "execution_count": 9,
   "metadata": {
    "scrolled": false
   },
   "outputs": [
    {
     "name": "stdout",
     "output_type": "stream",
     "text": [
      "Aircraft Mass: 2753\n",
      "Engine Make: 4794\n",
      "Engines: 2840\n",
      "Engine2 Position: 9971\n",
      "Engine4 Position: 97568\n",
      "Height: 14499\n",
      "Speed: 37179\n",
      "Distance: 50136\n",
      "Fatalities: 98913\n",
      "Injuries: 99258\n"
     ]
    }
   ],
   "source": [
    "for col in collisions_2[list(collisions_2.describe(include=[np.number]))]:\n",
    "    if collisions_2[col].isnull().sum() > 0:\n",
    "        print('{}: {}'.format(col, collisions_2[col].isnull().sum()))"
   ]
  },
  {
   "cell_type": "markdown",
   "metadata": {},
   "source": [
    "Aircraft Mass, Engine Make, Engines, Engine2 Position, and Engine4 Position, all have high numbers of missing values, but they're also all categorical. I'm going to get dummies for them."
   ]
  },
  {
   "cell_type": "code",
   "execution_count": 10,
   "metadata": {
    "collapsed": true
   },
   "outputs": [],
   "source": [
    "collisions_2 = pd.get_dummies(data=collisions_2, columns=['Aircraft Mass','Engine Make', 'Engines', 'Engine2 Position', 'Engine4 Position'])"
   ]
  },
  {
   "cell_type": "markdown",
   "metadata": {},
   "source": [
    "NaNs in 'Injuries' and 'Fatalities' almost certainly reflect 0s. I'm going to replace them."
   ]
  },
  {
   "cell_type": "code",
   "execution_count": 11,
   "metadata": {
    "collapsed": true
   },
   "outputs": [],
   "source": [
    "collisions_2[['Injuries', 'Fatalities']] = collisions_2[['Injuries', 'Fatalities']].fillna(value=0)"
   ]
  },
  {
   "cell_type": "markdown",
   "metadata": {},
   "source": [
    "I'm going to attempt to impute for Height, Speed, and Distance. "
   ]
  },
  {
   "cell_type": "code",
   "execution_count": 12,
   "metadata": {
    "collapsed": true
   },
   "outputs": [],
   "source": [
    "values = collisions_2[list(collisions_2.describe(include=[np.number]))]\n",
    "imputer = Imputer()\n",
    "transformed_values = imputer.fit_transform(values)\n",
    "\n",
    "collisions_w_imputation = pd.DataFrame(transformed_values, columns=list(collisions_2.describe(include=[np.number])))\n",
    "\n",
    "collisions_2[['Height', 'Speed', 'Distance']] = collisions_w_imputation[['Height', 'Speed', 'Distance']].values"
   ]
  },
  {
   "cell_type": "code",
   "execution_count": 13,
   "metadata": {
    "collapsed": true
   },
   "outputs": [],
   "source": [
    "for col in collisions_2[list(collisions_2.describe(include=[np.number]))]:\n",
    "    if collisions_2[col].isnull().sum() > 0:\n",
    "        print('{}: {}'.format(col, collisions_2[col].isnull().sum()))"
   ]
  },
  {
   "cell_type": "markdown",
   "metadata": {},
   "source": [
    "Great! I've accounted for all of the nulls for all of the numeric variables."
   ]
  },
  {
   "cell_type": "markdown",
   "metadata": {},
   "source": [
    "###### DATE: 'Incident Year,' 'Incident Month,' and 'Incident Day' appear to contain some pretty interesting patterns (which, incidentally, would probably be worth some deeper analysis unto themselves – what's with that uptick of collisions on the 30th? Why are these collisions increasing over time? Why do they peak in fall?), so I'll definitely be including them in my features. They'd likely be a bit more honest if I could weigh them by the overall number of flights in the same time periods, but I don't have that data on-hand."
   ]
  },
  {
   "cell_type": "code",
   "execution_count": 14,
   "metadata": {},
   "outputs": [
    {
     "data": {
      "image/png": "[encoded data removed]",
      "text/plain": [
       "<matplotlib.figure.Figure at 0x10c0a3f28>"
      ]
     },
     "metadata": {},
     "output_type": "display_data"
    }
   ],
   "source": [
    "plot_hists(collisions_2, ['Incident Year', 'Incident Month', 'Incident Day'], 3)"
   ]
  },
  {
   "cell_type": "code",
   "execution_count": 15,
   "metadata": {},
   "outputs": [
    {
     "data": {
      "image/png": "[encoded data removed]",
      "text/plain": [
       "<matplotlib.figure.Figure at 0x110a842e8>"
      ]
     },
     "metadata": {},
     "output_type": "display_data"
    },
    {
     "name": "stdout",
     "output_type": "stream",
     "text": [
      "      transformation  test_statistic  p_value  normal\n",
      "0  no_transformation         9417.14      0.0   False\n",
      "1       squared_data         9516.76      0.0   False\n",
      "2         cubed_data         9620.84      0.0   False\n",
      "3        square_root         9368.97      0.0   False\n",
      "4          cube_root         9353.16      0.0   False\n",
      "5                log         9321.91      0.0   False\n",
      "6         reciprocal         9231.01      0.0   False\n"
     ]
    },
    {
     "data": {
      "image/png": "[encoded data removed]",
      "text/plain": [
       "<matplotlib.figure.Figure at 0x110bdc710>"
      ]
     },
     "metadata": {},
     "output_type": "display_data"
    },
    {
     "name": "stdout",
     "output_type": "stream",
     "text": [
      "      transformation  test_statistic  p_value  normal\n",
      "0  no_transformation         7124.57      0.0   False\n",
      "1       squared_data        10544.88      0.0   False\n",
      "2         cubed_data         8864.02      0.0   False\n",
      "3        square_root         9993.51      0.0   False\n",
      "4          cube_root        15108.30      0.0   False\n",
      "5                log        28900.04      0.0   False\n",
      "6         reciprocal        71208.69      0.0   False\n"
     ]
    },
    {
     "data": {
      "image/png": "[encoded data removed]",
      "text/plain": [
       "<matplotlib.figure.Figure at 0x10fdeeb38>"
      ]
     },
     "metadata": {},
     "output_type": "display_data"
    },
    {
     "name": "stdout",
     "output_type": "stream",
     "text": [
      "      transformation  test_statistic  p_value  normal\n",
      "0  no_transformation        82950.08      0.0   False\n",
      "1       squared_data        16321.04      0.0   False\n",
      "2         cubed_data        12844.06      0.0   False\n",
      "3        square_root        10681.38      0.0   False\n",
      "4          cube_root         7694.82      0.0   False\n",
      "5                log        18261.71      0.0   False\n",
      "6         reciprocal        69680.59      0.0   False\n"
     ]
    }
   ],
   "source": [
    "for variable in ['Incident Year', 'Incident Month', 'Incident Day']:\n",
    "    print(transformation_test(data=collisions_2,\n",
    "                              variable=variable,\n",
    "                              alpha=0.05,\n",
    "                              colors=([color_defs['Incident Year']] + (['grey'] * 6))))"
   ]
  },
  {
   "cell_type": "markdown",
   "metadata": {},
   "source": [
    "None of these shake out a – I'm going to incorporate each year as its own binary variable, each month into its own binary variable, and leave out day of incident for now."
   ]
  },
  {
   "cell_type": "code",
   "execution_count": 16,
   "metadata": {
    "collapsed": true
   },
   "outputs": [],
   "source": [
    "model_vars[['Incident Year', 'Incident Month']] = collisions_2[['Incident Year', 'Incident Month']]\n",
    "model_vars = pd.get_dummies(data=model_vars, columns=['Incident Year', 'Incident Month'])"
   ]
  },
  {
   "cell_type": "markdown",
   "metadata": {},
   "source": [
    "###### _'Height'_ and _'Distance'_ are notable because of how overwhelmingly they gravitate towards zero. Most collisions seem to happen before the planes leave the ground! I'm going to incorporate them as binary features. _'Speed'_ has a pretty healthy looking two-tailed distribution that squares well with the observation that collisions happen before & during takeoff. It looks like I'll be able to incorporate it as a continuous variable."
   ]
  },
  {
   "cell_type": "code",
   "execution_count": 17,
   "metadata": {},
   "outputs": [
    {
     "data": {
      "image/png": "[encoded data removed]",
      "text/plain": [
       "<matplotlib.figure.Figure at 0x10a43e5c0>"
      ]
     },
     "metadata": {},
     "output_type": "display_data"
    }
   ],
   "source": [
    "plot_hists(collisions_2, ['Height', 'Distance', 'Speed'], 3)"
   ]
  },
  {
   "cell_type": "code",
   "execution_count": 18,
   "metadata": {
    "collapsed": true
   },
   "outputs": [],
   "source": [
    "# Incorporate height & distance binary variables where values of less than 1 are 0 and all others are 1.\n",
    "model_vars['height_bin'] = np.where(collisions_2['Height'] < 1, 0, 1)\n",
    "model_vars['distance_bin'] = np.where(collisions_2['Distance'] < 1, 0, 1)"
   ]
  },
  {
   "cell_type": "code",
   "execution_count": 19,
   "metadata": {},
   "outputs": [
    {
     "data": {
      "image/png": "[encoded data removed]",
      "text/plain": [
       "<matplotlib.figure.Figure at 0x10c004c50>"
      ]
     },
     "metadata": {},
     "output_type": "display_data"
    },
    {
     "name": "stdout",
     "output_type": "stream",
     "text": [
      "      transformation  test_statistic  p_value  normal\n",
      "0  no_transformation        15987.61      0.0   False\n",
      "1       squared_data        49412.80      0.0   False\n",
      "2         cubed_data        75550.05      0.0   False\n",
      "3        square_root        14618.58      0.0   False\n",
      "4          cube_root        31662.10      0.0   False\n",
      "5                log        98646.90      0.0   False\n",
      "6         reciprocal       270493.86      0.0   False\n"
     ]
    }
   ],
   "source": [
    "# Add a constant to the speed variable so it can be logged and inverted\n",
    "collisions_2['Speed_plus1'] = collisions_2['Speed'] + 1\n",
    "\n",
    "# Test transformations on speed\n",
    "print(transformation_test(data=collisions_2,\n",
    "                          variable='Speed_plus1',\n",
    "                          alpha=0.05,\n",
    "                          colors=([color_defs['Speed']] + (['grey'] * 6))))"
   ]
  },
  {
   "cell_type": "markdown",
   "metadata": {},
   "source": [
    "None of these transformations made my data normal! I'm going to proceed with the square root, because it looks best. However, the mode is extremely frequent."
   ]
  },
  {
   "cell_type": "code",
   "execution_count": 20,
   "metadata": {
    "collapsed": true
   },
   "outputs": [],
   "source": [
    "model_vars['speed_sqrt'] = np.sqrt(collisions_2['Speed'])"
   ]
  },
  {
   "cell_type": "markdown",
   "metadata": {},
   "source": [
    "###### _'Injuries'_ and _'Fatalities'_ are so rare that they're barely correlated with flight outcome. They're not going to be useful as features."
   ]
  },
  {
   "cell_type": "code",
   "execution_count": 21,
   "metadata": {},
   "outputs": [
    {
     "data": {
      "image/png": "[encoded data removed]",
      "text/plain": [
       "<matplotlib.figure.Figure at 0x10c082c18>"
      ]
     },
     "metadata": {},
     "output_type": "display_data"
    },
    {
     "name": "stdout",
     "output_type": "stream",
     "text": [
      "17.0 fatalities and 376.0 injuries across 99465 observations.\n",
      "\n",
      "Variable/Outcome Correlation Coefficients:\n",
      "Injuries      0.03\n",
      "Fatalities    0.02\n",
      "Name: flight_outcome_recoded, dtype: float64\n"
     ]
    }
   ],
   "source": [
    "plot_hists(collisions_2, ['Injuries', 'Fatalities'], 2)\n",
    "\n",
    "print('{} fatalities and {} injuries across {} observations.'.format(collisions_2['Fatalities'].sum(), collisions_2['Injuries'].sum(), collisions_2.shape[0]))\n",
    "\n",
    "print('\\nVariable/Outcome Correlation Coefficients:')\n",
    "print(round(collisions_2[['Injuries', 'Fatalities', 'flight_outcome_recoded']].corr()['flight_outcome_recoded'][:2],2))"
   ]
  },
  {
   "cell_type": "markdown",
   "metadata": {},
   "source": [
    "###### Points of impact and damage I'm interested in all the variables that specify the impact location (_'Aircraft Damage', 'Radome Strike', 'Radome Damage', 'Windshield Strike', 'Windshield Damage', 'Nose Strike', 'Nose Damage', 'Engine1 Strike', 'Engine1 Damage', 'Engine2 Strike', 'Engine2 Damage', 'Engine3 Strike', 'Engine3 Damage', 'Engine4 Strike', 'Engine4 Damage', 'Engine Ingested', 'Propeller Strike', 'Propeller Damage', 'Wing or Rotor Strike', 'Wing or Rotor Damage', 'Fuselage Strike', 'Fuselage Damage', 'Landing Gear Strike', 'Landing Gear Damage', 'Tail Strike', 'Tail Damage', 'Lights Strike', 'Lights Damage', 'Other Strike', _&_ 'Other Damage'_) – what points of impact, if any, are most likely to impact flight outcome?"
   ]
  },
  {
   "cell_type": "code",
   "execution_count": 22,
   "metadata": {},
   "outputs": [
    {
     "name": "stdout",
     "output_type": "stream",
     "text": [
      "           variable  count  percent  corr  nans\n",
      "0   Aircraft Damage  11380     0.11  0.35     0\n",
      "8    Engine1 Damage   1875     0.02  0.22     0\n",
      "15  Engine Ingested   6578     0.07  0.25     0\n"
     ]
    }
   ],
   "source": [
    "impact_location_variables = ['Aircraft Damage', 'Radome Strike', \n",
    "                             'Radome Damage', 'Windshield Strike', \n",
    "                             'Windshield Damage', 'Nose Strike', \n",
    "                             'Nose Damage', 'Engine1 Strike', \n",
    "                             'Engine1 Damage', 'Engine2 Strike', \n",
    "                             'Engine2 Damage', 'Engine3 Strike', \n",
    "                             'Engine3 Damage', 'Engine4 Strike', \n",
    "                             'Engine4 Damage', 'Engine Ingested', \n",
    "                             'Propeller Strike', 'Propeller Damage', \n",
    "                             'Wing or Rotor Strike', 'Wing or Rotor Damage', \n",
    "                             'Fuselage Strike', 'Fuselage Damage', \n",
    "                             'Landing Gear Strike', 'Landing Gear Damage', \n",
    "                             'Tail Strike', 'Tail Damage', \n",
    "                             'Lights Strike', 'Lights Damage', \n",
    "                             'Other Strike', 'Other Damage']\n",
    "\n",
    "impact_location_summaries = {'variable':[], 'count':[], 'percent':[], 'corr':[], 'nans':[]}\n",
    "\n",
    "for var in impact_location_variables:\n",
    "    impact_location_summaries['variable'].append(var)\n",
    "    impact_location_summaries['count'].append(collisions_2[var].sum())\n",
    "    impact_location_summaries['percent'].append(round(collisions_2[var].sum()/collisions_2.shape[0],2))\n",
    "    impact_location_summaries['nans'].append(collisions_2[var].isnull().sum())\n",
    "    impact_location_summaries['corr'].append(round(collisions_2[[var, 'flight_outcome_recoded']].corr()['flight_outcome_recoded'][:1].sum(),2))\n",
    "\n",
    "# Return variables with a correlation coefficient with the outcome variable of greater than 0.2.\n",
    "impact_location_df = pd.DataFrame(impact_location_summaries, columns=list(impact_location_summaries.keys()))\n",
    "print(impact_location_df[abs(impact_location_df['corr']) >0.2])\n"
   ]
  },
  {
   "cell_type": "code",
   "execution_count": 23,
   "metadata": {},
   "outputs": [
    {
     "data": {
      "image/png": "[encoded data removed]",
      "text/plain": [
       "<matplotlib.figure.Figure at 0x1a11fa6d30>"
      ]
     },
     "metadata": {},
     "output_type": "display_data"
    }
   ],
   "source": [
    "plot_hists(collisions_2, ['Aircraft Damage', 'Engine1 Damage', 'Engine Ingested'], 3)"
   ]
  },
  {
   "cell_type": "markdown",
   "metadata": {},
   "source": [
    "It looks like strikes that impact engines and the windshield are the most likely to impact flight outcome. Makes sense! I'll go ahead and incorporate them into my features."
   ]
  },
  {
   "cell_type": "code",
   "execution_count": 24,
   "metadata": {
    "collapsed": true
   },
   "outputs": [],
   "source": [
    "model_vars[['Aircraft Damage', 'Engine1 Damage', 'Engine Ingested']] = collisions_2[['Aircraft Damage', 'Engine1 Damage', 'Engine Ingested']]"
   ]
  },
  {
   "cell_type": "markdown",
   "metadata": {},
   "source": [
    "### Categorical Variables"
   ]
  },
  {
   "cell_type": "markdown",
   "metadata": {},
   "source": [
    "###### I'm interested in whether the species that collides with an airplane has an effect on whether or not the collision has an impact on the flight. However, over 750 species are named in the data & most of them don't occur very often. I'm going to rule out all unknown species, set the cutoff for inclusion at 1000, and build binary features for the remaining species."
   ]
  },
  {
   "cell_type": "code",
   "execution_count": 25,
   "metadata": {
    "collapsed": true
   },
   "outputs": [],
   "source": [
    "# Get counts for each species\n",
    "common_species = collisions_2.groupby(['Species Name'], as_index=False).count().sort_values(by='Record ID', ascending=False)[['Species Name', 'Record ID']]\n",
    "\n",
    "# Filter out unknown species & species with few incidents\n",
    "common_species = common_species[(common_species['Species Name'].str.contains(\"UNKNOWN\") == False) & (common_species['Record ID'] > 1000)]\n",
    "\n",
    "# Create new binary columns for the most common species\n",
    "for species in list(common_species['Species Name']):\n",
    "    model_vars[species] = np.where(collisions_2['Species Name'] == species, 1, 0)"
   ]
  },
  {
   "cell_type": "markdown",
   "metadata": {},
   "source": [
    "### Checking Correlations"
   ]
  },
  {
   "cell_type": "code",
   "execution_count": 26,
   "metadata": {},
   "outputs": [],
   "source": [
    "# Return variables with a correlation coefficient with the outcome variable of greater than 0.2.\n",
    "corrs_with_outcome = {'variables':[], 'correlation':[]}\n",
    "\n",
    "for variable in list(model_vars.drop('flight_outcome', axis=1)):\n",
    "    corrs_with_outcome['variables'].append(variable)\n",
    "    corrs_with_outcome['correlation'].append(model_vars[['flight_outcome', variable]].corr()[variable].sum() - 1)\n",
    "\n",
    "outcome_corrs_df = pd.DataFrame(corrs_with_outcome)\n",
    "#print(impact_location_df[abs(impact_location_df['corr']) > 0.2])"
   ]
  },
  {
   "cell_type": "code",
   "execution_count": 27,
   "metadata": {},
   "outputs": [
    {
     "data": {
      "text/html": [
       "<div>\n",
       "<style>\n",
       "    .dataframe thead tr:only-child th {\n",
       "        text-align: right;\n",
       "    }\n",
       "\n",
       "    .dataframe thead th {\n",
       "        text-align: left;\n",
       "    }\n",
       "\n",
       "    .dataframe tbody tr th {\n",
       "        vertical-align: top;\n",
       "    }\n",
       "</style>\n",
       "<table border=\"1\" class=\"dataframe\">\n",
       "  <thead>\n",
       "    <tr style=\"text-align: right;\">\n",
       "      <th></th>\n",
       "      <th>correlation</th>\n",
       "      <th>variables</th>\n",
       "    </tr>\n",
       "  </thead>\n",
       "  <tbody>\n",
       "    <tr>\n",
       "      <th>41</th>\n",
       "      <td>0.353963</td>\n",
       "      <td>Aircraft Damage</td>\n",
       "    </tr>\n",
       "    <tr>\n",
       "      <th>42</th>\n",
       "      <td>0.219079</td>\n",
       "      <td>Engine1 Damage</td>\n",
       "    </tr>\n",
       "    <tr>\n",
       "      <th>43</th>\n",
       "      <td>0.250244</td>\n",
       "      <td>Engine Ingested</td>\n",
       "    </tr>\n",
       "  </tbody>\n",
       "</table>\n",
       "</div>"
      ],
      "text/plain": [
       "    correlation        variables\n",
       "41     0.353963  Aircraft Damage\n",
       "42     0.219079   Engine1 Damage\n",
       "43     0.250244  Engine Ingested"
      ]
     },
     "execution_count": 27,
     "metadata": {},
     "output_type": "execute_result"
    }
   ],
   "source": [
    "outcome_corrs_df[outcome_corrs_df['correlation'] > 0.2]"
   ]
  },
  {
   "cell_type": "code",
   "execution_count": 28,
   "metadata": {},
   "outputs": [
    {
     "data": {
      "image/png": "[encoded data removed]",
      "text/plain": [
       "<matplotlib.figure.Figure at 0x10c0448d0>"
      ]
     },
     "metadata": {},
     "output_type": "display_data"
    }
   ],
   "source": [
    "plt.figure(figsize=(10,4))\n",
    "sns.heatmap(model_vars[['Aircraft Damage', 'Engine1 Damage', 'Engine Ingested', 'flight_outcome']].corr(), cmap=\"coolwarm\", annot=True)\n",
    "plt.show()"
   ]
  },
  {
   "cell_type": "markdown",
   "metadata": {},
   "source": [
    "###### That's unpleasant! A lot of my guesses about what would be useful were flatly wrong, and my remaining features aren't particularly attractive  – they're all binary, and many are more correlated with each other than with my target outcome. I'm going to try to brute force my way to a few more features by checking all features' correlations with my outcome."
   ]
  },
  {
   "cell_type": "code",
   "execution_count": 29,
   "metadata": {},
   "outputs": [
    {
     "data": {
      "text/html": [
       "<div>\n",
       "<style>\n",
       "    .dataframe thead tr:only-child th {\n",
       "        text-align: right;\n",
       "    }\n",
       "\n",
       "    .dataframe thead th {\n",
       "        text-align: left;\n",
       "    }\n",
       "\n",
       "    .dataframe tbody tr th {\n",
       "        vertical-align: top;\n",
       "    }\n",
       "</style>\n",
       "<table border=\"1\" class=\"dataframe\">\n",
       "  <thead>\n",
       "    <tr style=\"text-align: right;\">\n",
       "      <th></th>\n",
       "      <th>correlation</th>\n",
       "      <th>variables</th>\n",
       "    </tr>\n",
       "  </thead>\n",
       "  <tbody>\n",
       "    <tr>\n",
       "      <th>9</th>\n",
       "      <td>0.353963</td>\n",
       "      <td>Aircraft Damage</td>\n",
       "    </tr>\n",
       "    <tr>\n",
       "      <th>17</th>\n",
       "      <td>0.219079</td>\n",
       "      <td>Engine1 Damage</td>\n",
       "    </tr>\n",
       "    <tr>\n",
       "      <th>24</th>\n",
       "      <td>0.250244</td>\n",
       "      <td>Engine Ingested</td>\n",
       "    </tr>\n",
       "    <tr>\n",
       "      <th>42</th>\n",
       "      <td>0.217533</td>\n",
       "      <td>Aircraft Mass_4.0</td>\n",
       "    </tr>\n",
       "    <tr>\n",
       "      <th>75</th>\n",
       "      <td>0.216811</td>\n",
       "      <td>Engines_1.0</td>\n",
       "    </tr>\n",
       "    <tr>\n",
       "      <th>1964</th>\n",
       "      <td>0.252595</td>\n",
       "      <td>Engine Type_D</td>\n",
       "    </tr>\n",
       "  </tbody>\n",
       "</table>\n",
       "</div>"
      ],
      "text/plain": [
       "      correlation          variables\n",
       "9        0.353963    Aircraft Damage\n",
       "17       0.219079     Engine1 Damage\n",
       "24       0.250244    Engine Ingested\n",
       "42       0.217533  Aircraft Mass_4.0\n",
       "75       0.216811        Engines_1.0\n",
       "1964     0.252595      Engine Type_D"
      ]
     },
     "execution_count": 29,
     "metadata": {},
     "output_type": "execute_result"
    }
   ],
   "source": [
    "# Return variables with a correlation coefficient with the outcome variable of greater than 0.2.\n",
    "corrs_with_outcome = {'variables':[], 'correlation':[]}\n",
    "\n",
    "test = pd.get_dummies(collisions_2)\n",
    "\n",
    "for variable in list(test.drop('flight_outcome_recoded', axis=1)):\n",
    "    corrs_with_outcome['variables'].append(variable)\n",
    "    corrs_with_outcome['correlation'].append(abs(test[['flight_outcome_recoded', variable]].corr()[variable].sum() - 1))\n",
    "\n",
    "outcome_corrs_df = pd.DataFrame(corrs_with_outcome)\n",
    "outcome_corrs_df[(abs(outcome_corrs_df['correlation']) > 0.2) & (outcome_corrs_df['variables'].str.contains(\"Flight Impact\") == False)]"
   ]
  },
  {
   "cell_type": "markdown",
   "metadata": {},
   "source": [
    "###### Ok, so 'Aircraft Mass 4.0,' 'Engines 1.0,' and 'Engine Type_D' are all reasonably correlated with the outcome. How do they look in a correlation matrix with everything else?"
   ]
  },
  {
   "cell_type": "code",
   "execution_count": 30,
   "metadata": {},
   "outputs": [],
   "source": [
    "model_vars[['ac_mass_4', 'engines_1']] = collisions_2[['Aircraft Mass_4.0', 'Engines_1.0']]\n",
    "model_vars['engine_type_d'] = pd.get_dummies(collisions_2['Engine Type'])['D']"
   ]
  },
  {
   "cell_type": "code",
   "execution_count": 31,
   "metadata": {},
   "outputs": [
    {
     "data": {
      "image/png": "[encoded data removed]",
      "text/plain": [
       "<matplotlib.figure.Figure at 0x1a11cb2f98>"
      ]
     },
     "metadata": {},
     "output_type": "display_data"
    }
   ],
   "source": [
    "plt.figure(figsize=(10,4))\n",
    "sns.heatmap(model_vars[['flight_outcome','Aircraft Damage', 'Engine1 Damage', 'Engine Ingested', 'ac_mass_4', 'engines_1', 'engine_type_d']].corr(), cmap=\"coolwarm\", annot=True)\n",
    "plt.show()"
   ]
  },
  {
   "cell_type": "markdown",
   "metadata": {},
   "source": [
    "###### What I'm seeing here is that I still have a bunch of very cruddy features. There's more information in this heatmap about how different airplanes are configured than there is about my outcome variable. \n",
    "\n",
    "###### I'm willing to blame the data for this - there seems to be a lot of noise overall, there were a lot of NaNs to begin with, and some variables, like species, aren't as specific as they ought to be. Maybe pilots are lazy about their paperwork. At any rate, I'm going to proceed the best that I can with what I've got. \n",
    "<br>\n",
    "\n",
    "__The Gameplan:<br>__\n",
    "_1) I'm going to set the correlation-with-outcome cutoff at 0.1 – even lower than it already is. <br>\n",
    "2) I'll run PCA on that data so that my vanilla regression has something to eat.<br>\n",
    "3) I'll see how ridge and LASSO fare with the un-PCRed data._"
   ]
  },
  {
   "cell_type": "markdown",
   "metadata": {},
   "source": [
    "## Feature Selection - Round 2"
   ]
  },
  {
   "cell_type": "code",
   "execution_count": 32,
   "metadata": {},
   "outputs": [],
   "source": [
    "# Clean up column names\n",
    "model_vars.columns = model_vars.columns.str.replace(' ','_')\n",
    "model_vars.columns = map(str.lower, model_vars.columns)"
   ]
  },
  {
   "cell_type": "code",
   "execution_count": 33,
   "metadata": {
    "collapsed": true
   },
   "outputs": [],
   "source": [
    "# Create a new dataframe containing only those variables which have a correlation coefficient of more than 0.1 with \n",
    "# the outcome variable.\n",
    "\n",
    "# Get a list of correlated variables\n",
    "vars_correlated_with_outcome = outcome_corrs_df[(abs(outcome_corrs_df['correlation']) > 0.1) & \n",
    "                                                (outcome_corrs_df['variables'].str.contains(\"Flight Impact\") == False)]\n",
    "vars_cwo_list = list(vars_correlated_with_outcome['variables'])\n",
    "\n",
    "# Create the dataframe\n",
    "collisions_3 = pd.get_dummies(collisions_2)[vars_cwo_list]\n",
    "collisions_3['flight_outcome'] = collisions_2['flight_outcome_recoded']"
   ]
  },
  {
   "cell_type": "code",
   "execution_count": 34,
   "metadata": {},
   "outputs": [],
   "source": [
    "# Drop NA values; our dataset is big enough to tolerate it anyway.\n",
    "collisions_3 = collisions_3.dropna(axis=1)"
   ]
  },
  {
   "cell_type": "markdown",
   "metadata": {},
   "source": [
    "###### Define X & Y"
   ]
  },
  {
   "cell_type": "code",
   "execution_count": 35,
   "metadata": {
    "collapsed": true
   },
   "outputs": [],
   "source": [
    "X = collisions_3\n",
    "Y = collisions_3['flight_outcome']"
   ]
  },
  {
   "cell_type": "markdown",
   "metadata": {},
   "source": [
    "## Regression Models"
   ]
  },
  {
   "cell_type": "markdown",
   "metadata": {},
   "source": [
    "### Vanilla Regression"
   ]
  },
  {
   "cell_type": "markdown",
   "metadata": {},
   "source": [
    "###### Run PCA"
   ]
  },
  {
   "cell_type": "code",
   "execution_count": 36,
   "metadata": {},
   "outputs": [
    {
     "name": "stdout",
     "output_type": "stream",
     "text": [
      "The percentage of total variance in the dataset explained by each component from Sklearn PCA.\n",
      " [0.99999966]\n",
      "Components explain 100.0% of total variance.\n"
     ]
    }
   ],
   "source": [
    "X_PCA = X.select_dtypes(include=[np.float, np.number])\n",
    "\n",
    "sklearn_pca = PCA(n_components=1)\n",
    "Y_sklearn = sklearn_pca.fit_transform(X)\n",
    "\n",
    "print(\n",
    "    'The percentage of total variance in the dataset explained by each',\n",
    "    'component from Sklearn PCA.\\n',\n",
    "    sklearn_pca.explained_variance_ratio_\n",
    ")\n",
    "\n",
    "total_explained_variance = 0\n",
    "for percentage in list(sklearn_pca.explained_variance_ratio_):\n",
    "    total_explained_variance += percentage\n",
    "    \n",
    "total_explained_variance = round(total_explained_variance * 100,2)\n",
    "\n",
    "print('Components explain {}% of total variance.'.format(total_explained_variance))"
   ]
  },
  {
   "cell_type": "code",
   "execution_count": 37,
   "metadata": {},
   "outputs": [],
   "source": [
    "X_PCA = pd.DataFrame(Y_sklearn, columns=['comp_1'])"
   ]
  },
  {
   "cell_type": "code",
   "execution_count": 38,
   "metadata": {
    "collapsed": true
   },
   "outputs": [],
   "source": [
    "X_PCA_train, X_PCA_test, y_PCA_train, y_PCA_test = train_test_split(X_PCA,Y)"
   ]
  },
  {
   "cell_type": "code",
   "execution_count": 39,
   "metadata": {},
   "outputs": [
    {
     "name": "stdout",
     "output_type": "stream",
     "text": [
      "\n",
      "Coefficients: \n",
      " [5.22327089e-07]\n",
      "\n",
      "Intercept: \n",
      " 0.11392381868817085\n",
      "\n",
      "R-squared:\n",
      "0.021808528438407637\n"
     ]
    }
   ],
   "source": [
    "# Instantiate the model\n",
    "ols_regr = linear_model.LinearRegression()\n",
    "ols_regr.fit(X_PCA_train, y_PCA_train)\n",
    "\n",
    "# Inspect the results.\n",
    "print('\\nCoefficients: \\n', ols_regr.coef_)\n",
    "print('\\nIntercept: \\n', ols_regr.intercept_)\n",
    "print('\\nR-squared:')\n",
    "print(ols_regr.score(X_PCA_test, y_PCA_test))"
   ]
  },
  {
   "cell_type": "markdown",
   "metadata": {},
   "source": [
    "###### What a stinker. I wonder how the other models will fare."
   ]
  },
  {
   "cell_type": "markdown",
   "metadata": {},
   "source": [
    "### Ridge Regression"
   ]
  },
  {
   "cell_type": "code",
   "execution_count": 40,
   "metadata": {
    "collapsed": true
   },
   "outputs": [],
   "source": [
    "# Split the data into training and test sets\n",
    "X_train, X_test, y_train, y_test = train_test_split(X,Y)"
   ]
  },
  {
   "cell_type": "code",
   "execution_count": 41,
   "metadata": {},
   "outputs": [
    {
     "name": "stdout",
     "output_type": "stream",
     "text": [
      "\n",
      "Coefficients: \n",
      " [ 8.18964376e-11 -2.94790035e-06 -2.94898604e-07  2.68390002e-04\n",
      "  4.77792923e-04  7.14590361e-05  2.73094146e-04  4.81190274e-05\n",
      "  2.98686971e-04  3.10851121e-04  4.29673460e-05  1.94989589e-04\n",
      " -2.88903780e-05  1.14985005e-04  2.06261127e-04  2.56475832e-04\n",
      "  8.47307894e-05  2.98306575e-05 -4.88716522e-05  6.73094096e-05\n",
      "  1.30445642e-04  7.46750586e-06  6.02068207e-07 -2.94898864e-07\n",
      "  1.23623067e-05  2.75137724e-04  8.78220735e-06  1.23623067e-05\n",
      "  2.75137724e-04  8.78220735e-06 -2.00060279e-05  2.73314237e-04\n",
      "  4.16205447e-05 -5.47373776e-05 -6.41704839e-05  3.81260599e-05\n",
      " -6.80443500e-06  7.11379738e-05 -1.96858385e-06  2.45101175e-04\n",
      "  1.78746763e-04 -6.26252740e-05  2.60930609e-04  2.30310203e-04\n",
      " -3.99611222e-05 -3.99611222e-05  2.30310203e-04 -5.82421798e-05\n",
      "  9.98096064e-01]\n",
      "\n",
      "Intercept: \n",
      " 0.006159530750543596\n",
      "\n",
      "R-squared:\n",
      "0.9999974426792034\n"
     ]
    }
   ],
   "source": [
    "ridge = linear_model.Ridge(alpha=10)\n",
    "ridge.fit(X_train, y_train)\n",
    "\n",
    "# Inspect the results.\n",
    "print('\\nCoefficients: \\n', ridge.coef_)\n",
    "print('\\nIntercept: \\n', ridge.intercept_)\n",
    "print('\\nR-squared:')\n",
    "print(ridge.score(X_test, y_test))"
   ]
  },
  {
   "cell_type": "markdown",
   "metadata": {},
   "source": [
    "### LASSO Regression"
   ]
  },
  {
   "cell_type": "code",
   "execution_count": 42,
   "metadata": {},
   "outputs": [
    {
     "name": "stdout",
     "output_type": "stream",
     "text": [
      "\n",
      "Coefficients: \n",
      " [ 8.18964376e-11 -2.94790035e-06 -2.94898604e-07  2.68390002e-04\n",
      "  4.77792923e-04  7.14590361e-05  2.73094146e-04  4.81190274e-05\n",
      "  2.98686971e-04  3.10851121e-04  4.29673460e-05  1.94989589e-04\n",
      " -2.88903780e-05  1.14985005e-04  2.06261127e-04  2.56475832e-04\n",
      "  8.47307894e-05  2.98306575e-05 -4.88716522e-05  6.73094096e-05\n",
      "  1.30445642e-04  7.46750586e-06  6.02068207e-07 -2.94898864e-07\n",
      "  1.23623067e-05  2.75137724e-04  8.78220735e-06  1.23623067e-05\n",
      "  2.75137724e-04  8.78220735e-06 -2.00060279e-05  2.73314237e-04\n",
      "  4.16205447e-05 -5.47373776e-05 -6.41704839e-05  3.81260599e-05\n",
      " -6.80443500e-06  7.11379738e-05 -1.96858385e-06  2.45101175e-04\n",
      "  1.78746763e-04 -6.26252740e-05  2.60930609e-04  2.30310203e-04\n",
      " -3.99611222e-05 -3.99611222e-05  2.30310203e-04 -5.82421798e-05\n",
      "  9.98096064e-01]\n",
      "\n",
      "Intercept: \n",
      " 0.006159530750543596\n",
      "\n",
      "R-squared:\n",
      "0.032508388473983296\n"
     ]
    }
   ],
   "source": [
    "lasso = linear_model.Lasso(alpha=0.1)\n",
    "lasso.fit(X_train, y_train)\n",
    "\n",
    "# Inspect the results.\n",
    "print('\\nCoefficients: \\n', ridge.coef_)\n",
    "print('\\nIntercept: \\n', ridge.intercept_)\n",
    "print('\\nR-squared:')\n",
    "print(lasso.score(X_test, y_test))"
   ]
  },
  {
   "cell_type": "code",
   "execution_count": null,
   "metadata": {
    "collapsed": true
   },
   "outputs": [],
   "source": []
  }
 ],
 "metadata": {
  "kernelspec": {
   "display_name": "Python 3",
   "language": "python",
   "name": "python3"
  },
  "language_info": {
   "codemirror_mode": {
    "name": "ipython",
    "version": 3
   },
   "file_extension": ".py",
   "mimetype": "text/x-python",
   "name": "python",
   "nbconvert_exporter": "python",
   "pygments_lexer": "ipython3",
   "version": "3.6.2"
  }
 },
 "nbformat": 4,
 "nbformat_minor": 2
}
