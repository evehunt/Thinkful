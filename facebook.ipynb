{
 "cells": [
  {
   "cell_type": "code",
   "execution_count": 159,
   "metadata": {},
   "outputs": [],
   "source": [
    "import numpy as np\n",
    "import pandas as pd\n",
    "from scipy import stats\n",
    "from matplotlib import pyplot as plt\n",
    "from matplotlib import ticker as mtick\n",
    "import seaborn as sns\n",
    "from datetime import datetime,date\n",
    "%matplotlib inline"
   ]
  },
  {
   "cell_type": "code",
   "execution_count": 64,
   "metadata": {},
   "outputs": [],
   "source": [
    "fb_data = pd.read_csv('/Users/eve/Desktop/u1l5/facebook-fact-check.csv')"
   ]
  },
  {
   "cell_type": "code",
   "execution_count": 4,
   "metadata": {},
   "outputs": [
    {
     "data": {
      "text/plain": [
       "['account_id',\n",
       " 'post_id',\n",
       " 'Category',\n",
       " 'Page',\n",
       " 'Post URL',\n",
       " 'Date Published',\n",
       " 'Post Type',\n",
       " 'Rating',\n",
       " 'Debate',\n",
       " 'share_count',\n",
       " 'reaction_count',\n",
       " 'comment_count']"
      ]
     },
     "execution_count": 4,
     "metadata": {},
     "output_type": "execute_result"
    }
   ],
   "source": [
    "list(fb_data)"
   ]
  },
  {
   "cell_type": "code",
   "execution_count": 65,
   "metadata": {},
   "outputs": [],
   "source": [
    "fb_data['Date Published'] = fb_data['Date Published'].apply(lambda x: datetime.strptime(x, \"%Y-%m-%d\"))\n",
    "fb_data ['Date Published'] = fb_data['Date Published'].map(lambda x:x.date())"
   ]
  },
  {
   "cell_type": "code",
   "execution_count": null,
   "metadata": {
    "collapsed": true
   },
   "outputs": [],
   "source": []
  },
  {
   "cell_type": "code",
   "execution_count": 55,
   "metadata": {},
   "outputs": [
    {
     "name": "stdout",
     "output_type": "stream",
     "text": [
      "        account_id           post_id    Category               Page  \\\n",
      "0  184096565021911  1035057923259100  mainstream  ABC News Politics   \n",
      "1  184096565021911  1035269309904628  mainstream  ABC News Politics   \n",
      "2  184096565021911  1035305953234297  mainstream  ABC News Politics   \n",
      "3  184096565021911  1035322636565962  mainstream  ABC News Politics   \n",
      "4  184096565021911  1035352946562931  mainstream  ABC News Politics   \n",
      "\n",
      "                                            Post URL Date Published Post Type  \\\n",
      "0  https://www.facebook.com/ABCNewsPolitics/posts...     2016-09-19     video   \n",
      "1  https://www.facebook.com/ABCNewsPolitics/posts...     2016-09-19      link   \n",
      "2  https://www.facebook.com/ABCNewsPolitics/posts...     2016-09-19      link   \n",
      "3  https://www.facebook.com/ABCNewsPolitics/posts...     2016-09-19      link   \n",
      "4  https://www.facebook.com/ABCNewsPolitics/posts...     2016-09-19     video   \n",
      "\n",
      "               Rating Debate  share_count  reaction_count  comment_count  \n",
      "0  no factual content    NaN          NaN           146.0           15.0  \n",
      "1         mostly true    NaN          1.0            33.0           34.0  \n",
      "2         mostly true    NaN         34.0            63.0           27.0  \n",
      "3         mostly true    NaN         35.0           170.0           86.0  \n",
      "4         mostly true    NaN        568.0          3188.0         2815.0  \n"
     ]
    }
   ],
   "source": [
    "print(fb_data[0:5])"
   ]
  },
  {
   "cell_type": "code",
   "execution_count": 8,
   "metadata": {},
   "outputs": [
    {
     "name": "stdout",
     "output_type": "stream",
     "text": [
      "['no factual content' 'mostly true' 'mixture of true and false'\n",
      " 'mostly false']\n"
     ]
    }
   ],
   "source": [
    "print(fb_data['Rating'].unique())"
   ]
  },
  {
   "cell_type": "code",
   "execution_count": 9,
   "metadata": {},
   "outputs": [
    {
     "data": {
      "text/plain": [
       "<matplotlib.axes._subplots.AxesSubplot at 0x1a114dcbe0>"
      ]
     },
     "execution_count": 9,
     "metadata": {},
     "output_type": "execute_result"
    },
    {
     "data": {
      "image/png": "[encoded data removed]",
      "text/plain": [
       "<matplotlib.figure.Figure at 0x10996a9e8>"
      ]
     },
     "metadata": {},
     "output_type": "display_data"
    }
   ],
   "source": [
    "sns.countplot(fb_data['Rating'])"
   ]
  },
  {
   "cell_type": "code",
   "execution_count": 35,
   "metadata": {},
   "outputs": [
    {
     "data": {
      "image/png": "[encoded data removed]",
      "text/plain": [
       "<matplotlib.figure.Figure at 0x1a195ae9e8>"
      ]
     },
     "metadata": {},
     "output_type": "display_data"
    }
   ],
   "source": [
    "sns.violinplot(x=fb_data['Rating'], y=fb_data['share_count']);"
   ]
  },
  {
   "cell_type": "code",
   "execution_count": null,
   "metadata": {
    "collapsed": true
   },
   "outputs": [],
   "source": []
  },
  {
   "cell_type": "code",
   "execution_count": 138,
   "metadata": {},
   "outputs": [
    {
     "name": "stdout",
     "output_type": "stream",
     "text": [
      "          date  comment_count                     rating  reaction_count  \\\n",
      "0   2016-09-19        16646.0         no factual content        158997.0   \n",
      "1   2016-09-20        23370.0         no factual content        490797.0   \n",
      "2   2016-09-21       184461.0         no factual content        868600.0   \n",
      "3   2016-09-22        13382.0         no factual content        352950.0   \n",
      "4   2016-09-23        35372.0         no factual content        680877.0   \n",
      "5   2016-09-26        49676.0         no factual content        890368.0   \n",
      "6   2016-09-27        64979.0         no factual content       1710228.0   \n",
      "7   2016-09-19        96985.0                mostly true        512621.0   \n",
      "8   2016-09-20        69275.0                mostly true        779258.0   \n",
      "9   2016-09-21        72280.0                mostly true        519732.0   \n",
      "10  2016-09-22        53286.0                mostly true        404222.0   \n",
      "11  2016-09-23        58515.0                mostly true        469006.0   \n",
      "12  2016-09-26        94253.0                mostly true       1159281.0   \n",
      "13  2016-09-27       107725.0                mostly true       1097423.0   \n",
      "14  2016-09-19        22459.0  mixture of true and false        169326.0   \n",
      "15  2016-09-20        68291.0  mixture of true and false        544394.0   \n",
      "16  2016-09-21        15949.0  mixture of true and false        125680.0   \n",
      "17  2016-09-22        30098.0  mixture of true and false        215339.0   \n",
      "18  2016-09-23         9161.0  mixture of true and false         63011.0   \n",
      "19  2016-09-26         8398.0  mixture of true and false        104206.0   \n",
      "20  2016-09-27        29500.0  mixture of true and false        301053.0   \n",
      "21  2016-09-19         2539.0               mostly false         30046.0   \n",
      "22  2016-09-20         6581.0               mostly false         89410.0   \n",
      "23  2016-09-21         2815.0               mostly false         38447.0   \n",
      "24  2016-09-22        10751.0               mostly false         78053.0   \n",
      "25  2016-09-23        14488.0               mostly false        174292.0   \n",
      "26  2016-09-26        10964.0               mostly false        150676.0   \n",
      "27  2016-09-27         4514.0               mostly false         52276.0   \n",
      "\n",
      "    share_count  x_loc  \n",
      "0      174685.0    1.0  \n",
      "1      413701.0    2.0  \n",
      "2     1445235.0    3.0  \n",
      "3      222441.0    4.0  \n",
      "4      728377.0    5.0  \n",
      "5      565647.0    6.0  \n",
      "6     1067258.0    7.0  \n",
      "7      291403.0    1.0  \n",
      "8      433524.0    2.0  \n",
      "9      256865.0    3.0  \n",
      "10     203644.0    4.0  \n",
      "11     233287.0    5.0  \n",
      "12     540401.0    6.0  \n",
      "13     777703.0    7.0  \n",
      "14     128345.0    1.0  \n",
      "15     493261.0    2.0  \n",
      "16     146088.0    3.0  \n",
      "17     175566.0    4.0  \n",
      "18      57188.0    5.0  \n",
      "19      44133.0    6.0  \n",
      "20     180639.0    7.0  \n",
      "21      34323.0    1.0  \n",
      "22      47391.0    2.0  \n",
      "23      35317.0    3.0  \n",
      "24      30220.0    4.0  \n",
      "25      91839.0    5.0  \n",
      "26      98057.0    6.0  \n",
      "27      30594.0    7.0  \n"
     ]
    }
   ],
   "source": [
    "summary_frame = pd.DataFrame(columns=['rating','share_count','reaction_count','comment_count'])\n",
    "    \n",
    "for rating in truth_ratings:\n",
    "    data_slice = fb_data[fb_data.Rating==rating][['Date Published','share_count','reaction_count','comment_count']].groupby('Date Published').sum()\n",
    "    data_slice['x_loc'] = (np.arange(1,8))\n",
    "    data_slice['rating'] = [rating] * 7\n",
    "    summary_frame = pd.concat([summary_frame, data_slice])\n",
    "\n",
    "summary_frame.reset_index(level=0, inplace=True)\n",
    "summary_frame.rename(columns = {'index':'date'}, inplace = True)\n",
    "\n",
    "print(summary_frame)"
   ]
  },
  {
   "cell_type": "code",
   "execution_count": 161,
   "metadata": {},
   "outputs": [
    {
     "data": {
      "image/png": "[encoded data removed]",
      "text/plain": [
       "<matplotlib.figure.Figure at 0x1a1f802dd8>"
      ]
     },
     "metadata": {},
     "output_type": "display_data"
    }
   ],
   "source": [
    "rating_order = ['mostly true','mixture of true and false','mostly false','no factual content']\n",
    "\n",
    "color_order = ['b','g','y','r']\n",
    "\n",
    "g = sns.FacetGrid(summary_frame,\n",
    "                  palette=sns.color_palette(color_order), \n",
    "                  col=\"rating\", \n",
    "                  hue=\"rating\", \n",
    "                  col_order=rating_order,\n",
    "                 sharey=True)\n",
    "g.map(plt.plot,\"x_loc\",\"share_count\", marker=\".\")\n",
    "plt.show()"
   ]
  },
  {
   "cell_type": "code",
   "execution_count": null,
   "metadata": {
    "collapsed": true
   },
   "outputs": [],
   "source": []
  },
  {
   "cell_type": "raw",
   "metadata": {},
   "source": [
    "truth_ratings = fb_data['Rating'].unique()\n",
    "\n",
    "fb_by_rating = pd.DataFrame(columns=['Rating', 'Date Published', 'share_count', 'reaction_count', 'comment_count'])\n",
    "\n",
    "for rating in truth_ratings:\n",
    "    fb_slice = fb_data.loc[fb_data['Rating'] == rating]\n",
    "    fb_slice = fb_slice.groupby('Date Published').sum()\n",
    "    print(fb_slice)\n",
    "        \n",
    "\n",
    "\n",
    "print(fb_by_rating)"
   ]
  },
  {
   "cell_type": "code",
   "execution_count": null,
   "metadata": {
    "collapsed": true
   },
   "outputs": [],
   "source": [
    "sns.tsplot"
   ]
  },
  {
   "cell_type": "code",
   "execution_count": 49,
   "metadata": {},
   "outputs": [
    {
     "name": "stdout",
     "output_type": "stream",
     "text": [
      "                       account_id              post_id  share_count  \\\n",
      "Date Published                                                        \n",
      "2016-09-19      58467724053267432   935143432421774080     628756.0   \n",
      "2016-09-20      58851548986017824  1032716659278166016    1387877.0   \n",
      "2016-09-21      55684925383830328  1036569147890368256    1883505.0   \n",
      "2016-09-22      55321883235410440   914126677777476224     631871.0   \n",
      "2016-09-23      56165274346761648   933085487065244800    1110691.0   \n",
      "2016-09-26      73073981686243936  1467444860098863872    1248238.0   \n",
      "2016-09-27      68509391737974136  1210569690537403648    2056194.0   \n",
      "\n",
      "                reaction_count  comment_count  \n",
      "Date Published                                 \n",
      "2016-09-19            870990.0       138629.0  \n",
      "2016-09-20           1903859.0       167517.0  \n",
      "2016-09-21           1552459.0       275505.0  \n",
      "2016-09-22           1050564.0       107517.0  \n",
      "2016-09-23           1387186.0       117536.0  \n",
      "2016-09-26           2304531.0       163291.0  \n",
      "2016-09-27           3160980.0       206718.0  \n"
     ]
    }
   ],
   "source": [
    "print(fb_date)"
   ]
  },
  {
   "cell_type": "code",
   "execution_count": null,
   "metadata": {
    "collapsed": true
   },
   "outputs": [],
   "source": []
  }
 ],
 "metadata": {
  "kernelspec": {
   "display_name": "Python 3",
   "language": "python",
   "name": "python3"
  },
  "language_info": {
   "codemirror_mode": {
    "name": "ipython",
    "version": 3
   },
   "file_extension": ".py",
   "mimetype": "text/x-python",
   "name": "python",
   "nbconvert_exporter": "python",
   "pygments_lexer": "ipython3",
   "version": "3.6.3"
  }
 },
 "nbformat": 4,
 "nbformat_minor": 2
}
