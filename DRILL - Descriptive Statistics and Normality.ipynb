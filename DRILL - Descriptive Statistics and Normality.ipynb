{
 "cells": [
  {
   "cell_type": "code",
   "execution_count": 2,
   "metadata": {
    "collapsed": true
   },
   "outputs": [],
   "source": [
    "import numpy as np\n",
    "import pandas as pd\n",
    "import matplotlib.pyplot as plt\n",
    "%matplotlib inline"
   ]
  },
  {
   "cell_type": "code",
   "execution_count": 4,
   "metadata": {},
   "outputs": [
    {
     "data": {
      "image/png": "[encoded data removed]",
      "text/plain": [
       "<matplotlib.figure.Figure at 0x1141d0828>"
      ]
     },
     "metadata": {},
     "output_type": "display_data"
    },
    {
     "name": "stdout",
     "output_type": "stream",
     "text": [
      "The descriptive statistics did not provide useful information about the variable; the mean is not comparable to the median and the distribution has a strong positive skew.\n"
     ]
    }
   ],
   "source": [
    "# First Dataset\n",
    "\n",
    "# Generate a random variable with 100 datapoints.\n",
    "exponential = np.random.exponential(1, 100)\n",
    "\n",
    "# Graph the variable using a histogram.\n",
    "plt.hist(exponential)\n",
    "\n",
    "# Compute the mean and standard deviation and plot them as vertical\n",
    "# lines on the histogram.\n",
    "\n",
    "plt.axvline(exponential.mean(), color='b', linestyle='solid', linewidth = 2)\n",
    "\n",
    "plt.axvline(exponential.mean() + exponential.std(), color='b', linestyle='dashed', linewidth=2)\n",
    "\n",
    "plt.axvline(exponential.mean()-exponential.std(), color='b', linestyle='dashed', linewidth=2)\n",
    "\n",
    "plt.show()\n",
    "\n",
    "# Evaluate whether the descriptive statistics provided useful\n",
    "# information about the variable.\n",
    "\n",
    "print(\"The descriptive statistics did not provide useful information about the variable; the mean is not comparable to the median and the distribution has a strong positive skew.\")"
   ]
  },
  {
   "cell_type": "code",
   "execution_count": 5,
   "metadata": {},
   "outputs": [
    {
     "data": {
      "image/png": "[encoded data removed]",
      "text/plain": [
       "<matplotlib.figure.Figure at 0x1141ffcc0>"
      ]
     },
     "metadata": {},
     "output_type": "display_data"
    },
    {
     "name": "stdout",
     "output_type": "stream",
     "text": [
      "The descriptive statistics provided useful information about the variable. This distribution is roughly normal (though it has a positive skew), and the mean is comparable to the median.\n"
     ]
    }
   ],
   "source": [
    "# First Dataset\n",
    "\n",
    "# Generate a random variable with 100 datapoints.\n",
    "gumbel = np.random.gumbel(0.0, 1, 100)\n",
    "\n",
    "# Graph the variable using a histogram.\n",
    "plt.hist(gumbel)\n",
    "\n",
    "# Compute the mean and standard deviation and plot them as vertical\n",
    "# lines on the histogram.\n",
    "\n",
    "plt.axvline(gumbel.mean(), color='b', linestyle='solid', linewidth = 2)\n",
    "\n",
    "plt.axvline(gumbel.mean() + gumbel.std(), color='b', linestyle='dashed', linewidth=2)\n",
    "\n",
    "plt.axvline(gumbel.mean()-gumbel.std(), color='b', linestyle='dashed', linewidth=2)\n",
    "\n",
    "plt.show()\n",
    "\n",
    "# Evaluate whether the descriptive statistics provided useful\n",
    "# information about the variable.\n",
    "\n",
    "print(\"The descriptive statistics provided useful information about the variable. This distribution is roughly normal (though it has a positive skew), and the mean is comparable to the median.\")"
   ]
  },
  {
   "cell_type": "code",
   "execution_count": 10,
   "metadata": {},
   "outputs": [
    {
     "data": {
      "image/png": "[encoded data removed]",
      "text/plain": [
       "<matplotlib.figure.Figure at 0x1141034e0>"
      ]
     },
     "metadata": {},
     "output_type": "display_data"
    },
    {
     "name": "stdout",
     "output_type": "stream",
     "text": [
      "The descriptive statistics provided useful information about the variable. This distribution is roughly normal, and the mean is comparable to the median.\n"
     ]
    }
   ],
   "source": [
    "# First Dataset\n",
    "\n",
    "# Generate a random variable with 100 datapoints.\n",
    "triangular = np.random.triangular(0, .5, 1, 100)\n",
    "\n",
    "# Graph the variable using a histogram.\n",
    "plt.hist(triangular)\n",
    "\n",
    "# Compute the mean and standard deviation and plot them as vertical\n",
    "# lines on the histogram.\n",
    "\n",
    "plt.axvline(triangular.mean(), color='b', linestyle='solid', linewidth = 2)\n",
    "\n",
    "plt.axvline(triangular.mean() + triangular.std(), color='b', linestyle='dashed', linewidth=2)\n",
    "\n",
    "plt.axvline(triangular.mean()-triangular.std(), color='b', linestyle='dashed', linewidth=2)\n",
    "\n",
    "plt.show()\n",
    "\n",
    "\n",
    "# Evaluate whether the descriptive statistics provided useful\n",
    "# information about the variable.\n",
    "\n",
    "print(\"The descriptive statistics provided useful information about the variable. This distribution is roughly normal, and the mean is comparable to the median.\")"
   ]
  },
  {
   "cell_type": "code",
   "execution_count": 16,
   "metadata": {},
   "outputs": [
    {
     "data": {
      "image/png": "[encoded data removed]",
      "text/plain": [
       "<matplotlib.figure.Figure at 0x1146829e8>"
      ]
     },
     "metadata": {},
     "output_type": "display_data"
    },
    {
     "name": "stdout",
     "output_type": "stream",
     "text": [
      "The descriptive statistics provide limited useful information about this variable. Although the mean and median are comparable, a substantial portion of the data lies more than one standard deviation from the mean.\n"
     ]
    }
   ],
   "source": [
    "# First Dataset\n",
    "\n",
    "# Generate a random variable with 100 datapoints.\n",
    "uniform = np.random.uniform(0, 1, 100)\n",
    "\n",
    "# Graph the variable using a histogram.\n",
    "plt.hist(uniform)\n",
    "\n",
    "# Compute the mean and standard deviation and plot them as vertical\n",
    "# lines on the histogram.\n",
    "\n",
    "plt.axvline(uniform.mean(), color='b', linestyle='solid', linewidth = 2)\n",
    "\n",
    "plt.axvline(uniform.mean() + uniform.std(), color='b', linestyle='dashed', linewidth=2)\n",
    "\n",
    "plt.axvline(uniform.mean()-uniform.std(), color='b', linestyle='dashed', linewidth=2)\n",
    "\n",
    "plt.show()\n",
    "\n",
    "# Evaluate whether the descriptive statistics provided useful\n",
    "# information about the variable.\n",
    "\n",
    "print(\"The descriptive statistics provide limited useful information about this variable. Although the mean and median are comparable, a substantial portion of the data lies more than one standard deviation from the mean.\")"
   ]
  },
  {
   "cell_type": "code",
   "execution_count": 18,
   "metadata": {},
   "outputs": [
    {
     "data": {
      "image/png": "[encoded data removed]",
      "text/plain": [
       "<matplotlib.figure.Figure at 0x1144ba908>"
      ]
     },
     "metadata": {},
     "output_type": "display_data"
    },
    {
     "name": "stdout",
     "output_type": "stream",
     "text": [
      "The descriptive statistics provide useful information about this variable. The distribution is fairly normal, the mean and median are comparable.\n"
     ]
    }
   ],
   "source": [
    "# First Dataset\n",
    "\n",
    "# Generate a random variable with 100 datapoints.\n",
    "laplace = np.random.laplace(0, 1, 100)\n",
    "\n",
    "# Graph the variable using a histogram.\n",
    "plt.hist(laplace)\n",
    "\n",
    "# Compute the mean and standard deviation and plot them as vertical\n",
    "# lines on the histogram.\n",
    "\n",
    "plt.axvline(laplace.mean(), color='b', linestyle='solid', linewidth = 2)\n",
    "\n",
    "plt.axvline(laplace.mean() + laplace.std(), color='b', linestyle='dashed', linewidth=2)\n",
    "\n",
    "plt.axvline(laplace.mean()-laplace.std(), color='b', linestyle='dashed', linewidth=2)\n",
    "\n",
    "plt.show()\n",
    "\n",
    "# Evaluate whether the descriptive statistics provided useful\n",
    "# information about the variable.\n",
    "\n",
    "print(\"The descriptive statistics provide useful information about this variable. The distribution is fairly normal, the mean and median are comparable.\") "
   ]
  },
  {
   "cell_type": "code",
   "execution_count": 21,
   "metadata": {},
   "outputs": [
    {
     "data": {
      "image/png": "[encoded data removed]",
      "text/plain": [
       "<matplotlib.figure.Figure at 0x114407240>"
      ]
     },
     "metadata": {},
     "output_type": "display_data"
    },
    {
     "name": "stdout",
     "output_type": "stream",
     "text": [
      "The descriptive statistics provided useful information about the variable. This distribution is roughly normal (though it has a positive skew), and the mean is comparable to the median.\n"
     ]
    }
   ],
   "source": [
    "# First Dataset\n",
    "\n",
    "# Generate a random variable with 100 datapoints.\n",
    "standard_gamma = np.random.standard_gamma(10, 100)\n",
    "\n",
    "# Graph the variable using a histogram.\n",
    "plt.hist(standard_gamma)\n",
    "\n",
    "# Compute the mean and standard deviation and plot them as vertical\n",
    "# lines on the histogram.\n",
    "\n",
    "plt.axvline(standard_gamma.mean(), color='b', linestyle='solid', linewidth = 2)\n",
    "\n",
    "plt.axvline(standard_gamma.mean() + standard_gamma.std(), color='b', linestyle='dashed', linewidth=2)\n",
    "\n",
    "plt.axvline(standard_gamma.mean()-standard_gamma.std(), color='b', linestyle='dashed', linewidth=2)\n",
    "\n",
    "plt.show()\n",
    "\n",
    "# Evaluate whether the descriptive statistics provided useful\n",
    "# information about the variable.\n",
    "\n",
    "print(\"The descriptive statistics provided useful information about the variable. This distribution is roughly normal (though it has a positive skew), and the mean is comparable to the median.\")"
   ]
  },
  {
   "cell_type": "code",
   "execution_count": 22,
   "metadata": {},
   "outputs": [
    {
     "name": "stdout",
     "output_type": "stream",
     "text": [
      "The distributions that could be usefully described using the mean generally had means comparable to the median. The distributions that could be usefully described using the standard deviation were more curved (as opposed to those that weren't, like the uniform distribution, which were relatively constant).\n"
     ]
    }
   ],
   "source": [
    "# Can you identify any common\n",
    "# characteristics of the distributions that could be usefully\n",
    "# described using the mean and/or standard deviation, versus the\n",
    "# ones that could not?\n",
    "\n",
    "print(\"The distributions that could be usefully described using the mean generally had means comparable to the median. The distributions that could be usefully described using the standard deviation were more curved (as opposed to those that weren't, like the uniform distribution, which were relatively constant).\")"
   ]
  },
  {
   "cell_type": "code",
   "execution_count": 45,
   "metadata": {},
   "outputs": [
    {
     "data": {
      "image/png": "[encoded data removed]",
      "text/plain": [
       "<matplotlib.figure.Figure at 0x11420efd0>"
      ]
     },
     "metadata": {},
     "output_type": "display_data"
    },
    {
     "name": "stdout",
     "output_type": "stream",
     "text": [
      "The descriptive statistics are useful in describing this data even though it isn't perfectly normal. The mean is similar to the median, and the data falls proportionately within 1-2 standard deviations in a way that is consistent with a normal distribution. However, substantially more data falls within z=-1 to z=0 than within z=0 and z=+1.\n"
     ]
    }
   ],
   "source": [
    "# Generate two normally-distributed variables, one with a mean of\n",
    "# 5 and standard deviation of 0.5, the other with a mean of 10 and\n",
    "# standard deviation of 1.\n",
    "var1 = pd.DataFrame({'rand': np.random.normal(5, 0.5, 100)})\n",
    "var2 = pd.DataFrame({'rand':np.random.normal(10, 1, 100)})\n",
    "\n",
    "# Add them together to create a third variable.\n",
    "combined_var = var1 + var2\n",
    "\n",
    "# Graph the third variable using a histogram.\n",
    "# Compute the mean and standard deviation and plot them as\n",
    "# vertical lines on the histogram.\n",
    "\n",
    "combined_var['rand'].hist()\n",
    "plt.axvline(combined_var['rand'].mean(), color='b', linestyle='solid', linewidth = 2)\n",
    "plt.axvline(combined_var['rand'].mean() + combined_var['rand'].std(), color='b', linestyle='dashed', linewidth=2)\n",
    "plt.axvline(combined_var['rand'].mean()-combined_var['rand'].std(), color='b', linestyle='dashed', linewidth=2)\n",
    "plt.show()\n",
    "\n",
    "# Evaluate the descriptive statistics against the data.\n",
    "print(\"The descriptive statistics are useful in describing this data even though it isn't perfectly normal. The mean is similar to the median, and the data falls proportionately within 1-2 standard deviations in a way that is consistent with a normal distribution. However, substantially more data falls within z=-1 to z=0 than within z=0 and z=+1.\")"
   ]
  },
  {
   "cell_type": "code",
   "execution_count": null,
   "metadata": {
    "collapsed": true
   },
   "outputs": [],
   "source": []
  }
 ],
 "metadata": {
  "kernelspec": {
   "display_name": "Python 3",
   "language": "python",
   "name": "python3"
  },
  "language_info": {
   "codemirror_mode": {
    "name": "ipython",
    "version": 3
   },
   "file_extension": ".py",
   "mimetype": "text/x-python",
   "name": "python",
   "nbconvert_exporter": "python",
   "pygments_lexer": "ipython3",
   "version": "3.6.2"
  }
 },
 "nbformat": 4,
 "nbformat_minor": 2
}
