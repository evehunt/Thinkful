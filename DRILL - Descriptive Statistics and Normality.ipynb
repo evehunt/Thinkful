{
 "cells": [
  {
   "cell_type": "code",
   "execution_count": 59,
   "metadata": {
    "collapsed": true
   },
   "outputs": [],
   "source": [
    "import numpy as np\n",
    "import pandas as pd\n",
    "import matplotlib.pyplot as plt\n",
    "%matplotlib inline"
   ]
  },
  {
   "cell_type": "code",
   "execution_count": 29,
   "metadata": {},
   "outputs": [
    {
     "data": {
      "image/png": "[encoded data removed]",
      "text/plain": [
       "<matplotlib.figure.Figure at 0x11bfa9da0>"
      ]
     },
     "metadata": {},
     "output_type": "display_data"
    },
    {
     "name": "stdout",
     "output_type": "stream",
     "text": [
      "Placeholder\n"
     ]
    }
   ],
   "source": [
    "# First Dataset\n",
    "\n",
    "# Generate a random variable with 100 datapoints.\n",
    "exponential = np.random.exponential(1, 100)\n",
    "\n",
    "# Graph the variable using a histogram.\n",
    "plt.hist(exponential)\n",
    "\n",
    "# Compute the mean and standard deviation and plot them as vertical\n",
    "# lines on the histogram.\n",
    "\n",
    "plt.axvline(exponential.mean(), color='b', linestyle='solid', linewidth = 2)\n",
    "\n",
    "plt.axvline(exponential.mean() + exponential.std(), color='b', linestyle='dashed', linewidth=2)\n",
    "\n",
    "plt.axvline(exponential.mean()-exponential.std(), color='b', linestyle='dashed', linewidth=2)\n",
    "\n",
    "plt.show()\n",
    "\n",
    "# Evaluate whether the descriptive statistics provided useful\n",
    "# information about the variable. Can you identify any common\n",
    "# characteristics of the distributions that could be usefully\n",
    "# described using the mean and/or standard deviation, versus the\n",
    "# ones that could not?\n",
    "\n",
    "print(\"Placeholder\")"
   ]
  },
  {
   "cell_type": "code",
   "execution_count": 32,
   "metadata": {},
   "outputs": [
    {
     "data": {
      "image/png": "[encoded data removed]",
      "text/plain": [
       "<matplotlib.figure.Figure at 0x11c0d32e8>"
      ]
     },
     "metadata": {},
     "output_type": "display_data"
    },
    {
     "name": "stdout",
     "output_type": "stream",
     "text": [
      "Placeholder\n"
     ]
    }
   ],
   "source": [
    "# First Dataset\n",
    "\n",
    "# Generate a random variable with 100 datapoints.\n",
    "gumbel = np.random.gumbel(0.0, 1, 100)\n",
    "\n",
    "# Graph the variable using a histogram.\n",
    "plt.hist(gumbel)\n",
    "\n",
    "# Compute the mean and standard deviation and plot them as vertical\n",
    "# lines on the histogram.\n",
    "\n",
    "plt.axvline(gumbel.mean(), color='b', linestyle='solid', linewidth = 2)\n",
    "\n",
    "plt.axvline(gumbel.mean() + gumbel.std(), color='b', linestyle='dashed', linewidth=2)\n",
    "\n",
    "plt.axvline(gumbel.mean()-gumbel.std(), color='b', linestyle='dashed', linewidth=2)\n",
    "\n",
    "plt.show()\n",
    "\n",
    "# Evaluate whether the descriptive statistics provided useful\n",
    "# information about the variable. Can you identify any common\n",
    "# characteristics of the distributions that could be usefully\n",
    "# described using the mean and/or standard deviation, versus the\n",
    "# ones that could not?\n",
    "\n",
    "print(\"Placeholder\")"
   ]
  },
  {
   "cell_type": "code",
   "execution_count": 40,
   "metadata": {},
   "outputs": [
    {
     "data": {
      "image/png": "[encoded data removed]",
      "text/plain": [
       "<matplotlib.figure.Figure at 0x11c2d3f28>"
      ]
     },
     "metadata": {},
     "output_type": "display_data"
    },
    {
     "name": "stdout",
     "output_type": "stream",
     "text": [
      "0.484339446368\n"
     ]
    }
   ],
   "source": [
    "# First Dataset\n",
    "\n",
    "# Generate a random variable with 100 datapoints.\n",
    "triangular = np.random.triangular(0, .5, 1, 100)\n",
    "\n",
    "# Graph the variable using a histogram.\n",
    "plt.hist(triangular)\n",
    "\n",
    "# Compute the mean and standard deviation and plot them as vertical\n",
    "# lines on the histogram.\n",
    "\n",
    "plt.axvline(triangular.mean(), color='b', linestyle='solid', linewidth = 2)\n",
    "\n",
    "plt.axvline(triangular.mean() + triangular.std(), color='b', linestyle='dashed', linewidth=2)\n",
    "\n",
    "plt.axvline(triangular.mean()-triangular.std(), color='b', linestyle='dashed', linewidth=2)\n",
    "\n",
    "plt.show()\n",
    "\n",
    "# Evaluate whether the descriptive statistics provided useful\n",
    "# information about the variable. Can you identify any common\n",
    "# characteristics of the distributions that could be usefully\n",
    "# described using the mean and/or standard deviation, versus the\n",
    "# ones that could not?\n",
    "\n",
    "print(triangular.mean())"
   ]
  },
  {
   "cell_type": "code",
   "execution_count": 48,
   "metadata": {},
   "outputs": [
    {
     "data": {
      "image/png": "[encoded data removed]",
      "text/plain": [
       "<matplotlib.figure.Figure at 0x11c1a4f60>"
      ]
     },
     "metadata": {},
     "output_type": "display_data"
    },
    {
     "name": "stdout",
     "output_type": "stream",
     "text": [
      "Placeholder\n"
     ]
    }
   ],
   "source": [
    "# First Dataset\n",
    "\n",
    "# Generate a random variable with 100 datapoints.\n",
    "uniform = np.random.uniform(0, 1, 100)\n",
    "\n",
    "# Graph the variable using a histogram.\n",
    "plt.hist(uniform)\n",
    "\n",
    "# Compute the mean and standard deviation and plot them as vertical\n",
    "# lines on the histogram.\n",
    "\n",
    "plt.axvline(uniform.mean(), color='b', linestyle='solid', linewidth = 2)\n",
    "\n",
    "plt.axvline(uniform.mean() + uniform.std(), color='b', linestyle='dashed', linewidth=2)\n",
    "\n",
    "plt.axvline(uniform.mean()-uniform.std(), color='b', linestyle='dashed', linewidth=2)\n",
    "\n",
    "plt.show()\n",
    "\n",
    "# Evaluate whether the descriptive statistics provided useful\n",
    "# information about the variable. Can you identify any common\n",
    "# characteristics of the distributions that could be usefully\n",
    "# described using the mean and/or standard deviation, versus the\n",
    "# ones that could not?\n",
    "\n",
    "print(\"Placeholder\")"
   ]
  },
  {
   "cell_type": "code",
   "execution_count": 45,
   "metadata": {},
   "outputs": [
    {
     "data": {
      "image/png": "[encoded data removed]",
      "text/plain": [
       "<matplotlib.figure.Figure at 0x11bf03390>"
      ]
     },
     "metadata": {},
     "output_type": "display_data"
    },
    {
     "name": "stdout",
     "output_type": "stream",
     "text": [
      "Placeholder\n"
     ]
    }
   ],
   "source": [
    "# First Dataset\n",
    "\n",
    "# Generate a random variable with 100 datapoints.\n",
    "laplace = np.random.laplace(0, 1, 100)\n",
    "\n",
    "# Graph the variable using a histogram.\n",
    "plt.hist(laplace)\n",
    "\n",
    "# Compute the mean and standard deviation and plot them as vertical\n",
    "# lines on the histogram.\n",
    "\n",
    "plt.axvline(laplace.mean(), color='b', linestyle='solid', linewidth = 2)\n",
    "\n",
    "plt.axvline(laplace.mean() + laplace.std(), color='b', linestyle='dashed', linewidth=2)\n",
    "\n",
    "plt.axvline(laplace.mean()-laplace.std(), color='b', linestyle='dashed', linewidth=2)\n",
    "\n",
    "plt.show()\n",
    "\n",
    "# Evaluate whether the descriptive statistics provided useful\n",
    "# information about the variable. Can you identify any common\n",
    "# characteristics of the distributions that could be usefully\n",
    "# described using the mean and/or standard deviation, versus the\n",
    "# ones that could not?\n",
    "\n",
    "print(\"Placeholder\")"
   ]
  },
  {
   "cell_type": "code",
   "execution_count": 50,
   "metadata": {},
   "outputs": [
    {
     "data": {
      "image/png": "[encoded data removed]",
      "text/plain": [
       "<matplotlib.figure.Figure at 0x11c303668>"
      ]
     },
     "metadata": {},
     "output_type": "display_data"
    },
    {
     "name": "stdout",
     "output_type": "stream",
     "text": [
      "Placeholder\n"
     ]
    }
   ],
   "source": [
    "# First Dataset\n",
    "\n",
    "# Generate a random variable with 100 datapoints.\n",
    "standard_gamma = np.random.standard_gamma(10, 100)\n",
    "\n",
    "# Graph the variable using a histogram.\n",
    "plt.hist(standard_gamma)\n",
    "\n",
    "# Compute the mean and standard deviation and plot them as vertical\n",
    "# lines on the histogram.\n",
    "\n",
    "plt.axvline(standard_gamma.mean(), color='b', linestyle='solid', linewidth = 2)\n",
    "\n",
    "plt.axvline(standard_gamma.mean() + standard_gamma.std(), color='b', linestyle='dashed', linewidth=2)\n",
    "\n",
    "plt.axvline(standard_gamma.mean()-standard_gamma.std(), color='b', linestyle='dashed', linewidth=2)\n",
    "\n",
    "plt.show()\n",
    "\n",
    "# Evaluate whether the descriptive statistics provided useful\n",
    "# information about the variable. Can you identify any common\n",
    "# characteristics of the distributions that could be usefully\n",
    "# described using the mean and/or standard deviation, versus the\n",
    "# ones that could not?\n",
    "\n",
    "print(\"Placeholder\")"
   ]
  },
  {
   "cell_type": "code",
   "execution_count": 88,
   "metadata": {},
   "outputs": [
    {
     "data": {
      "image/png": "[encoded data removed]",
      "text/plain": [
       "<matplotlib.figure.Figure at 0x11c0a24a8>"
      ]
     },
     "metadata": {},
     "output_type": "display_data"
    },
    {
     "name": "stdout",
     "output_type": "stream",
     "text": [
      "rand    15.018526\n",
      "dtype: float64\n",
      "rand    1.271361\n",
      "dtype: float64\n"
     ]
    }
   ],
   "source": [
    "# Generate two normally-distributed variables, one with a mean of\n",
    "# 5 and standard deviation of 0.5, the other with a mean of 10 and\n",
    "# standard deviation of 1.\n",
    "var1 = pd.DataFrame({'rand': np.random.normal(5, 0.5, 100)})\n",
    "var2 = pd.DataFrame({'rand': np.random.normal(10, 1, 100)})\n",
    "\n",
    "# Add them together to create a third variable.\n",
    "combined_var = var1 + var2\n",
    "\n",
    "# Graph the third variable using a histogram.\n",
    "# Compute the mean and standard deviation and plot them as\n",
    "# vertical lines on the histogram.\n",
    "\n",
    "combined_var.hist()\n",
    "# plt.axvline(combined_var.mean(), color='b', linestyle='solid', linewidth = 2)\n",
    "# plt.axvline(combined_var.mean() + combined_var.std(), color='b', linestyle='dashed', linewidth=2)\n",
    "# plt.axvline(combined_var.mean()-combined_var.std(), color='b', linestyle='dashed', linewidth=2)\n",
    "plt.show()\n",
    "\n",
    "print(combined_var.mean())\n",
    "print(np.std(combined_var, ddof=1))\n",
    "\n",
    "# Evaluate the descriptive statistics against the data."
   ]
  },
  {
   "cell_type": "code",
   "execution_count": null,
   "metadata": {
    "collapsed": true
   },
   "outputs": [],
   "source": []
  }
 ],
 "metadata": {
  "kernelspec": {
   "display_name": "Python 3",
   "language": "python",
   "name": "python3"
  },
  "language_info": {
   "codemirror_mode": {
    "name": "ipython",
    "version": 3
   },
   "file_extension": ".py",
   "mimetype": "text/x-python",
   "name": "python",
   "nbconvert_exporter": "python",
   "pygments_lexer": "ipython3",
   "version": "3.6.2"
  }
 },
 "nbformat": 4,
 "nbformat_minor": 2
}
