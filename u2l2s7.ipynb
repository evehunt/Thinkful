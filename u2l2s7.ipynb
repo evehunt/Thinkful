{
 "cells": [
  {
   "cell_type": "markdown",
   "metadata": {},
   "source": [
    "# Challenge: Feedback analysis\n",
    "(Unit 2 / Lesson 2 / Project 7)\n"
   ]
  },
  {
   "cell_type": "markdown",
   "metadata": {},
   "source": [
    "### Importing libraries and fixing settings."
   ]
  },
  {
   "cell_type": "code",
   "execution_count": 19,
   "metadata": {
    "collapsed": true
   },
   "outputs": [],
   "source": [
    "import numpy as np\n",
    "import pandas as pd\n",
    "\n",
    "import scipy\n",
    "import sklearn\n",
    "from sklearn.feature_selection import SelectKBest\n",
    "from sklearn.feature_selection import chi2\n",
    "\n",
    "import matplotlib.pyplot as plt\n",
    "import seaborn as sns\n",
    "\n",
    "import re\n",
    "from collections import Counter"
   ]
  },
  {
   "cell_type": "code",
   "execution_count": 20,
   "metadata": {
    "collapsed": true
   },
   "outputs": [],
   "source": [
    "%matplotlib inline\n",
    "\n",
    "pd.options.display.max_rows = 1000\n",
    "pd.options.display.max_colwidth = 50"
   ]
  },
  {
   "cell_type": "markdown",
   "metadata": {},
   "source": [
    "### Data cleaning"
   ]
  },
  {
   "cell_type": "code",
   "execution_count": 3,
   "metadata": {
    "collapsed": true
   },
   "outputs": [],
   "source": [
    "# Define directories\n",
    "txt_file = r\"/Users/guest/Dropbox/Education/Thinkful/Unit 2/l2/s7/sentiment labelled sentences/imdb_labelled.txt\"\n",
    "txt_file_cln = r\"/Users/guest/Dropbox/Education/Thinkful/Unit 2/l2/s7/sentiment labelled sentences/imdb_labelled_cln.txt\"\n",
    "csv_file = r\"/Users/guest/Dropbox/Education/Thinkful/Unit 2/l2/s7/sentiment labelled sentences/imdb_labelled_clean.csv\""
   ]
  },
  {
   "cell_type": "code",
   "execution_count": 4,
   "metadata": {},
   "outputs": [],
   "source": [
    "# Quotation marks in the raw data are causing it to read several rows as one in a few cases\n",
    "with open(txt_file,'r') as f:\n",
    "    newlines = []\n",
    "    for line in f.readlines():\n",
    "        newlines.append(line.replace('\"', ''))     \n",
    "\n",
    "with open(txt_file_cln, 'w') as f:\n",
    "    for line in newlines:\n",
    "        f.write(line)"
   ]
  },
  {
   "cell_type": "code",
   "execution_count": 5,
   "metadata": {},
   "outputs": [],
   "source": [
    "with open(csv_file,'w') as f:\n",
    "    for line in open(txt_file_cln):\n",
    "        f.write(line)\n",
    "    f.close()\n",
    "\n",
    "reviews = pd.read_csv(csv_file, sep=\"\\t\", header=None, names=['review','positive'])\n",
    "reviews.to_csv(csv_file, index=False)"
   ]
  },
  {
   "cell_type": "code",
   "execution_count": 6,
   "metadata": {},
   "outputs": [],
   "source": [
    "reviews['review'] = reviews['review'].apply(lambda x: re.sub('-',' ', str(x))) # separate hyphenated words\n",
    "reviews['review'] = reviews['review'].apply(lambda x: re.sub('[^\\w\\s\\d]','', str(x))) # strip non-alphanumeric characters\n",
    "reviews['review'] = reviews['review'].str.lower() # convert all to lowercase\n",
    "\n",
    "reviews_attmpt1 = reviews.copy() # I'm spinning off the data here so that I can show work on my failed attempt"
   ]
  },
  {
   "cell_type": "markdown",
   "metadata": {},
   "source": [
    "### First Attempt at Feature Selection\n",
    "I made an initial attempt at feature selection by trying to weigh the frequencies with which words occurred in positive/negative reviews and the proportional delta between the two. It didn't go very well! I was getting ~ %68 at best, and it involved a lot of manual tinkering with the n & delta cutoff. After googling around and reviewing course material, I eventually abandoned this method in favor of using chi2 & select K means. I've preserved my first pass for posterity."
   ]
  },
  {
   "cell_type": "code",
   "execution_count": 7,
   "metadata": {
    "collapsed": true
   },
   "outputs": [],
   "source": [
    "# create a dataframe containing counts of each word in both positive and negative reviews\n",
    "words = pd.DataFrame()"
   ]
  },
  {
   "cell_type": "code",
   "execution_count": 8,
   "metadata": {},
   "outputs": [],
   "source": [
    "# Create a list of all unique words\n",
    "all_words = []\n",
    "for rev in reviews['review']:\n",
    "    for word in rev.split():\n",
    "        all_words.append(word)        \n",
    "all_words = set(all_words)\n",
    "\n",
    "# Retrieve counts of each word for positive reviews\n",
    "pos_words = []\n",
    "for rev in reviews['review'].loc[reviews['positive'] == 1]:\n",
    "    for word in rev.split():\n",
    "        pos_words.append(word)   \n",
    "pos_counts = Counter(pos_words)\n",
    "\n",
    "# Retrieve counts of each word for negative reviews\n",
    "neg_words = []\n",
    "for rev in reviews['review'].loc[reviews['positive'] == 0]:\n",
    "    for word in rev.split():\n",
    "        neg_words.append(word)         \n",
    "neg_counts = Counter(neg_words)"
   ]
  },
  {
   "cell_type": "code",
   "execution_count": 9,
   "metadata": {},
   "outputs": [],
   "source": [
    "# Create a dataframe summarizing words by their frequencies in each type of review\n",
    "words['word'] = list(all_words)\n",
    "words = words.set_index('word')\n",
    "\n",
    "words['pos_count'] = 0\n",
    "for word in words.index:\n",
    "    if word in pos_counts:\n",
    "        words.at[word, 'pos_count'] = pos_counts[word]\n",
    "\n",
    "words['neg_count'] = 0\n",
    "for word in words.index:\n",
    "    if word in neg_counts:\n",
    "        words.at[word, 'neg_count'] = neg_counts[word]\n",
    "\n",
    "words['total_count'] = words['pos_count'] + words['neg_count']\n",
    "        \n",
    "words['is_positive'] = 0\n",
    "words.loc[words['neg_count'] < words['pos_count'], 'is_positive'] = 1\n",
    "\n",
    "words['delta'] = abs(words['pos_count'] - words['neg_count'])\n",
    "\n",
    "words['scaled_delta'] = words['delta'] / words['total_count']"
   ]
  },
  {
   "cell_type": "markdown",
   "metadata": {},
   "source": [
    "My first attempt at feature selection is in the cell below. Initially, I tried narrowing my list of keywords by including more of the criteria that I generated earlier (delta, weighted delta, etc.). However, I was essentially shooting in the dark with this method and my results were showing it. Eventually I just took an initial pass at features by filtering out words with very low frequencies, then used Chi2 & selectkbest to further hone the list."
   ]
  },
  {
   "cell_type": "code",
   "execution_count": 10,
   "metadata": {},
   "outputs": [
    {
     "name": "stdout",
     "output_type": "stream",
     "text": [
      "['one', 'did', 'which', 'to', 'it', 'in', 'pretty', 'both', 'when', 'just', 'scene', 'story', 'more', 'worth', 'writing', 'if', 'her', 'be', 'much', 'movies', 'who', 'awful', 'very', 'were', 'as', 'im', 'acting', 'or', 'also', 'work', 'dialogue', 'nothing', 'a', 'up', 'me', 'too', 'better', 'could', 'some', 'waste', 'them', 'by', 'do', 'characters', 'two', 'over', 'i', 'bad', 'at', 'thing', 'with', 'most', 'like', 'show', 'screen', 'thought', 'from', 'the', 'doesnt', 'anyone', 'on', 'cant', 'still', 'wonderful', 'films', 'such', 'that', 'this', 'short', 'how', 'say', 'music', 'watch', 'man', 'ever', 'being', 'out', 'worse', 'my', 'only', 'give', 'best', 'saw', 'an', 'you', 'have', 'art', 'really', 'see', 'stupid', 'think', 'of', 'performance', 'ive', 'he', 'years', 'interesting', 'again', 'go', 'film', 'would', 'actors', 'no', 'little', 'there', 'but', 'didnt', 'after', 'was', 'dont', 'and', 'character', 'recommend', 'totally', 'they', 'your', 'never', 'those', 'all', 'way', 'movie', 'right', 'their', 'watching', 'for', 'than', 'everything', 'is', 'can', 'about', 'here', 'get', 'seen', 'though', 'other', 'she', 'its', 'terrible', 'every', 'time', 'good', 'real', 'been', 'make', 'beautiful', 'ending', 'first', 'not', 'part', 'well', 'script', 'into', 'even', 'plot', 'any', 'enough', 'know', 'had', 'his', 'worst', 'people', 'because', 'are', 'look', 'what', 'so', 'has', 'line', 'will', '10', 'should', 'great', 'end', 'excellent', 'love', 'things', 'cast', 'many', 'funny', 'scenes', 'made']\n"
     ]
    }
   ],
   "source": [
    "keywords = []\n",
    "keywords = list(words.loc[((words['total_count']) > 10)].index)\n",
    "\n",
    "print(keywords)\n"
   ]
  },
  {
   "cell_type": "code",
   "execution_count": 11,
   "metadata": {},
   "outputs": [],
   "source": [
    "for key in keywords:\n",
    "    reviews_attmpt1[str(key)] = reviews_attmpt1.review.str.contains(\n",
    "        ' ' + str(key) + ' ',\n",
    "        case=False\n",
    "    )"
   ]
  },
  {
   "cell_type": "code",
   "execution_count": 12,
   "metadata": {},
   "outputs": [],
   "source": [
    "# Convert target to boolean\n",
    "reviews_attmpt1['positive'] = (reviews_attmpt1['positive'] == True)\n",
    "\n",
    "# Drop text of review\n",
    "reviews_attmpt1 = reviews_attmpt1.drop(['review'], axis=1)"
   ]
  },
  {
   "cell_type": "markdown",
   "metadata": {},
   "source": [
    "I'm leaving this in as an illustration of how my first attempt went, though I never overfit by this much – I narrowed features to lists of 15 or 20 using a variety of n and delta cutoffs before moving on to more appropriate feature selection methods."
   ]
  },
  {
   "cell_type": "code",
   "execution_count": 13,
   "metadata": {},
   "outputs": [
    {
     "name": "stdout",
     "output_type": "stream",
     "text": [
      "Number of mislabeled points out of a total 1000 points : 220\n"
     ]
    }
   ],
   "source": [
    "data = reviews_attmpt1[keywords]\n",
    "target = reviews_attmpt1['positive']\n",
    "\n",
    "# Our data is binary / boolean, so we're importing the Bernoulli classifier.\n",
    "from sklearn.naive_bayes import BernoulliNB\n",
    "\n",
    "# Instantiate our model and store it in a new variable.\n",
    "bnb = BernoulliNB()\n",
    "\n",
    "# Fit our model to the data.\n",
    "bnb.fit(data, target)\n",
    "\n",
    "# Classify, storing the result in a new variable.\n",
    "y_pred = bnb.predict(data)\n",
    "\n",
    "# Display our results.\n",
    "print(\"Number of mislabeled points out of a total {} points : {}\".format(\n",
    "    data.shape[0],\n",
    "    (target != y_pred).sum()\n",
    "))"
   ]
  },
  {
   "cell_type": "markdown",
   "metadata": {},
   "source": [
    "### Second attempt at feature selection\n",
    "I wish I'd done this in the first place! I would've saved a few hours."
   ]
  },
  {
   "cell_type": "code",
   "execution_count": 14,
   "metadata": {},
   "outputs": [
    {
     "data": {
      "text/html": [
       "<div>\n",
       "<style>\n",
       "    .dataframe thead tr:only-child th {\n",
       "        text-align: right;\n",
       "    }\n",
       "\n",
       "    .dataframe thead th {\n",
       "        text-align: left;\n",
       "    }\n",
       "\n",
       "    .dataframe tbody tr th {\n",
       "        vertical-align: top;\n",
       "    }\n",
       "</style>\n",
       "<table border=\"1\" class=\"dataframe\">\n",
       "  <thead>\n",
       "    <tr style=\"text-align: right;\">\n",
       "      <th></th>\n",
       "      <th>positive</th>\n",
       "      <th>bad</th>\n",
       "      <th>wonderful</th>\n",
       "      <th>great</th>\n",
       "      <th>love</th>\n",
       "    </tr>\n",
       "  </thead>\n",
       "  <tbody>\n",
       "    <tr>\n",
       "      <th>0</th>\n",
       "      <td>False</td>\n",
       "      <td>False</td>\n",
       "      <td>False</td>\n",
       "      <td>False</td>\n",
       "      <td>False</td>\n",
       "    </tr>\n",
       "    <tr>\n",
       "      <th>1</th>\n",
       "      <td>False</td>\n",
       "      <td>False</td>\n",
       "      <td>False</td>\n",
       "      <td>False</td>\n",
       "      <td>False</td>\n",
       "    </tr>\n",
       "    <tr>\n",
       "      <th>2</th>\n",
       "      <td>False</td>\n",
       "      <td>False</td>\n",
       "      <td>False</td>\n",
       "      <td>False</td>\n",
       "      <td>False</td>\n",
       "    </tr>\n",
       "    <tr>\n",
       "      <th>3</th>\n",
       "      <td>False</td>\n",
       "      <td>False</td>\n",
       "      <td>False</td>\n",
       "      <td>False</td>\n",
       "      <td>False</td>\n",
       "    </tr>\n",
       "    <tr>\n",
       "      <th>4</th>\n",
       "      <td>True</td>\n",
       "      <td>False</td>\n",
       "      <td>False</td>\n",
       "      <td>False</td>\n",
       "      <td>False</td>\n",
       "    </tr>\n",
       "  </tbody>\n",
       "</table>\n",
       "</div>"
      ],
      "text/plain": [
       "   positive    bad  wonderful  great   love\n",
       "0     False  False      False  False  False\n",
       "1     False  False      False  False  False\n",
       "2     False  False      False  False  False\n",
       "3     False  False      False  False  False\n",
       "4      True  False      False  False  False"
      ]
     },
     "execution_count": 14,
     "metadata": {},
     "output_type": "execute_result"
    }
   ],
   "source": [
    "selector = SelectKBest(chi2, k=5)\n",
    "selector.fit(reviews_attmpt1,reviews_attmpt1['positive'])\n",
    "\n",
    "idxs_selected = selector.get_support(indices=True)\n",
    "reviews_attmpt1[reviews_attmpt1.columns[idxs_selected]].head()"
   ]
  },
  {
   "cell_type": "markdown",
   "metadata": {},
   "source": [
    "Running the model using these features works a lot better than the ones I grabbed in my first attempt."
   ]
  },
  {
   "cell_type": "code",
   "execution_count": 15,
   "metadata": {},
   "outputs": [],
   "source": [
    "keywords = ['positive', 'wonderful', 'bad', 'great', 'love']"
   ]
  },
  {
   "cell_type": "code",
   "execution_count": 16,
   "metadata": {
    "collapsed": true
   },
   "outputs": [],
   "source": [
    "for key in keywords:\n",
    "    reviews[str(key)] = reviews.review.str.contains(\n",
    "        ' ' + str(key) + ' ',\n",
    "        case=False\n",
    "    )"
   ]
  },
  {
   "cell_type": "code",
   "execution_count": 17,
   "metadata": {},
   "outputs": [
    {
     "data": {
      "image/png": "[encoded data removed]",
      "text/plain": [
       "<matplotlib.figure.Figure at 0x10be31160>"
      ]
     },
     "metadata": {},
     "output_type": "display_data"
    }
   ],
   "source": [
    "sns.heatmap(reviews.corr())\n",
    "plt.show()"
   ]
  },
  {
   "cell_type": "code",
   "execution_count": 18,
   "metadata": {},
   "outputs": [
    {
     "name": "stdout",
     "output_type": "stream",
     "text": [
      "Number of mislabeled points out of a total 1000 points : 1\n"
     ]
    }
   ],
   "source": [
    "data = reviews[keywords]\n",
    "target = reviews['positive']\n",
    "\n",
    "# Our data is binary / boolean, so we're importing the Bernoulli classifier.\n",
    "from sklearn.naive_bayes import BernoulliNB\n",
    "\n",
    "# Instantiate our model and store it in a new variable.\n",
    "bnb = BernoulliNB()\n",
    "\n",
    "# Fit our model to the data.\n",
    "bnb.fit(data, target)\n",
    "\n",
    "# Classify, storing the result in a new variable.\n",
    "y_pred = bnb.predict(data)\n",
    "\n",
    "# Display our results.\n",
    "print(\"Number of mislabeled points out of a total {} points : {}\".format(\n",
    "    data.shape[0],\n",
    "    (target != y_pred).sum()\n",
    "))"
   ]
  }
 ],
 "metadata": {
  "kernelspec": {
   "display_name": "Python 3",
   "language": "python",
   "name": "python3"
  },
  "language_info": {
   "codemirror_mode": {
    "name": "ipython",
    "version": 3
   },
   "file_extension": ".py",
   "mimetype": "text/x-python",
   "name": "python",
   "nbconvert_exporter": "python",
   "pygments_lexer": "ipython3",
   "version": "3.6.2"
  }
 },
 "nbformat": 4,
 "nbformat_minor": 2
}
