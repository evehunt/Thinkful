{
 "cells": [
  {
   "cell_type": "code",
   "execution_count": null,
   "metadata": {
    "collapsed": true
   },
   "outputs": [],
   "source": []
  },
  {
   "cell_type": "code",
   "execution_count": 2,
   "metadata": {},
   "outputs": [
    {
     "name": "stdout",
     "output_type": "stream",
     "text": [
      "\n",
      "Because the coin flips are independent, the probability of flipping each pattern is the same. It can be calculated by multiplying the probability of each flip together.\n",
      "0.5 * 0.5 * 0.5 * 0.5 = 0.0625\n"
     ]
    }
   ],
   "source": [
    "# Calculate the probability of flipping a balanced coin four times and \n",
    "# getting each pattern: HTTH, HHHH and TTHH.\n",
    "\n",
    "print(\"\\nBecause the coin flips are independent, the probability of flipping each pattern is the same. It can be calculated by multiplying the probability of each flip together.\")\n",
    "\n",
    "p_pattern = 0.5 * 0.5 * 0.5 * 0.5\n",
    "print(\"0.5 * 0.5 * 0.5 * 0.5 = \" + str(p_pattern))"
   ]
  },
  {
   "cell_type": "code",
   "execution_count": 6,
   "metadata": {},
   "outputs": [
    {
     "name": "stdout",
     "output_type": "stream",
     "text": [
      "\n",
      "p(not a man) = p(woman) = 0.5333333333333333\n"
     ]
    }
   ],
   "source": [
    "# If a list of people has 24 women and 21 men, then the probability of \n",
    "# choosing a man from the list is 21/45. What is the probability of not \n",
    "# choosing a man?\n",
    "\n",
    "p_woman = 24 / 45\n",
    "print (\"\\np(not a man) = p(woman) = \" + str(p_woman))"
   ]
  },
  {
   "cell_type": "code",
   "execution_count": 11,
   "metadata": {},
   "outputs": [
    {
     "name": "stdout",
     "output_type": "stream",
     "text": [
      "\n",
      "The answer requires knowledge about how many times Bernice would travel by plane. However, assuming that the 10% flight chance refers to a 10% chance that he will fly once:\n",
      "0.1 * 0.005 = 0.0005\n"
     ]
    }
   ],
   "source": [
    "# The probability that Bernice will travel by plane sometime in the next \n",
    "# year is 10%. The probability of a plane crash at any time is .005%. \n",
    "# What is the probability that Bernice will be in a plane crash \n",
    "# sometime in the next year?\n",
    "\n",
    "print(\"\\nThe answer requires knowledge about how many times Bernice would travel by plane. However, assuming that the 10% flight chance refers to a 10% chance that he will fly once:\")\n",
    "\n",
    "p_crash = 0.1 * 0.005\n",
    "print(\"0.1 * 0.005 = \" + str(p_crash))"
   ]
  },
  {
   "cell_type": "code",
   "execution_count": 13,
   "metadata": {},
   "outputs": [
    {
     "name": "stdout",
     "output_type": "stream",
     "text": [
      "\n",
      "The sample suffers from selection bias; users who are more likely to fill out a survey when prompted are also more likely to spend more time on the website.\n"
     ]
    }
   ],
   "source": [
    "# A data scientist wants to study the behavior of users on \n",
    "# the company website. Each time a user clicks on a link on \n",
    "# the website, there is a 5% chance that the user will be \n",
    "# asked to complete a short survey about their behavior on \n",
    "# the website. The data scientist uses the survey data to \n",
    "# conclude that, on average, users spend 15 minutes surfing \n",
    "# the company website before moving on to other things. \n",
    "# What is wrong with this conclusion?\n",
    "\n",
    "print(\"\\nThe sample suffers from selection bias; users who are more likely to fill out a survey when prompted are also more likely to spend more time on the website.\")"
   ]
  }
 ],
 "metadata": {
  "kernelspec": {
   "display_name": "Python 3",
   "language": "python",
   "name": "python3"
  },
  "language_info": {
   "codemirror_mode": {
    "name": "ipython",
    "version": 3
   },
   "file_extension": ".py",
   "mimetype": "text/x-python",
   "name": "python",
   "nbconvert_exporter": "python",
   "pygments_lexer": "ipython3",
   "version": "3.6.2"
  }
 },
 "nbformat": 4,
 "nbformat_minor": 2
}
